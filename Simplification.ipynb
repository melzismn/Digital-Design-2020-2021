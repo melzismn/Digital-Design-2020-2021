{
  "nbformat": 4,
  "nbformat_minor": 0,
  "metadata": {
    "colab": {
      "name": "Simplification.ipynb",
      "provenance": [],
      "collapsed_sections": [],
      "authorship_tag": "ABX9TyOfwfXLlQnn8U/51GfySCu3",
      "include_colab_link": true
    },
    "kernelspec": {
      "name": "python3",
      "display_name": "Python 3"
    },
    "language_info": {
      "name": "python"
    }
  },
  "cells": [
    {
      "cell_type": "markdown",
      "metadata": {
        "id": "view-in-github",
        "colab_type": "text"
      },
      "source": [
        "<a href=\"https://colab.research.google.com/github/melzismn/Digital-Design-2020-2021/blob/master/Simplification.ipynb\" target=\"_parent\"><img src=\"https://colab.research.google.com/assets/colab-badge.svg\" alt=\"Open In Colab\"/></a>"
      ]
    },
    {
      "cell_type": "code",
      "metadata": {
        "id": "lqhj7V8xyTfY"
      },
      "source": [
        "# ONLY FOR COLAB\n",
        "# Not required in Binder\n",
        "\n",
        "!wget -c https://repo.anaconda.com/miniconda/Miniconda3-4.5.4-Linux-x86_64.sh\n",
        "!chmod +x Miniconda3-4.5.4-Linux-x86_64.sh\n",
        "!bash ./Miniconda3-4.5.4-Linux-x86_64.sh -b -f -p /usr/local\n",
        "\n",
        "!conda install -q -y --prefix /usr/local python=3.6 ujson\n",
        "\n",
        "import sys\n",
        "sys.path.append('/usr/local/lib/python3.6/site-packages')\n",
        "\n",
        "import ujson\n",
        "print(ujson.dumps({1:2}))\n",
        "\n",
        "!conda install -c conda-forge igl\n",
        "!conda install -c conda-forge meshplot"
      ],
      "execution_count": null,
      "outputs": []
    },
    {
      "cell_type": "code",
      "metadata": {
        "id": "l94ELzA_ybeM"
      },
      "source": [
        "import igl\n",
        "import scipy as sp\n",
        "import numpy as np\n",
        "from meshplot import plot, subplot, interact\n",
        "from scipy.sparse.linalg import eigsh\n",
        "from scipy.sparse import csr_matrix\n",
        "import os \n",
        "from sklearn.cluster import KMeans"
      ],
      "execution_count": null,
      "outputs": []
    },
    {
      "cell_type": "markdown",
      "metadata": {
        "id": "8DPtjF_AyY4o"
      },
      "source": [
        "# Read and visualize meshes\n",
        "\n",
        "There are several libraries to do Geometry Processing in Python. In this case we will use the python binding of [libigl](https://libigl.github.io/libigl-python-bindings/). Another nice library for 3D visualization is [Open3D](http://www.open3d.org/)."
      ]
    },
    {
      "cell_type": "code",
      "metadata": {
        "id": "YcpZeT-kyfFF"
      },
      "source": [
        "# Read and plot mesh\n",
        "v, f = igl.read_triangle_mesh(os.path.join('.', \"T-Pose-Humans\", \"36_14_c0025.obj\"))\n",
        "plot(v, f)"
      ],
      "execution_count": null,
      "outputs": []
    },
    {
      "cell_type": "markdown",
      "metadata": {
        "id": "NAFqjSqwyh2i"
      },
      "source": [
        "# **Implement the edge contraction**\n",
        "\n",
        "From the paper:\n",
        "[\"Surface Simplification Using Quadric Error Metrics\"](https://www.cs.cmu.edu/~./garland/Papers/quadrics.pdf),\n",
        "Garland et al. "
      ]
    },
    {
      "cell_type": "code",
      "metadata": {
        "id": "3bJkx-r0ykMp"
      },
      "source": [
        "# Compute the homogeneous coordinates\n",
        "nv = v.shape[0]\n",
        "V = [v,np.ones((nv,1))]\n",
        "errors = np.zeros((nv,1))\n",
        "\n",
        "# Compute the Q matrices\n",
        "for i in range(nv):\n",
        "  Qi = np.zeros(4)\n",
        "  faces = [np.where(f[:,0]==i),np.where(f[:,1]==i),np.where(f[:,2]==i)]\n",
        "  for t in range(faces.shape[0])\n",
        "    coeff = V[,:] # solve the linear system to obtain the equation of the plane that contains t\n",
        "    Qi = Qi + np.matmul(coeff,coeff.T) \n",
        "  errors[i] = np.matmul(vi.T,np.matmul(Qi,vi))\n",
        "\n"
      ],
      "execution_count": null,
      "outputs": []
    }
  ]
}