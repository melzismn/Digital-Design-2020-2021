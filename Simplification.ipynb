{
  "nbformat": 4,
  "nbformat_minor": 0,
  "metadata": {
    "colab": {
      "name": "Simplification.ipynb",
      "provenance": [],
      "collapsed_sections": [],
      "authorship_tag": "ABX9TyOJw4opgSEZV3MvJ40em3rJ",
      "include_colab_link": true
    },
    "kernelspec": {
      "name": "python3",
      "display_name": "Python 3"
    },
    "language_info": {
      "name": "python"
    }
  },
  "cells": [
    {
      "cell_type": "markdown",
      "metadata": {
        "id": "view-in-github",
        "colab_type": "text"
      },
      "source": [
        "<a href=\"https://colab.research.google.com/github/melzismn/Digital-Design-2020-2021/blob/master/Simplification.ipynb\" target=\"_parent\"><img src=\"https://colab.research.google.com/assets/colab-badge.svg\" alt=\"Open In Colab\"/></a>"
      ]
    },
    {
      "cell_type": "code",
      "metadata": {
        "id": "lqhj7V8xyTfY"
      },
      "source": [
        "# ONLY FOR COLAB\n",
        "# Not required in Binder\n",
        "\n",
        "!wget -c https://repo.anaconda.com/miniconda/Miniconda3-4.5.4-Linux-x86_64.sh\n",
        "!chmod +x Miniconda3-4.5.4-Linux-x86_64.sh\n",
        "!bash ./Miniconda3-4.5.4-Linux-x86_64.sh -b -f -p /usr/local\n",
        "\n",
        "!conda install -q -y --prefix /usr/local python=3.6 ujson\n",
        "\n",
        "import sys\n",
        "sys.path.append('/usr/local/lib/python3.6/site-packages')\n",
        "\n",
        "import ujson\n",
        "print(ujson.dumps({1:2}))\n",
        "\n",
        "!conda install -c conda-forge igl\n",
        "!conda install -c conda-forge meshplot"
      ],
      "execution_count": null,
      "outputs": []
    },
    {
      "cell_type": "code",
      "metadata": {
        "id": "l94ELzA_ybeM"
      },
      "source": [
        " !pip install --upgrade --force-reinstall Pillow\n",
        "\n",
        "import igl\n",
        "import scipy as sp\n",
        "import numpy as np\n",
        "from meshplot import plot, subplot, interact\n",
        "from scipy.sparse.linalg import eigsh\n",
        "from scipy.sparse import csr_matrix\n",
        "import os \n",
        "from sklearn.cluster import KMeans"
      ],
      "execution_count": null,
      "outputs": []
    },
    {
      "cell_type": "markdown",
      "metadata": {
        "id": "8DPtjF_AyY4o"
      },
      "source": [
        "# Read and visualize meshes\n",
        "\n",
        "There are several libraries to do Geometry Processing in Python. In this case we will use the python binding of [libigl](https://libigl.github.io/libigl-python-bindings/). Another nice library for 3D visualization is [Open3D](http://www.open3d.org/)."
      ]
    },
    {
      "cell_type": "code",
      "metadata": {
        "id": "YcpZeT-kyfFF"
      },
      "source": [
        "# Read and plot mesh\n",
        "v, f = igl.read_triangle_mesh(os.path.join('.', \"data\", \"bunny.off\"))\n",
        "plot(v, f)"
      ],
      "execution_count": null,
      "outputs": []
    },
    {
      "cell_type": "markdown",
      "metadata": {
        "id": "3fuqKSkwHPNs"
      },
      "source": [
        "# **Compute the edge list**\n",
        "Once you have the edge list you can compute the number of vertices, the number of edges and the number of faces.\n",
        "Then you can check all the fiormula that we see during the lecture.\n"
      ]
    },
    {
      "cell_type": "code",
      "metadata": {
        "id": "ElQDV8UeM5cp"
      },
      "source": [
        "e_raw = np.concatenate((np.concatenate((np.expand_dims(f[:,0],axis=1),np.expand_dims(f[:,1],axis=1)),axis=1),np.concatenate((np.expand_dims(f[:,1],axis=1),np.expand_dims(f[:,2],axis=1)),axis=1),np.concatenate((np.expand_dims(f[:,2],axis=1),np.expand_dims(f[:,0],axis=1)),axis=1)), axis=0)\n",
        "e = np.unique(np.sort(e_raw,axis=1), axis=0)\n",
        "nv = v.shape[0]\n",
        "ne = e.shape[0]\n",
        "nf = f.shape[0]\n"
      ],
      "execution_count": null,
      "outputs": []
    },
    {
      "cell_type": "markdown",
      "metadata": {
        "id": "NAFqjSqwyh2i"
      },
      "source": [
        "# **Implement the edge contraction**\n",
        "The simplest implementation"
      ]
    },
    {
      "cell_type": "code",
      "metadata": {
        "id": "3bJkx-r0ykMp"
      },
      "source": [
        "errors = np.zeros((nv,1))\n",
        "vnew = v;\n",
        "fnew = f;\n",
        "enew = e;\n",
        "nvnew = nv\n",
        "nenew = ne\n",
        "nv_to_remove = 500\n",
        " \n",
        "    \n",
        "for i in range(0,nv_to_remove):\n",
        "    edge_length = np.linalg.norm(vnew[enew[:,0],:]-vnew[enew[:,1],:],axis=1)\n",
        "    \n",
        "    shorter = np.argmin(edge_length)\n",
        "    v_to_remove = enew[shorter,0]\n",
        "    v_to_save = enew[shorter,1]\n",
        "    \n",
        "    vnew = np.delete(vnew, v_to_remove, 0)\n",
        "    fnew[fnew == v_to_remove] = v_to_save\n",
        "    \n",
        "    mask = np.sum(fnew == v_to_save, axis=1)\n",
        "    fnew = np.delete(fnew, mask>1, 0)\n",
        "    \n",
        "    fnew[fnew > v_to_remove] -=1\n",
        "    enew_raw = np.concatenate((np.concatenate((np.expand_dims(fnew[:,0],axis=1),np.expand_dims(fnew[:,1],axis=1)),axis=1),np.concatenate((np.expand_dims(fnew[:,1],axis=1),np.expand_dims(fnew[:,2],axis=1)),axis=1),np.concatenate((np.expand_dims(fnew[:,2],axis=1),np.expand_dims(fnew[:,0],axis=1)),axis=1)), axis=0)\n",
        "    enew = np.unique(np.sort(enew_raw,axis=1), axis=0)\n",
        "\n",
        "plot(vnew, fnew, shading={\"wireframe\": True})\n",
        "\n"
      ],
      "execution_count": null,
      "outputs": []
    },
    {
      "cell_type": "code",
      "metadata": {
        "id": "9SIxymHIyNvS"
      },
      "source": [
        "[v.shape[0], vnew.shape[0]]"
      ],
      "execution_count": null,
      "outputs": []
    }
  ]
}