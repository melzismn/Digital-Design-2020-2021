{
  "nbformat": 4,
  "nbformat_minor": 0,
  "metadata": {
    "colab": {
      "name": "LaplacianSmoothing.ipynb",
      "provenance": [],
      "authorship_tag": "ABX9TyNdig1v7KzYABbM23p2wWTg",
      "include_colab_link": true
    },
    "kernelspec": {
      "name": "python3",
      "display_name": "Python 3"
    },
    "language_info": {
      "name": "python"
    }
  },
  "cells": [
    {
      "cell_type": "markdown",
      "metadata": {
        "id": "view-in-github",
        "colab_type": "text"
      },
      "source": [
        "<a href=\"https://colab.research.google.com/github/melzismn/Digital-Design-2020-2021/blob/master/LaplacianSmoothing.ipynb\" target=\"_parent\"><img src=\"https://colab.research.google.com/assets/colab-badge.svg\" alt=\"Open In Colab\"/></a>"
      ]
    },
    {
      "cell_type": "code",
      "metadata": {
        "id": "lqhj7V8xyTfY"
      },
      "source": [
        "# ONLY FOR COLAB\n",
        "# Not required in Binder\n",
        "\n",
        "!wget -c https://repo.anaconda.com/miniconda/Miniconda3-4.5.4-Linux-x86_64.sh\n",
        "!chmod +x Miniconda3-4.5.4-Linux-x86_64.sh\n",
        "!bash ./Miniconda3-4.5.4-Linux-x86_64.sh -b -f -p /usr/local\n",
        "\n",
        "!conda install -q -y --prefix /usr/local python=3.6 ujson\n",
        "\n",
        "import sys\n",
        "sys.path.append('/usr/local/lib/python3.6/site-packages')\n",
        "\n",
        "import ujson\n",
        "print(ujson.dumps({1:2}))\n",
        "\n",
        "!conda install -c conda-forge igl\n",
        "!conda install -c conda-forge meshplot"
      ],
      "execution_count": null,
      "outputs": []
    },
    {
      "cell_type": "code",
      "metadata": {
        "id": "l94ELzA_ybeM"
      },
      "source": [
        "import igl\n",
        "import scipy as sp\n",
        "import numpy as np\n",
        "from meshplot import plot, subplot, interact\n",
        "from scipy.sparse.linalg import eigsh\n",
        "from scipy.sparse import csr_matrix\n",
        "import os \n",
        "from sklearn.cluster import KMeans"
      ],
      "execution_count": null,
      "outputs": []
    },
    {
      "cell_type": "markdown",
      "metadata": {
        "id": "8DPtjF_AyY4o"
      },
      "source": [
        "# Read and visualize meshes\n",
        "\n",
        "There are several libraries to do Geometry Processing in Python. In this case we will use the python binding of [libigl](https://libigl.github.io/libigl-python-bindings/). Another nice library for 3D visualization is [Open3D](http://www.open3d.org/)."
      ]
    },
    {
      "cell_type": "code",
      "metadata": {
        "id": "YcpZeT-kyfFF"
      },
      "source": [
        "# Read and plot mesh\n",
        "v, f = igl.read_triangle_mesh(os.path.join('.', \"data\", \"bunny.off\"))\n",
        "H = igl.gaussian_curvature(v, f)\n",
        "plot(v, f, H)"
      ],
      "execution_count": null,
      "outputs": []
    },
    {
      "cell_type": "markdown",
      "metadata": {
        "id": "NAFqjSqwyh2i"
      },
      "source": [
        "# **Computing the Laplacian and Mass Matrix**\n",
        "\n",
        "Computing the cotangent matrix requires a bit of work (not really complicate, but boring). In this case we will use some ready methods."
      ]
    },
    {
      "cell_type": "code",
      "metadata": {
        "id": "3bJkx-r0ykMp"
      },
      "source": [
        "# Compute Laplacian and Area Matrix\n",
        "L = -igl.cotmatrix(v, f)\n",
        "M = igl.massmatrix(v, f, igl.MASSMATRIX_TYPE_VORONOI)\n",
        "\n",
        "invM = sp.sparse.linalg.inv(M)\n",
        "Delta = sp.sparse.csc_matrix.todense(sp.sparse.csr_matrix.dot(invM,L)) \n",
        "L = np.matmul(np.diag(1/np.diag(Delta)),Delta)"
      ],
      "execution_count": null,
      "outputs": []
    },
    {
      "cell_type": "markdown",
      "metadata": {
        "id": "pciRVchOym_5"
      },
      "source": [
        "# Laplacian smoothing\n",
        "\n",
        "The algorithm is simple, please refer to the slides!"
      ]
    },
    {
      "cell_type": "code",
      "metadata": {
        "id": "oHkeOyvryycx"
      },
      "source": [
        "# Coordinate after 5 iterations\n",
        "n_iter = 5\n",
        "alpha = 0.5\n",
        "\n",
        "V = v\n",
        "for i in range(n_iter):\n",
        "    Vnew = V - alpha*np.matmul(L,V)\n",
        "    V = Vnew\n",
        "    \n",
        "Hnew = igl.gaussian_curvature(Vnew, f)\n",
        "plot(Vnew, f, Hnew)"
      ],
      "execution_count": null,
      "outputs": []
    },
    {
      "cell_type": "code",
      "metadata": {
        "id": "r00lsmps96Vb"
      },
      "source": [
        "# Coordinate after 20 iterations\n",
        "n_iter = 20\n",
        "alpha = 0.5\n",
        "\n",
        "V = v\n",
        "for i in range(n_iter):\n",
        "    Vnew = V - alpha*np.matmul(L,V)\n",
        "    V = Vnew\n",
        "    \n",
        "Hnew = igl.gaussian_curvature(Vnew, f)\n",
        "plot(Vnew, f, Hnew)"
      ],
      "execution_count": null,
      "outputs": []
    }
  ]
}