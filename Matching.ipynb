{
  "nbformat": 4,
  "nbformat_minor": 0,
  "metadata": {
    "colab": {
      "name": "Matching.ipynb",
      "provenance": [],
      "collapsed_sections": [],
      "toc_visible": true,
      "authorship_tag": "ABX9TyOYuz7NE1XDzEKSnl6Xp6+Z",
      "include_colab_link": true
    },
    "kernelspec": {
      "name": "python3",
      "display_name": "Python 3"
    },
    "widgets": {
      "application/vnd.jupyter.widget-state+json": {
        "dc630156f8bc4703848ad155b5a1a820": {
          "model_module": "jupyter-threejs",
          "model_name": "RendererModel",
          "state": {
            "_view_name": "RendererView",
            "shadowMap": "IPY_MODEL_b10e33a500984982836677aa03c888cb",
            "_view_module": "jupyter-threejs",
            "physicallyCorrectLights": false,
            "_model_module_version": "^2.1.0",
            "_view_count": null,
            "autoClear": true,
            "sortObject": true,
            "_model_module": "jupyter-threejs",
            "maxMorphTargets": 8,
            "toneMapping": "LinearToneMapping",
            "layout": "IPY_MODEL_4e2390143e474827a055d04f7bcfe031",
            "clearOpacity": 1,
            "clearColor": "#000000",
            "gammaInput": false,
            "controls": [
              "IPY_MODEL_e630d8d985bc4fe59e071e97a298b23e"
            ],
            "camera": "IPY_MODEL_b11496686c1e44fbb7458b2e3e3ed0a1",
            "toneMappingWhitePoint": 1,
            "clippingPlanes": [],
            "autoClearColor": true,
            "_dom_classes": [],
            "_model_name": "RendererModel",
            "_height": 600,
            "gammaOutput": false,
            "toneMappingExposure": 1,
            "scene": "IPY_MODEL_5286e1f86ac74753b7895c644904b3f2",
            "background": "black",
            "_alpha": false,
            "autoClearDepth": true,
            "_pause_autorender": false,
            "maxMorphNormals": 4,
            "_antialias": true,
            "_width": 600,
            "autoClearStencil": true,
            "_view_module_version": "^2.1.0",
            "gammaFactor": 2,
            "localClippingEnabled": false,
            "background_opacity": 1,
            "_webgl_version": 2
          }
        }
      }
    }
  },
  "cells": [
    {
      "cell_type": "markdown",
      "metadata": {
        "id": "view-in-github",
        "colab_type": "text"
      },
      "source": [
        "<a href=\"https://colab.research.google.com/github/riccardomarin/SpectralShapeAnalysis/blob/master/Matching.ipynb\" target=\"_parent\"><img src=\"https://colab.research.google.com/assets/colab-badge.svg\" alt=\"Open In Colab\"/></a>"
      ]
    },
    {
      "cell_type": "code",
      "metadata": {
        "id": "j2yRvI6BmMg7",
        "colab_type": "code",
        "colab": {
          "base_uri": "https://localhost:8080/",
          "height": 1000
        },
        "outputId": "f57a5c32-9afe-4b19-feab-465e21a4a295"
      },
      "source": [
        "# ONLY FOR COLAB\n",
        "# Not required in Binder\n",
        "\n",
        "!wget -c https://repo.anaconda.com/miniconda/Miniconda3-4.5.4-Linux-x86_64.sh\n",
        "!chmod +x Miniconda3-4.5.4-Linux-x86_64.sh\n",
        "!bash ./Miniconda3-4.5.4-Linux-x86_64.sh -b -f -p /usr/local\n",
        "!conda install -q -y --prefix /usr/local python=3.6 ujson\n",
        "\n",
        "import sys\n",
        "sys.path.append('/usr/local/lib/python3.6/site-packages')\n",
        "\n",
        "import ujson\n",
        "print(ujson.dumps({1:2}))\n",
        "\n",
        "!conda install -c conda-forge igl\n",
        "!conda install -c conda-forge meshplot"
      ],
      "execution_count": 4,
      "outputs": [
        {
          "output_type": "stream",
          "text": [
            "--2020-07-26 21:00:32--  https://repo.anaconda.com/miniconda/Miniconda3-4.5.4-Linux-x86_64.sh\n",
            "Resolving repo.anaconda.com (repo.anaconda.com)... 104.16.131.3, 104.16.130.3, 2606:4700::6810:8203, ...\n",
            "Connecting to repo.anaconda.com (repo.anaconda.com)|104.16.131.3|:443... connected.\n",
            "HTTP request sent, awaiting response... 200 OK\n",
            "Length: 58468498 (56M) [application/x-sh]\n",
            "Saving to: ‘Miniconda3-4.5.4-Linux-x86_64.sh’\n",
            "\n",
            "Miniconda3-4.5.4-Li 100%[===================>]  55.76M   111MB/s    in 0.5s    \n",
            "\n",
            "2020-07-26 21:00:32 (111 MB/s) - ‘Miniconda3-4.5.4-Linux-x86_64.sh’ saved [58468498/58468498]\n",
            "\n",
            "PREFIX=/usr/local\n",
            "installing: python-3.6.5-hc3d631a_2 ...\n",
            "Python 3.6.5 :: Anaconda, Inc.\n",
            "installing: ca-certificates-2018.03.07-0 ...\n",
            "installing: conda-env-2.6.0-h36134e3_1 ...\n",
            "installing: libgcc-ng-7.2.0-hdf63c60_3 ...\n",
            "installing: libstdcxx-ng-7.2.0-hdf63c60_3 ...\n",
            "installing: libffi-3.2.1-hd88cf55_4 ...\n",
            "installing: ncurses-6.1-hf484d3e_0 ...\n",
            "installing: openssl-1.0.2o-h20670df_0 ...\n",
            "installing: tk-8.6.7-hc745277_3 ...\n",
            "installing: xz-5.2.4-h14c3975_4 ...\n",
            "installing: yaml-0.1.7-had09818_2 ...\n",
            "installing: zlib-1.2.11-ha838bed_2 ...\n",
            "installing: libedit-3.1.20170329-h6b74fdf_2 ...\n",
            "installing: readline-7.0-ha6073c6_4 ...\n",
            "installing: sqlite-3.23.1-he433501_0 ...\n",
            "installing: asn1crypto-0.24.0-py36_0 ...\n",
            "installing: certifi-2018.4.16-py36_0 ...\n",
            "installing: chardet-3.0.4-py36h0f667ec_1 ...\n",
            "installing: idna-2.6-py36h82fb2a8_1 ...\n",
            "installing: pycosat-0.6.3-py36h0a5515d_0 ...\n",
            "installing: pycparser-2.18-py36hf9f622e_1 ...\n",
            "installing: pysocks-1.6.8-py36_0 ...\n",
            "installing: ruamel_yaml-0.15.37-py36h14c3975_2 ...\n",
            "installing: six-1.11.0-py36h372c433_1 ...\n",
            "installing: cffi-1.11.5-py36h9745a5d_0 ...\n",
            "installing: setuptools-39.2.0-py36_0 ...\n",
            "installing: cryptography-2.2.2-py36h14c3975_0 ...\n",
            "installing: wheel-0.31.1-py36_0 ...\n",
            "installing: pip-10.0.1-py36_0 ...\n",
            "installing: pyopenssl-18.0.0-py36_0 ...\n",
            "installing: urllib3-1.22-py36hbe7ace6_0 ...\n",
            "installing: requests-2.18.4-py36he2e5f8d_1 ...\n",
            "installing: conda-4.5.4-py36_0 ...\n",
            "installation finished.\n",
            "WARNING:\n",
            "    You currently have a PYTHONPATH environment variable set. This may cause\n",
            "    unexpected behavior when running the Python interpreter in Miniconda3.\n",
            "    For best results, please verify that your PYTHONPATH only points to\n",
            "    directories of packages that are compatible with the Python interpreter\n",
            "    in Miniconda3: /usr/local\n",
            "Solving environment: ...working... done\n",
            "\n",
            "## Package Plan ##\n",
            "\n",
            "  environment location: /usr/local\n",
            "\n",
            "  added / updated specs: \n",
            "    - python=3.6\n",
            "    - ujson\n",
            "\n",
            "\n",
            "The following packages will be downloaded:\n",
            "\n",
            "    package                    |            build\n",
            "    ---------------------------|-----------------\n",
            "    wheel-0.34.2               |           py36_0          49 KB\n",
            "    libstdcxx-ng-9.1.0         |       hdf63c60_0         4.0 MB\n",
            "    zlib-1.2.11                |       h7b6447c_3         120 KB\n",
            "    libgcc-ng-9.1.0            |       hdf63c60_0         8.1 MB\n",
            "    tk-8.6.10                  |       hbc83047_0         3.2 MB\n",
            "    xz-5.2.5                   |       h7b6447c_0         438 KB\n",
            "    libedit-3.1.20191231       |       h14c3975_1         121 KB\n",
            "    sqlite-3.32.3              |       h62c20be_0         2.0 MB\n",
            "    pip-20.1.1                 |           py36_1         2.0 MB\n",
            "    ncurses-6.2                |       he6710b0_1         1.1 MB\n",
            "    _libgcc_mutex-0.1          |             main           3 KB\n",
            "    libffi-3.3                 |       he6710b0_2          54 KB\n",
            "    python-3.6.10              |       h7579374_2        33.9 MB\n",
            "    ca-certificates-2020.6.24  |                0         133 KB\n",
            "    ld_impl_linux-64-2.33.1    |       h53a641e_7         645 KB\n",
            "    openssl-1.1.1g             |       h7b6447c_0         3.8 MB\n",
            "    ujson-3.0.0                |   py36he6710b0_0          50 KB\n",
            "    certifi-2020.6.20          |           py36_0         160 KB\n",
            "    readline-8.0               |       h7b6447c_0         428 KB\n",
            "    setuptools-49.2.0          |           py36_0         929 KB\n",
            "    ------------------------------------------------------------\n",
            "                                           Total:        61.3 MB\n",
            "\n",
            "The following NEW packages will be INSTALLED:\n",
            "\n",
            "    _libgcc_mutex:    0.1-main               \n",
            "    ld_impl_linux-64: 2.33.1-h53a641e_7      \n",
            "    ujson:            3.0.0-py36he6710b0_0   \n",
            "\n",
            "The following packages will be UPDATED:\n",
            "\n",
            "    ca-certificates:  2018.03.07-0            --> 2020.6.24-0            \n",
            "    certifi:          2018.4.16-py36_0        --> 2020.6.20-py36_0       \n",
            "    libedit:          3.1.20170329-h6b74fdf_2 --> 3.1.20191231-h14c3975_1\n",
            "    libffi:           3.2.1-hd88cf55_4        --> 3.3-he6710b0_2         \n",
            "    libgcc-ng:        7.2.0-hdf63c60_3        --> 9.1.0-hdf63c60_0       \n",
            "    libstdcxx-ng:     7.2.0-hdf63c60_3        --> 9.1.0-hdf63c60_0       \n",
            "    ncurses:          6.1-hf484d3e_0          --> 6.2-he6710b0_1         \n",
            "    openssl:          1.0.2o-h20670df_0       --> 1.1.1g-h7b6447c_0      \n",
            "    pip:              10.0.1-py36_0           --> 20.1.1-py36_1          \n",
            "    python:           3.6.5-hc3d631a_2        --> 3.6.10-h7579374_2      \n",
            "    readline:         7.0-ha6073c6_4          --> 8.0-h7b6447c_0         \n",
            "    setuptools:       39.2.0-py36_0           --> 49.2.0-py36_0          \n",
            "    sqlite:           3.23.1-he433501_0       --> 3.32.3-h62c20be_0      \n",
            "    tk:               8.6.7-hc745277_3        --> 8.6.10-hbc83047_0      \n",
            "    wheel:            0.31.1-py36_0           --> 0.34.2-py36_0          \n",
            "    xz:               5.2.4-h14c3975_4        --> 5.2.5-h7b6447c_0       \n",
            "    zlib:             1.2.11-ha838bed_2       --> 1.2.11-h7b6447c_3      \n",
            "\n",
            "Preparing transaction: ...working... done\n",
            "Verifying transaction: ...working... done\n",
            "Executing transaction: ...working... done\n",
            "{\"1\":2}\n",
            "Solving environment: - \b\b\\ \b\b| \b\b/ \b\b- \b\b\\ \b\b| \b\b/ \b\b- \b\b\\ \b\b| \b\b/ \b\b- \b\b\\ \b\b| \b\b/ \b\b- \b\b\\ \b\b| \b\b/ \b\b- \b\b\\ \b\b| \b\b/ \b\b- \b\b\\ \b\b| \b\b/ \b\b- \b\b\\ \b\b| \b\b/ \b\b- \b\b\\ \b\b| \b\b/ \b\b- \b\b\\ \b\b| \b\b/ \b\b- \b\b\\ \b\b| \b\b/ \b\b- \b\b\\ \b\b| \b\b/ \b\b- \b\b\\ \b\b| \b\b/ \b\b- \b\b\\ \b\b| \b\b/ \b\b- \b\b\\ \b\b| \b\b/ \b\b- \b\b\\ \b\b| \b\b/ \b\b- \b\b\\ \b\b| \b\b/ \b\b- \b\b\\ \b\b| \b\b/ \b\b- \b\b\\ \b\b| \b\b/ \b\b- \b\b\\ \b\b| \b\b/ \b\b- \b\b\\ \b\b| \b\b/ \b\b- \b\b\\ \b\b| \b\b/ \b\b- \b\b\\ \b\b| \b\b/ \b\b- \b\b\\ \b\b| \b\b/ \b\b- \b\b\\ \b\b| \b\b/ \b\b- \b\b\\ \b\b| \b\b/ \b\b- \b\b\\ \b\b| \b\b/ \b\b- \b\b\\ \b\b| \b\b/ \b\b- \b\b\\ \b\b| \b\b/ \b\b- \b\b\\ \b\b| \b\b/ \b\b- \b\b\\ \b\b| \b\b/ \b\b- \b\b\\ \b\b| \b\b/ \b\b- \b\b\\ \b\b| \b\b/ \b\b- \b\b\\ \b\b| \b\b/ \b\b- \b\b\\ \b\b| \b\b/ \b\b- \b\b\\ \b\b| \b\b/ \b\b- \b\b\\ \b\b| \b\b/ \b\b- \b\b\\ \b\b| \b\b/ \b\b- \b\b\\ \b\b| \b\b/ \b\b- \b\b\\ \b\b| \b\b/ \b\b- \b\b\\ \b\b| \b\b/ \b\b- \b\b\\ \b\b| \b\b/ \b\b- \b\b\\ \b\b| \b\b/ \b\b- \b\b\\ \b\b| \b\b/ \b\b- \b\b\\ \b\b| \b\b/ \b\b- \b\b\\ \b\b| \b\b/ \b\b- \b\b\\ \b\b| \b\b/ \b\b- \b\b\\ \b\b| \b\b/ \b\b- \b\b\\ \b\b| \b\b/ \b\b- \b\b\\ \b\b| \b\b/ \b\b- \b\b\\ \b\b| \b\b/ \b\b- \b\b\\ \b\b| \b\b/ \b\b- \b\b\\ \b\b| \b\b/ \b\b- \b\b\\ \b\b| \b\b/ \b\b- \b\b\\ \b\b| \b\b/ \b\b- \b\b\\ \b\b| \b\b/ \b\b- \b\b\\ \b\b| \b\b/ \b\b- \b\b\\ \b\b| \b\b/ \b\b- \b\b\\ \b\b| \b\b/ \b\b- \b\b\\ \b\b| \b\b/ \b\b- \b\b\\ \b\b| \b\b/ \b\b- \b\b\\ \b\b| \b\b/ \b\b- \b\b\\ \b\b| \b\b/ \b\b- \b\b\\ \b\b| \b\b/ \b\b- \b\b\\ \b\b| \b\b/ \b\b- \b\b\\ \b\b| \b\b/ \b\b- \b\b\\ \b\b| \b\b/ \b\b- \b\b\\ \b\b| \b\b/ \b\b- \b\b\\ \b\b| \b\b/ \b\b- \b\b\\ \b\b| \b\b/ \b\b- \b\b\\ \b\b| \b\b/ \b\b- \b\b\\ \b\b| \b\b/ \b\b- \b\b\\ \b\b| \b\b/ \b\b- \b\b\\ \b\b| \b\b/ \b\b- \b\b\\ \b\b| \b\b/ \b\b- \b\b\\ \b\b| \b\b/ \b\b- \b\b\\ \b\b| \b\b/ \b\b- \b\b\\ \b\b| \b\b/ \b\b- \b\b\\ \b\b| \b\b/ \b\b- \b\b\\ \b\b| \b\b/ \b\b- \b\b\\ \b\b| \b\b/ \b\b- \b\b\\ \b\b| \b\b/ \b\b- \b\b\\ \b\b| \b\b/ \b\b- \b\b\\ \b\b| \b\b/ \b\b- \b\b\\ \b\b| \b\b/ \b\b- \b\b\\ \b\b| \b\b/ \b\b- \b\b\\ \b\b| \b\b/ \b\b- \b\b\\ \b\b| \b\b/ \b\b- \b\b\\ \b\b| \b\b/ \b\b- \b\b\\ \b\b| \b\b/ \b\b- \b\b\\ \b\b| \b\b/ \b\b- \b\b\\ \b\b| \b\b/ \b\b- \b\b\\ \b\b| \b\b/ \b\b- \b\b\\ \b\b| \b\b/ \b\b- \b\b\\ \b\b| \b\bdone\n",
            "\n",
            "\n",
            "==> WARNING: A newer version of conda exists. <==\n",
            "  current version: 4.5.4\n",
            "  latest version: 4.8.3\n",
            "\n",
            "Please update conda by running\n",
            "\n",
            "    $ conda update -n base conda\n",
            "\n",
            "\n",
            "\n",
            "## Package Plan ##\n",
            "\n",
            "  environment location: /usr/local\n",
            "\n",
            "  added / updated specs: \n",
            "    - igl\n",
            "\n",
            "\n",
            "The following packages will be downloaded:\n",
            "\n",
            "    package                    |            build\n",
            "    ---------------------------|-----------------\n",
            "    liblapack-3.8.0            |      17_openblas          11 KB  conda-forge\n",
            "    python_abi-3.6             |          1_cp36m           4 KB  conda-forge\n",
            "    certifi-2020.6.20          |   py36h9f0ad1d_0         151 KB  conda-forge\n",
            "    openssl-1.1.1g             |       h516909a_0         2.1 MB  conda-forge\n",
            "    libopenblas-0.3.10         |pthreads_hb3c22a3_4         7.8 MB  conda-forge\n",
            "    libcblas-3.8.0             |      17_openblas          11 KB  conda-forge\n",
            "    ca-certificates-2020.6.20  |       hecda079_0         145 KB  conda-forge\n",
            "    libblas-3.8.0              |      17_openblas          11 KB  conda-forge\n",
            "    igl-2.2.0                  |   py36h39f6697_0         9.3 MB  conda-forge\n",
            "    numpy-1.19.1               |   py36h7314795_0         5.2 MB  conda-forge\n",
            "    scipy-1.5.2                |   py36h3a855aa_0        18.6 MB  conda-forge\n",
            "    libgfortran-ng-7.5.0       |      hdf63c60_10         1.7 MB  conda-forge\n",
            "    ------------------------------------------------------------\n",
            "                                           Total:        45.0 MB\n",
            "\n",
            "The following NEW packages will be INSTALLED:\n",
            "\n",
            "    igl:             2.2.0-py36h39f6697_0       conda-forge\n",
            "    libblas:         3.8.0-17_openblas          conda-forge\n",
            "    libcblas:        3.8.0-17_openblas          conda-forge\n",
            "    libgfortran-ng:  7.5.0-hdf63c60_10          conda-forge\n",
            "    liblapack:       3.8.0-17_openblas          conda-forge\n",
            "    libopenblas:     0.3.10-pthreads_hb3c22a3_4 conda-forge\n",
            "    numpy:           1.19.1-py36h7314795_0      conda-forge\n",
            "    python_abi:      3.6-1_cp36m                conda-forge\n",
            "    scipy:           1.5.2-py36h3a855aa_0       conda-forge\n",
            "\n",
            "The following packages will be UPDATED:\n",
            "\n",
            "    certifi:         2020.6.20-py36_0                       --> 2020.6.20-py36h9f0ad1d_0 conda-forge\n",
            "    openssl:         1.1.1g-h7b6447c_0                      --> 1.1.1g-h516909a_0        conda-forge\n",
            "\n",
            "The following packages will be DOWNGRADED:\n",
            "\n",
            "    ca-certificates: 2020.6.24-0                            --> 2020.6.20-hecda079_0     conda-forge\n",
            "\n",
            "Proceed ([y]/n)? y\n",
            "\n",
            "\n",
            "Downloading and Extracting Packages\n",
            "liblapack-3.8.0      |   11 KB | : 100% 1.0/1 [00:00<00:00, 22.59it/s]\n",
            "python_abi-3.6       |    4 KB | : 100% 1.0/1 [00:00<00:00, 34.46it/s]\n",
            "certifi-2020.6.20    |  151 KB | : 100% 1.0/1 [00:00<00:00, 19.58it/s]\n",
            "openssl-1.1.1g       |  2.1 MB | : 100% 1.0/1 [00:00<00:00,  2.15it/s]               \n",
            "libopenblas-0.3.10   |  7.8 MB | : 100% 1.0/1 [00:01<00:00,  1.87s/it]               \n",
            "libcblas-3.8.0       |   11 KB | : 100% 1.0/1 [00:00<00:00, 31.66it/s]\n",
            "ca-certificates-2020 |  145 KB | : 100% 1.0/1 [00:00<00:00, 21.72it/s]\n",
            "libblas-3.8.0        |   11 KB | : 100% 1.0/1 [00:00<00:00, 33.52it/s]\n",
            "igl-2.2.0            |  9.3 MB | : 100% 1.0/1 [00:04<00:00,  4.12s/it]               \n",
            "numpy-1.19.1         |  5.2 MB | : 100% 1.0/1 [00:01<00:00,  1.76s/it]               \n",
            "scipy-1.5.2          | 18.6 MB | : 100% 1.0/1 [00:04<00:00,  4.80s/it]              \n",
            "libgfortran-ng-7.5.0 |  1.7 MB | : 100% 1.0/1 [00:00<00:00,  2.56it/s]               \n",
            "Preparing transaction: - \b\b\\ \b\bdone\n",
            "Verifying transaction: / \b\b- \b\b\\ \b\b| \b\b/ \b\b- \b\b\\ \b\b| \b\b/ \b\b- \b\b\\ \b\bdone\n",
            "Executing transaction: / \b\b- \b\b\\ \b\b| \b\bdone\n",
            "Solving environment: - \b\b\\ \b\b| \b\b/ \b\b- \b\b\\ \b\b| \b\b/ \b\b- \b\b\\ \b\b| \b\b/ \b\b- \b\b\\ \b\b| \b\b/ \b\b- \b\b\\ \b\b| \b\b/ \b\b- \b\b\\ \b\b| \b\b/ \b\b- \b\b\\ \b\b| \b\b/ \b\b- \b\b\\ \b\b| \b\b/ \b\b- \b\b\\ \b\b| \b\b/ \b\b- \b\b\\ \b\b| \b\b/ \b\b- \b\b\\ \b\b| \b\b/ \b\b- \b\b\\ \b\b| \b\b/ \b\b- \b\b\\ \b\b| \b\b/ \b\b- \b\b\\ \b\b| \b\b/ \b\b- \b\b\\ \b\b| \b\b/ \b\b- \b\b\\ \b\b| \b\b/ \b\b- \b\b\\ \b\b| \b\b/ \b\b- \b\b\\ \b\b| \b\b/ \b\b- \b\b\\ \b\b| \b\b/ \b\b- \b\b\\ \b\b| \b\b/ \b\b- \b\b\\ \b\b| \b\b/ \b\b- \b\b\\ \b\b| \b\b/ \b\b- \b\b\\ \b\b| \b\b/ \b\b- \b\b\\ \b\b| \b\b/ \b\b- \b\b\\ \b\b| \b\b/ \b\b- \b\b\\ \b\b| \b\b/ \b\b- \b\b\\ \b\b| \b\b/ \b\b- \b\b\\ \b\b| \b\b/ \b\b- \b\b\\ \b\b| \b\b/ \b\b- \b\b\\ \b\b| \b\b/ \b\b- \b\b\\ \b\b| \b\b/ \b\b- \b\b\\ \b\b| \b\b/ \b\b- \b\b\\ \b\b| \b\b/ \b\b- \b\b\\ \b\b| \b\b/ \b\b- \b\b\\ \b\b| \b\b/ \b\b- \b\b\\ \b\b| \b\b/ \b\b- \b\b\\ \b\b| \b\b/ \b\b- \b\b\\ \b\b| \b\b/ \b\b- \b\b\\ \b\b| \b\b/ \b\b- \b\b\\ \b\b| \b\b/ \b\b- \b\b\\ \b\b| \b\b/ \b\b- \b\b\\ \b\b| \b\b/ \b\b- \b\b\\ \b\b| \b\b/ \b\b- \b\b\\ \b\b| \b\b/ \b\b- \b\b\\ \b\b| \b\b/ \b\b- \b\b\\ \b\b| \b\b/ \b\b- \b\b\\ \b\b| \b\b/ \b\b- \b\b\\ \b\b| \b\b/ \b\b- \b\b\\ \b\b| \b\b/ \b\b- \b\b\\ \b\b| \b\b/ \b\b- \b\b\\ \b\b| \b\b/ \b\b- \b\b\\ \b\b| \b\b/ \b\b- \b\b\\ \b\b| \b\b/ \b\b- \b\b\\ \b\b| \b\b/ \b\b- \b\b\\ \b\b| \b\b/ \b\b- \b\b\\ \b\b| \b\b/ \b\b- \b\b\\ \b\b| \b\b/ \b\b- \b\b\\ \b\b| \b\b/ \b\b- \b\b\\ \b\b| \b\b/ \b\b- \b\b\\ \b\b| \b\b/ \b\b- \b\b\\ \b\b| \b\b/ \b\b- \b\b\\ \b\b| \b\b/ \b\b- \b\b\\ \b\b| \b\b/ \b\b- \b\b\\ \b\b| \b\b/ \b\b- \b\b\\ \b\b| \b\b/ \b\b- \b\b\\ \b\b| \b\b/ \b\b- \b\b\\ \b\b| \b\b/ \b\b- \b\b\\ \b\b| \b\b/ \b\b- \b\b\\ \b\b| \b\b/ \b\b- \b\b\\ \b\b| \b\b/ \b\b- \b\b\\ \b\b| \b\b/ \b\b- \b\b\\ \b\b| \b\b/ \b\b- \b\b\\ \b\b| \b\b/ \b\b- \b\b\\ \b\b| \b\b/ \b\b- \b\b\\ \b\b| \b\b/ \b\b- \b\b\\ \b\b| \b\b/ \b\b- \b\b\\ \b\b| \b\b/ \b\b- \b\b\\ \b\b| \b\b/ \b\b- \b\b\\ \b\b| \b\b/ \b\b- \b\b\\ \b\b| \b\b/ \b\b- \b\b\\ \b\b| \b\b/ \b\b- \b\b\\ \b\b| \b\b/ \b\b- \b\b\\ \b\b| \b\b/ \b\b- \b\b\\ \b\b| \b\b/ \b\b- \b\b\\ \b\b| \b\b/ \b\b- \b\b\\ \b\b| \b\b/ \b\b- \b\b\\ \b\b| \b\b/ \b\b- \b\b\\ \b\b| \b\b/ \b\b- \b\b\\ \b\b| \b\b/ \b\b- \b\b\\ \b\b| \b\b/ \b\b- \b\b\\ \b\b| \b\b/ \b\b- \b\b\\ \b\b| \b\b/ \b\b- \b\b\\ \b\b| \b\b/ \b\b- \b\b\\ \b\b| \b\b/ \b\b- \b\b\\ \b\b| \b\b/ \b\b- \b\b\\ \b\b| \b\b/ \b\b- \b\b\\ \b\b| \b\b/ \b\b- \b\b\\ \b\b| \b\b/ \b\b- \b\b\\ \b\b| \b\b/ \b\b- \b\b\\ \b\b| \b\b/ \b\b- \b\b\\ \b\b| \b\b/ \b\b- \b\b\\ \b\b| \b\b/ \b\b- \b\b\\ \b\b| \b\b/ \b\b- \b\b\\ \b\b| \b\b/ \b\b- \b\b\\ \b\b| \b\b/ \b\b- \b\b\\ \b\b| \b\b/ \b\b- \b\b\\ \b\b| \b\b/ \b\b- \b\b\\ \b\b| \b\b/ \b\b- \b\b\\ \b\b| \b\b/ \b\b- \b\b\\ \b\b| \b\b/ \b\b- \b\b\\ \b\b| \b\b/ \b\b- \b\b\\ \b\b| \b\b/ \b\b- \b\b\\ \b\b| \b\b/ \b\b- \b\b\\ \b\b| \b\b/ \b\b- \b\b\\ \b\b| \b\b/ \b\b- \b\b\\ \b\b| \b\b/ \b\b- \b\b\\ \b\b| \b\b/ \b\b- \b\b\\ \b\b| \b\b/ \b\b- \b\b\\ \b\b| \b\b/ \b\b- \b\b\\ \b\b| \b\b/ \b\b- \b\b\\ \b\b| \b\b/ \b\b- \b\b\\ \b\b| \b\b/ \b\b- \b\b\\ \b\b| \b\b/ \b\b- \b\b\\ \b\b| \b\b/ \b\b- \b\b\\ \b\b| \b\b/ \b\b- \b\b\\ \b\b| \b\b/ \b\b- \b\b\\ \b\b| \b\b/ \b\b- \b\b\\ \b\b| \b\b/ \b\b- \b\b\\ \b\b| \b\b/ \b\b- \b\b\\ \b\b| \b\b/ \b\b- \b\b\\ \b\b| \b\b/ \b\b- \b\b\\ \b\b| \b\b/ \b\b- \b\b\\ \b\b| \b\b/ \b\b- \b\b\\ \b\b| \b\b/ \b\b- \b\b\\ \b\b| \b\b/ \b\b- \b\b\\ \b\b| \b\b/ \b\b- \b\b\\ \b\b| \b\b/ \b\b- \b\b\\ \b\b| \b\b/ \b\b- \b\b\\ \b\b| \b\b/ \b\b- \b\b\\ \b\b| \b\b/ \b\b- \b\b\\ \b\b| \b\b/ \b\b- \b\b\\ \b\b| \b\b/ \b\b- \b\b\\ \b\b| \b\b/ \b\b- \b\b\\ \b\b| \b\b/ \b\b- \b\b\\ \b\b| \b\b/ \b\b- \b\b\\ \b\b| \b\b/ \b\b- \b\b\\ \b\b| \b\b/ \b\b- \b\b\\ \b\b| \b\b/ \b\b- \b\b\\ \b\b| \b\b/ \b\b- \b\b\\ \b\b| \b\b/ \b\b- \b\b\\ \b\b| \b\b/ \b\b- \b\b\\ \b\b| \b\b/ \b\b- \b\b\\ \b\b| \b\b/ \b\b- \b\b\\ \b\b| \b\b/ \b\b- \b\b\\ \b\b| \b\b/ \b\b- \b\b\\ \b\b| \b\b/ \b\b- \b\b\\ \b\b| \b\b/ \b\b- \b\b\\ \b\b| \b\b/ \b\b- \b\b\\ \b\b| \b\b/ \b\b- \b\b\\ \b\b| \b\b/ \b\b- \b\b\\ \b\b| \b\b/ \b\b- \b\b\\ \b\b| \b\b/ \b\b- \b\b\\ \b\b| \b\b/ \b\b- \b\b\\ \b\b| \b\b/ \b\b- \b\b\\ \b\b| \b\b/ \b\b- \b\b\\ \b\b| \b\b/ \b\b- \b\b\\ \b\b| \b\b/ \b\b- \b\b\\ \b\b| \b\b/ \b\b- \b\b\\ \b\b| \b\b/ \b\b- \b\b\\ \b\b| \b\b/ \b\b- \b\b\\ \b\b| \b\b/ \b\b- \b\b\\ \b\b| \b\b/ \b\b- \b\b\\ \b\b| \b\b/ \b\b- \b\b\\ \b\b| \b\b/ \b\b- \b\b\\ \b\b| \b\b/ \b\b- \b\b\\ \b\b| \b\b/ \b\b- \b\b\\ \b\b| \b\b/ \b\b- \b\b\\ \b\b| \b\b/ \b\b- \b\b\\ \b\b| \b\b/ \b\b- \b\b\\ \b\b| \b\b/ \b\b- \b\b\\ \b\b| \b\b/ \b\b- \b\b\\ \b\b| \b\b/ \b\b- \b\b\\ \b\b| \b\b/ \b\b- \b\b\\ \b\b| \b\b/ \b\b- \b\b\\ \b\b| \b\b/ \b\b- \b\b\\ \b\b| \b\b/ \b\b- \b\b\\ \b\b| \b\b/ \b\b- \b\b\\ \b\b| \b\b/ \b\b- \b\bdone\n",
            "\n",
            "\n",
            "==> WARNING: A newer version of conda exists. <==\n",
            "  current version: 4.5.4\n",
            "  latest version: 4.8.3\n",
            "\n",
            "Please update conda by running\n",
            "\n",
            "    $ conda update -n base conda\n",
            "\n",
            "\n",
            "\n",
            "## Package Plan ##\n",
            "\n",
            "  environment location: /usr/local\n",
            "\n",
            "  added / updated specs: \n",
            "    - meshplot\n",
            "\n",
            "\n",
            "The following packages will be downloaded:\n",
            "\n",
            "    package                    |            build\n",
            "    ---------------------------|-----------------\n",
            "    jsonschema-3.2.0           |   py36h9f0ad1d_1          89 KB  conda-forge\n",
            "    ipydatawidgets-4.0.1       |     pyh9f0ad1d_1         140 KB  conda-forge\n",
            "    libpng-1.6.37              |       hed695b0_1         308 KB  conda-forge\n",
            "    importlib-metadata-1.7.0   |   py36h9f0ad1d_0          44 KB  conda-forge\n",
            "    jpeg-9d                    |       h516909a_0         266 KB  conda-forge\n",
            "    pexpect-4.8.0              |   py36h9f0ad1d_1          79 KB  conda-forge\n",
            "    ptyprocess-0.6.0           |          py_1001          15 KB  conda-forge\n",
            "    zstd-1.4.5                 |       h6597ccf_2         712 KB  conda-forge\n",
            "    matplotlib-3.3.0           |                1           6 KB  conda-forge\n",
            "    attrs-19.3.0               |             py_0          35 KB  conda-forge\n",
            "    importlib_metadata-1.7.0   |                0           3 KB  conda-forge\n",
            "    jupyter_core-4.6.3         |   py36h9f0ad1d_1          71 KB  conda-forge\n",
            "    zipp-3.1.0                 |             py_0          10 KB  conda-forge\n",
            "    nbformat-5.0.7             |             py_0          99 KB  conda-forge\n",
            "    packaging-20.4             |     pyh9f0ad1d_0          32 KB  conda-forge\n",
            "    prometheus_client-0.8.0    |     pyh9f0ad1d_0          44 KB  conda-forge\n",
            "    traitlets-4.3.3            |   py36h9f0ad1d_1         133 KB  conda-forge\n",
            "    olefile-0.46               |             py_0          31 KB  conda-forge\n",
            "    wcwidth-0.2.5              |     pyh9f0ad1d_0          33 KB  conda-forge\n",
            "    notebook-6.0.3             |   py36h9f0ad1d_1         6.3 MB  conda-forge\n",
            "    pygments-2.6.1             |             py_0         683 KB  conda-forge\n",
            "    nbconvert-5.6.1            |   py36h9f0ad1d_1         487 KB  conda-forge\n",
            "    pyparsing-2.4.7            |     pyh9f0ad1d_0          60 KB  conda-forge\n",
            "    ipykernel-5.3.4            |   py36h95af2a2_0         165 KB  conda-forge\n",
            "    backcall-0.2.0             |     pyh9f0ad1d_0          13 KB  conda-forge\n",
            "    send2trash-1.5.0           |             py_0          12 KB  conda-forge\n",
            "    testpath-0.4.4             |             py_0          85 KB  conda-forge\n",
            "    prompt-toolkit-3.0.5       |             py_1         233 KB  conda-forge\n",
            "    meshplot-0.4.0             |     pyh9f0ad1d_1          25 KB  conda-forge\n",
            "    pyzmq-19.0.1               |   py36h9947dbf_0         491 KB  conda-forge\n",
            "    pyrsistent-0.16.0          |   py36h8c4c3a4_0          89 KB  conda-forge\n",
            "    mistune-0.8.4              |py36h8c4c3a4_1001          53 KB  conda-forge\n",
            "    widgetsnbextension-3.5.1   |   py36h9f0ad1d_1         1.8 MB  conda-forge\n",
            "    zeromq-4.3.2               |       he1b5a44_2         668 KB  conda-forge\n",
            "    entrypoints-0.3            |py36h9f0ad1d_1001          12 KB  conda-forge\n",
            "    pickleshare-0.7.5          |py36h9f0ad1d_1001          13 KB  conda-forge\n",
            "    lcms2-2.11                 |       hbd6801e_0         431 KB  conda-forge\n",
            "    pythreejs-2.2.0            |     pyh8c360ce_0         3.8 MB  conda-forge\n",
            "    ipython_genutils-0.2.0     |             py_1          21 KB  conda-forge\n",
            "    pandocfilters-1.4.2        |             py_1           9 KB  conda-forge\n",
            "    jedi-0.17.2                |   py36h9f0ad1d_0         950 KB  conda-forge\n",
            "    bleach-3.1.5               |     pyh9f0ad1d_0         112 KB  conda-forge\n",
            "    libtiff-4.1.0              |       hc7e4089_6         668 KB  conda-forge\n",
            "    markupsafe-1.1.1           |   py36h8c4c3a4_1          26 KB  conda-forge\n",
            "    parso-0.7.1                |     pyh9f0ad1d_0          70 KB  conda-forge\n",
            "    ipython-7.16.1             |   py36h95af2a2_0         1.1 MB  conda-forge\n",
            "    jinja2-2.11.2              |     pyh9f0ad1d_0          93 KB  conda-forge\n",
            "    tornado-6.0.4              |   py36h8c4c3a4_1         639 KB  conda-forge\n",
            "    jupyter_client-6.1.6       |             py_0          75 KB  conda-forge\n",
            "    matplotlib-base-3.3.0      |   py36h5ffbc53_1         6.8 MB  conda-forge\n",
            "    decorator-4.4.2            |             py_0          11 KB  conda-forge\n",
            "    pandoc-2.10.1              |       h516909a_0        19.3 MB  conda-forge\n",
            "    libsodium-1.0.17           |       h516909a_0         330 KB  conda-forge\n",
            "    freetype-2.10.2            |       he06d7ca_0         905 KB  conda-forge\n",
            "    terminado-0.8.3            |   py36h9f0ad1d_1          23 KB  conda-forge\n",
            "    lz4-c-1.9.2                |       he1b5a44_1         226 KB  conda-forge\n",
            "    ipywidgets-7.5.1           |             py_0         101 KB  conda-forge\n",
            "    libwebp-base-1.1.0         |       h516909a_3         845 KB  conda-forge\n",
            "    pillow-7.2.0               |   py36h8328e55_1         670 KB  conda-forge\n",
            "    traittypes-0.2.1           |             py_1           8 KB  conda-forge\n",
            "    cycler-0.10.0              |             py_2           9 KB  conda-forge\n",
            "    webencodings-0.5.1         |             py_1          12 KB  conda-forge\n",
            "    python-dateutil-2.8.1      |             py_0         220 KB  conda-forge\n",
            "    kiwisolver-1.2.0           |   py36hdb11119_0          87 KB  conda-forge\n",
            "    defusedxml-0.6.0           |             py_0          22 KB  conda-forge\n",
            "    ------------------------------------------------------------\n",
            "                                           Total:        50.6 MB\n",
            "\n",
            "The following NEW packages will be INSTALLED:\n",
            "\n",
            "    attrs:              19.3.0-py_0             conda-forge\n",
            "    backcall:           0.2.0-pyh9f0ad1d_0      conda-forge\n",
            "    bleach:             3.1.5-pyh9f0ad1d_0      conda-forge\n",
            "    cycler:             0.10.0-py_2             conda-forge\n",
            "    decorator:          4.4.2-py_0              conda-forge\n",
            "    defusedxml:         0.6.0-py_0              conda-forge\n",
            "    entrypoints:        0.3-py36h9f0ad1d_1001   conda-forge\n",
            "    freetype:           2.10.2-he06d7ca_0       conda-forge\n",
            "    importlib-metadata: 1.7.0-py36h9f0ad1d_0    conda-forge\n",
            "    importlib_metadata: 1.7.0-0                 conda-forge\n",
            "    ipydatawidgets:     4.0.1-pyh9f0ad1d_1      conda-forge\n",
            "    ipykernel:          5.3.4-py36h95af2a2_0    conda-forge\n",
            "    ipython:            7.16.1-py36h95af2a2_0   conda-forge\n",
            "    ipython_genutils:   0.2.0-py_1              conda-forge\n",
            "    ipywidgets:         7.5.1-py_0              conda-forge\n",
            "    jedi:               0.17.2-py36h9f0ad1d_0   conda-forge\n",
            "    jinja2:             2.11.2-pyh9f0ad1d_0     conda-forge\n",
            "    jpeg:               9d-h516909a_0           conda-forge\n",
            "    jsonschema:         3.2.0-py36h9f0ad1d_1    conda-forge\n",
            "    jupyter_client:     6.1.6-py_0              conda-forge\n",
            "    jupyter_core:       4.6.3-py36h9f0ad1d_1    conda-forge\n",
            "    kiwisolver:         1.2.0-py36hdb11119_0    conda-forge\n",
            "    lcms2:              2.11-hbd6801e_0         conda-forge\n",
            "    libpng:             1.6.37-hed695b0_1       conda-forge\n",
            "    libsodium:          1.0.17-h516909a_0       conda-forge\n",
            "    libtiff:            4.1.0-hc7e4089_6        conda-forge\n",
            "    libwebp-base:       1.1.0-h516909a_3        conda-forge\n",
            "    lz4-c:              1.9.2-he1b5a44_1        conda-forge\n",
            "    markupsafe:         1.1.1-py36h8c4c3a4_1    conda-forge\n",
            "    matplotlib:         3.3.0-1                 conda-forge\n",
            "    matplotlib-base:    3.3.0-py36h5ffbc53_1    conda-forge\n",
            "    meshplot:           0.4.0-pyh9f0ad1d_1      conda-forge\n",
            "    mistune:            0.8.4-py36h8c4c3a4_1001 conda-forge\n",
            "    nbconvert:          5.6.1-py36h9f0ad1d_1    conda-forge\n",
            "    nbformat:           5.0.7-py_0              conda-forge\n",
            "    notebook:           6.0.3-py36h9f0ad1d_1    conda-forge\n",
            "    olefile:            0.46-py_0               conda-forge\n",
            "    packaging:          20.4-pyh9f0ad1d_0       conda-forge\n",
            "    pandoc:             2.10.1-h516909a_0       conda-forge\n",
            "    pandocfilters:      1.4.2-py_1              conda-forge\n",
            "    parso:              0.7.1-pyh9f0ad1d_0      conda-forge\n",
            "    pexpect:            4.8.0-py36h9f0ad1d_1    conda-forge\n",
            "    pickleshare:        0.7.5-py36h9f0ad1d_1001 conda-forge\n",
            "    pillow:             7.2.0-py36h8328e55_1    conda-forge\n",
            "    prometheus_client:  0.8.0-pyh9f0ad1d_0      conda-forge\n",
            "    prompt-toolkit:     3.0.5-py_1              conda-forge\n",
            "    ptyprocess:         0.6.0-py_1001           conda-forge\n",
            "    pygments:           2.6.1-py_0              conda-forge\n",
            "    pyparsing:          2.4.7-pyh9f0ad1d_0      conda-forge\n",
            "    pyrsistent:         0.16.0-py36h8c4c3a4_0   conda-forge\n",
            "    python-dateutil:    2.8.1-py_0              conda-forge\n",
            "    pythreejs:          2.2.0-pyh8c360ce_0      conda-forge\n",
            "    pyzmq:              19.0.1-py36h9947dbf_0   conda-forge\n",
            "    send2trash:         1.5.0-py_0              conda-forge\n",
            "    terminado:          0.8.3-py36h9f0ad1d_1    conda-forge\n",
            "    testpath:           0.4.4-py_0              conda-forge\n",
            "    tornado:            6.0.4-py36h8c4c3a4_1    conda-forge\n",
            "    traitlets:          4.3.3-py36h9f0ad1d_1    conda-forge\n",
            "    traittypes:         0.2.1-py_1              conda-forge\n",
            "    wcwidth:            0.2.5-pyh9f0ad1d_0      conda-forge\n",
            "    webencodings:       0.5.1-py_1              conda-forge\n",
            "    widgetsnbextension: 3.5.1-py36h9f0ad1d_1    conda-forge\n",
            "    zeromq:             4.3.2-he1b5a44_2        conda-forge\n",
            "    zipp:               3.1.0-py_0              conda-forge\n",
            "    zstd:               1.4.5-h6597ccf_2        conda-forge\n",
            "\n",
            "Proceed ([y]/n)? y\n",
            "\n",
            "\n",
            "Downloading and Extracting Packages\n",
            "jsonschema-3.2.0     |   89 KB | : 100% 1.0/1 [00:00<00:00,  8.98it/s]\n",
            "ipydatawidgets-4.0.1 |  140 KB | : 100% 1.0/1 [00:00<00:00, 10.60it/s]\n",
            "libpng-1.6.37        |  308 KB | : 100% 1.0/1 [00:00<00:00,  8.83it/s]              \n",
            "importlib-metadata-1 |   44 KB | : 100% 1.0/1 [00:00<00:00, 21.73it/s]\n",
            "jpeg-9d              |  266 KB | : 100% 1.0/1 [00:00<00:00,  9.99it/s]\n",
            "pexpect-4.8.0        |   79 KB | : 100% 1.0/1 [00:00<00:00, 16.35it/s]\n",
            "ptyprocess-0.6.0     |   15 KB | : 100% 1.0/1 [00:00<00:00, 32.49it/s]\n",
            "zstd-1.4.5           |  712 KB | : 100% 1.0/1 [00:00<00:00,  5.88it/s]               \n",
            "matplotlib-3.3.0     |    6 KB | : 100% 1.0/1 [00:00<00:00, 37.11it/s]\n",
            "attrs-19.3.0         |   35 KB | : 100% 1.0/1 [00:00<00:00, 21.78it/s]\n",
            "importlib_metadata-1 |    3 KB | : 100% 1.0/1 [00:00<00:00, 37.03it/s]\n",
            "jupyter_core-4.6.3   |   71 KB | : 100% 1.0/1 [00:00<00:00, 14.65it/s]\n",
            "zipp-3.1.0           |   10 KB | : 100% 1.0/1 [00:00<00:00, 34.94it/s]\n",
            "nbformat-5.0.7       |   99 KB | : 100% 1.0/1 [00:00<00:00, 13.23it/s]\n",
            "packaging-20.4       |   32 KB | : 100% 1.0/1 [00:00<00:00, 27.08it/s]\n",
            "prometheus_client-0. |   44 KB | : 100% 1.0/1 [00:00<00:00, 19.02it/s]\n",
            "traitlets-4.3.3      |  133 KB | : 100% 1.0/1 [00:00<00:00, 12.43it/s]\n",
            "olefile-0.46         |   31 KB | : 100% 1.0/1 [00:00<00:00, 29.78it/s]\n",
            "wcwidth-0.2.5        |   33 KB | : 100% 1.0/1 [00:00<00:00, 21.81it/s]\n",
            "notebook-6.0.3       |  6.3 MB | : 100% 1.0/1 [00:02<00:00,  2.16s/it]               \n",
            "pygments-2.6.1       |  683 KB | : 100% 1.0/1 [00:00<00:00,  2.78it/s]               \n",
            "nbconvert-5.6.1      |  487 KB | : 100% 1.0/1 [00:00<00:00,  4.36it/s]               \n",
            "pyparsing-2.4.7      |   60 KB | : 100% 1.0/1 [00:00<00:00, 25.26it/s]\n",
            "ipykernel-5.3.4      |  165 KB | : 100% 1.0/1 [00:00<00:00,  8.25it/s]\n",
            "backcall-0.2.0       |   13 KB | : 100% 1.0/1 [00:00<00:00, 31.62it/s]\n",
            "send2trash-1.5.0     |   12 KB | : 100% 1.0/1 [00:00<00:00,  3.66it/s] \n",
            "testpath-0.4.4       |   85 KB | : 100% 1.0/1 [00:00<00:00, 23.06it/s]\n",
            "prompt-toolkit-3.0.5 |  233 KB | : 100% 1.0/1 [00:00<00:00,  6.44it/s]               \n",
            "meshplot-0.4.0       |   25 KB | : 100% 1.0/1 [00:00<00:00,  2.70it/s]                \n",
            "pyzmq-19.0.1         |  491 KB | : 100% 1.0/1 [00:00<00:00,  3.80it/s]               \n",
            "pyrsistent-0.16.0    |   89 KB | : 100% 1.0/1 [00:00<00:00, 16.42it/s]\n",
            "mistune-0.8.4        |   53 KB | : 100% 1.0/1 [00:00<00:00, 15.01it/s]\n",
            "widgetsnbextension-3 |  1.8 MB | : 100% 1.0/1 [00:00<00:00,  1.81it/s]               \n",
            "zeromq-4.3.2         |  668 KB | : 100% 1.0/1 [00:00<00:00,  4.22it/s]               \n",
            "entrypoints-0.3      |   12 KB | : 100% 1.0/1 [00:00<00:00, 34.77it/s]\n",
            "pickleshare-0.7.5    |   13 KB | : 100% 1.0/1 [00:00<00:00, 37.99it/s]\n",
            "lcms2-2.11           |  431 KB | : 100% 1.0/1 [00:00<00:00,  8.04it/s]               \n",
            "pythreejs-2.2.0      |  3.8 MB | : 100% 1.0/1 [00:00<00:00,  1.15it/s]               \n",
            "ipython_genutils-0.2 |   21 KB | : 100% 1.0/1 [00:00<00:00, 31.29it/s]\n",
            "pandocfilters-1.4.2  |    9 KB | : 100% 1.0/1 [00:00<00:00, 36.66it/s]\n",
            "jedi-0.17.2          |  950 KB | : 100% 1.0/1 [00:00<00:00,  1.08it/s]               \n",
            "bleach-3.1.5         |  112 KB | : 100% 1.0/1 [00:00<00:00, 12.60it/s]\n",
            "libtiff-4.1.0        |  668 KB | : 100% 1.0/1 [00:00<00:00,  5.72it/s]               \n",
            "markupsafe-1.1.1     |   26 KB | : 100% 1.0/1 [00:00<00:00, 31.55it/s]\n",
            "parso-0.7.1          |   70 KB | : 100% 1.0/1 [00:00<00:00, 18.06it/s]\n",
            "ipython-7.16.1       |  1.1 MB | : 100% 1.0/1 [00:00<00:00,  1.79it/s]               \n",
            "jinja2-2.11.2        |   93 KB | : 100% 1.0/1 [00:00<00:00, 15.84it/s]\n",
            "tornado-6.0.4        |  639 KB | : 100% 1.0/1 [00:00<00:00,  3.41it/s]               \n",
            "jupyter_client-6.1.6 |   75 KB | : 100% 1.0/1 [00:00<00:00, 16.24it/s]\n",
            "matplotlib-base-3.3. |  6.8 MB | : 100% 1.0/1 [00:01<00:00,  1.83s/it]               \n",
            "decorator-4.4.2      |   11 KB | : 100% 1.0/1 [00:00<00:00, 32.37it/s]\n",
            "pandoc-2.10.1        | 19.3 MB | : 100% 1.0/1 [00:06<00:00,  6.48s/it]               \n",
            "libsodium-1.0.17     |  330 KB | : 100% 1.0/1 [00:00<00:00,  8.69it/s]               \n",
            "freetype-2.10.2      |  905 KB | : 100% 1.0/1 [00:00<00:00,  3.49it/s]               \n",
            "terminado-0.8.3      |   23 KB | : 100% 1.0/1 [00:00<00:00, 26.41it/s]\n",
            "lz4-c-1.9.2          |  226 KB | : 100% 1.0/1 [00:00<00:00, 10.57it/s]\n",
            "ipywidgets-7.5.1     |  101 KB | : 100% 1.0/1 [00:00<00:00, 15.92it/s]\n",
            "libwebp-base-1.1.0   |  845 KB | : 100% 1.0/1 [00:00<00:00,  4.52it/s]               \n",
            "pillow-7.2.0         |  670 KB | : 100% 1.0/1 [00:00<00:00,  3.85it/s]               \n",
            "traittypes-0.2.1     |    8 KB | : 100% 1.0/1 [00:00<00:00,  4.16it/s] \n",
            "cycler-0.10.0        |    9 KB | : 100% 1.0/1 [00:00<00:00, 37.73it/s]\n",
            "webencodings-0.5.1   |   12 KB | : 100% 1.0/1 [00:00<00:00, 24.70it/s]\n",
            "python-dateutil-2.8. |  220 KB | : 100% 1.0/1 [00:00<00:00, 15.54it/s]\n",
            "kiwisolver-1.2.0     |   87 KB | : 100% 1.0/1 [00:00<00:00, 23.33it/s]\n",
            "defusedxml-0.6.0     |   22 KB | : 100% 1.0/1 [00:00<00:00, 31.53it/s]\n",
            "Preparing transaction: | \b\b/ \b\b- \b\b\\ \b\b| \b\b/ \b\bdone\n",
            "Verifying transaction: \\ \b\b| \b\b/ \b\b- \b\b\\ \b\b| \b\b/ \b\b- \b\b\\ \b\b| \b\b/ \b\b- \b\b\\ \b\b| \b\b/ \b\b- \b\b\\ \b\b| \b\b/ \b\b- \b\bdone\n",
            "Executing transaction: | \b\b/ \b\b- \b\b\\ \b\b| \b\b/ \b\b- \b\b\\ \b\b| \b\b/ \b\b- \b\b\\ \b\b| \b\b/ \b\b- \b\b\\ \b\b| \b\b/ \b\b- \b\b\\ \b\b| \b\b/ \b\b- \b\b\\ \b\b| \b\b/ \b\b- \b\b\\ \b\b| \b\b/ \b\b- \b\b\\ \b\b| \b\b/ \b\b- \b\b\\ \b\b| \b\b/ \b\b- \b\b\\ \b\b| \b\b/ \b\b- \b\b\\ \b\b| \b\b/ \b\b- \b\b\\ \b\b| \b\b/ \b\b- \b\b\\ \b\b| \b\b/ \b\b- \b\b\\ \b\b| \b\b/ \b\b- \b\b\\ \b\b| \b\b/ \b\b- \b\b\\ \b\b| \b\b/ \b\b- \b\b\\ \b\b| \b\b/ \b\b- \b\b\\ \b\b| \b\b/ \b\b- \b\b\\ \b\b| \b\b/ \b\b- \b\b\\ \b\b| \b\b/ \b\b- \b\b\\ \b\b| \b\b/ \b\b- \b\b\\ \b\b| \b\b/ \b\b- \b\b\\ \b\b| \b\b/ \b\b- \b\b\\ \b\b| \b\b/ \b\b- \b\b\\ \b\b| \b\b/ \b\b- \b\b\\ \b\b| \b\b/ \b\b- \b\b\\ \b\b| \b\b/ \b\b- \b\b\\ \b\b| \b\b/ \b\b- \b\b\\ \b\b| \b\b/ \b\b- \b\b\\ \b\b| \b\b/ \b\b- \b\b\\ \b\b| \b\b/ \b\b- \b\b\\ \b\b| \b\b/ \b\b- \b\b\\ \b\b| \b\b/ \b\b- \b\b\\ \b\b| \b\b/ \b\b- \b\b\\ \b\b| \b\b/ \b\b- \b\b\\ \b\b| \b\b/ \b\b- \b\b\\ \b\b| \b\b/ \b\b- \b\b\\ \b\b| \b\b/ \b\b- \b\b\\ \b\b| \b\b/ \b\b- \b\b\\ \b\b| \b\b/ \b\b- \b\b\\ \b\b| \b\b/ \b\b- \b\b\\ \b\b| \b\b/ \b\b- \b\b\\ \b\b| \b\b/ \b\b- \b\b\\ \b\b| \b\b/ \b\b- \b\b\\ \b\b| \b\b/ \b\b- \b\b\\ \b\b| \b\b/ \b\b- \b\b\\ \b\b| \b\b/ \b\b- \b\b\\ \b\b| \b\b/ \b\b- \b\b\\ \b\b| \b\b/ \b\b- \b\b\\ \b\b| \b\b/ \b\b- \b\b\\ \b\b| \b\b/ \b\b- \b\b\\ \b\b| \b\b/ \b\b- \b\b\\ \b\b| \b\b/ \b\b- \b\b\\ \b\b| \b\b/ \b\b- \b\b\\ \b\b| \b\b/ \b\b- \b\b\\ \b\b| \b\b/ \b\b- \b\b\\ \b\b| \b\b/ \b\b- \b\b\\ \b\b| \b\b/ \b\b- \b\b\\ \b\b| \b\b/ \b\b- \b\b\\ \b\b| \b\b/ \b\b- \b\b\\ \b\b| \b\b/ \b\b- \b\b\\ \b\b| \b\b/ \b\b- \b\b\\ \b\b| \b\b/ \b\b- \b\b\\ \b\b| \b\b/ \b\b- \b\b\\ \b\b| \b\b/ \b\b- \b\b\\ \b\b| \b\b/ \b\b- \b\b\\ \b\b| \b\b/ \b\b- \b\b\\ \b\b| \b\b/ \b\b- \b\b\\ \b\b| \b\b/ \b\b- \b\b\\ \b\b| \b\b/ \b\b- \b\b\\ \b\b| \b\b/ \b\b- \b\b\\ \b\b| \b\b/ \b\b- \b\b\\ \b\b| \b\b/ \b\b- \b\b\\ \b\b| \b\b/ \b\b- \b\b\\ \b\b| \b\b/ \b\b- \b\b\\ \b\b| \b\b/ \b\b- \b\b\\ \b\b| \b\b/ \b\b- \b\b\\ \b\b| \b\b/ \b\b- \b\b\\ \b\b| \b\b/ \b\b- \b\b\\ \b\b| \b\b/ \b\b- \b\b\\ \b\b| \b\b/ \b\b- \b\b\\ \b\b| \b\b/ \b\b- \b\b\\ \b\b| \b\b/ \b\b- \b\b\\ \b\b| \b\b/ \b\b- \b\b\\ \b\b| \b\b/ \b\b- \b\b\\ \b\b| \b\b/ \b\b- \b\b\\ \b\b| \b\b/ \b\b- \b\b\\ \b\b| \b\b/ \b\b- \b\b\\ \b\b| \b\b/ \b\b- \b\b\\ \b\b| \b\b/ \b\b- \b\b\\ \b\b| \b\b/ \b\b- \b\b\\ \b\b| \b\b/ \b\b- \b\b\\ \b\b| \b\b/ \b\b- \b\b\\ \b\b| \b\b/ \b\b- \b\b\\ \b\b| \b\b/ \b\b- \b\b\\ \b\b| \b\b/ \b\b- \b\b\\ \b\b| \b\b/ \b\b- \b\b\\ \b\b| \b\b/ \b\b- \b\b\\ \b\b| \b\b/ \b\b- \b\b\\ \b\b| \b\b/ \b\b- \b\b\\ \b\b| \b\b/ \b\b- \b\b\\ \b\b| \b\b/ \b\b- \b\b\\ \b\b| \b\b/ \b\b- \b\b\\ \b\b| \b\b/ \b\b- \b\b\\ \b\b| \b\b/ \b\b- \b\b\\ \b\b| \b\b/ \b\b- \b\b\\ \b\b| \b\b/ \b\b- \b\b\\ \b\b| \b\b/ \b\b- \b\b\\ \b\b| \b\b/ \b\b- \b\b\\ \b\b| \b\b/ \b\b- \b\b\\ \b\b| Enabling notebook extension jupyter-js-widgets/extension...\n",
            "Paths used for configuration of notebook: \n",
            "    \t/usr/local/etc/jupyter/nbconfig/notebook.d/plotlywidget.json\n",
            "    \t/usr/local/etc/jupyter/nbconfig/notebook.d/widgetsnbextension.json\n",
            "    \t/usr/local/etc/jupyter/nbconfig/notebook.json\n",
            "Paths used for configuration of notebook: \n",
            "    \t/usr/local/etc/jupyter/nbconfig/notebook.d/plotlywidget.json\n",
            "    \t/usr/local/etc/jupyter/nbconfig/notebook.d/widgetsnbextension.json\n",
            "      - Validating: \u001b[32mOK\u001b[0m\n",
            "Paths used for configuration of notebook: \n",
            "    \t/usr/local/etc/jupyter/nbconfig/notebook.d/plotlywidget.json\n",
            "    \t/usr/local/etc/jupyter/nbconfig/notebook.d/widgetsnbextension.json\n",
            "    \t/usr/local/etc/jupyter/nbconfig/notebook.json\n",
            "\n",
            "\b\b/ \b\b- \b\b\\ \b\b| \b\b/ \b\b- \b\b\\ \b\b| \b\b/ \b\b- \b\b\\ \b\b| \b\b/ \b\b- \b\b\\ \b\b| \b\b/ \b\b- \b\b\\ \b\b| \b\b/ \b\b- \b\b\\ \b\b| \b\b/ \b\b- \b\b\\ \b\b| \b\b/ \b\b- \b\b\\ \b\b| \b\b/ \b\b- \b\b\\ \b\b| \b\b/ \b\b- \b\b\\ \b\b| \b\b/ \b\b- \b\b\\ \b\b| \b\b/ \b\b- \b\b\\ \b\b| \b\b/ \b\b- \b\b\\ \b\b| \b\b/ \b\b- \b\b\\ \b\b| \b\b/ \b\b- \b\b\\ \b\b| \b\b/ \b\b- \b\b\\ \b\b| \b\b/ \b\b- \b\b\\ \b\b| \b\b/ \b\b- \b\b\\ \b\b| \b\b/ \b\b- \b\b\\ \b\b| \b\b/ \b\b- \b\b\\ \b\b| \b\b/ \b\b- \b\b\\ \b\b| \b\b/ \b\b- \b\b\\ \b\b| \b\b/ \b\b- \b\b\\ \b\b| \b\b/ \b\b- \b\b\\ \b\b| \b\b/ \b\b- \b\b\\ \b\b| \b\b/ \b\b- \b\b\\ \b\b| \b\b/ \b\b- \b\b\\ \b\b| \b\b/ \b\b- \b\b\\ \b\b| \b\b/ \b\b- \b\b\\ \b\b| \b\b/ \b\b- \b\b\\ \b\b| \b\b/ \b\b- \b\b\\ \b\b| \b\b/ \b\b- \b\b\\ \b\b| \b\b/ \b\b- \b\b\\ \b\b| \b\b/ \b\b- \b\b\\ \b\b| \b\b/ \b\b- \b\b\\ \b\b| \b\b/ \b\b- \b\b\\ \b\b| \b\b/ \b\b- \b\b\\ \b\b| \b\b/ \b\b- \b\b\\ \b\b| \b\b/ \b\b- \b\b\\ \b\b| \b\b/ \b\b- \b\b\\ \b\b| \b\b/ \b\b- \b\b\\ \b\b| \b\b/ \b\b- \b\b\\ \b\b| \b\b/ \b\b- \b\b\\ \b\b| \b\b/ \b\b- \b\b\\ \b\b| \b\b/ \b\b- \b\b\\ \b\b| \b\b/ \b\b- \b\b\\ \b\b| \b\b/ \b\b- \b\b\\ \b\b| \b\b/ \b\b- \b\b\\ \b\b| \b\b/ \b\b- \b\b\\ \b\b| \b\b/ \b\b- \b\b\\ \b\b| \b\b/ \b\b- \b\b\\ \b\b| \b\b/ \b\b- \b\b\\ \b\b| \b\bdone\n"
          ],
          "name": "stdout"
        }
      ]
    },
    {
      "cell_type": "code",
      "metadata": {
        "id": "BpI4m_FcmS2V",
        "colab_type": "code",
        "colab": {}
      },
      "source": [
        "import igl\n",
        "import scipy as sp\n",
        "import numpy as np\n",
        "from meshplot import plot, subplot, interact\n",
        "import meshplot\n",
        "from scipy.sparse.linalg import eigs\n",
        "from scipy.sparse import csr_matrix\n",
        "import os \n",
        "from sklearn.cluster import KMeans"
      ],
      "execution_count": 5,
      "outputs": []
    },
    {
      "cell_type": "code",
      "metadata": {
        "id": "9rBPjw-0mXTL",
        "colab_type": "code",
        "colab": {}
      },
      "source": [
        "def plot_pair(v1, v2, f1, f2, c1, c2, color_ops = {}):\n",
        "    # Compute a scale factor\n",
        "    M1 = igl.massmatrix(v1, f1, igl.MASSMATRIX_TYPE_VORONOI)\n",
        "    M2 = igl.massmatrix(v2, f2, igl.MASSMATRIX_TYPE_VORONOI)\n",
        "    scale_factor = np.sqrt(np.sum(M2)/np.sum(M1))\n",
        "\n",
        "    # Align the shapes\n",
        "    v2 = v2 - np.mean(v2,axis=0)\n",
        "    v1_align = v1 * scale_factor + np.mean(v1,axis=0) + [0.7,-0.7,0.0]\n",
        "\n",
        "    # Merge the models\n",
        "    v_all = np.vstack((v1_align, v2))\n",
        "    f_all = np.vstack((f1, f2 + np.max(f1)+1))\n",
        "    c_all = np.vstack((c1, c2))\n",
        "    \n",
        "    plot(v_all, f_all, c_all, shading = color_ops)"
      ],
      "execution_count": 6,
      "outputs": []
    },
    {
      "cell_type": "markdown",
      "metadata": {
        "id": "UXJB3W56qLKr",
        "colab_type": "text"
      },
      "source": [
        "# WKS\n",
        "\n",
        "We will use the Wave Kernel Signature (WKS) descriptor to do the matching. Recall the formula:\n",
        "\n",
        "$K_E(x,x) = \\sum\\limits_{l=1}^{\\infty}e^{- \\frac{(log(E) - log(\\lambda_l))^2}{2\\sigma^2}} \\phi_l(x)^2 $\n",
        "\n",
        "Where:\n",
        "- $sigma = 7 \\delta$\n",
        "- $delta =  (e_{max} - e{min})/ M$\n",
        "- $e_{max} = log(E_N) - 2\\sigma$\n",
        "- $e_{min} = log(E_1) + 2\\sigma$\n",
        "- $E_N$ is the max eigenvalue in absolute value\n",
        "- $E_1$ is the min non-zero eigenvalue in absolute value\n",
        "- $M$ is the number of WKS scales\n",
        "\n",
        "The tasks are:\n",
        "- Read the meshes, compute the LBO eigenvectors\n",
        "- Define the WKS computation\n",
        "- Visualize the WKS scales on meshes\n",
        "- Perform the matching using WKS (Nearest-Neighbor in the descriptor space)\n",
        "- Visualize the matching (and compute the error)\n",
        "\n",
        "Are the descriptors coherent among the shapes, for different descriptor scales? Is the matching good? We can change the number of descriptors: does it impact the matching?"
      ]
    },
    {
      "cell_type": "code",
      "metadata": {
        "id": "K3prcCzJn1Cg",
        "colab_type": "code",
        "colab": {
          "base_uri": "https://localhost:8080/",
          "height": 85
        },
        "outputId": "2824c7b8-8353-4f79-c2b9-1c804990b384"
      },
      "source": [
        "v_src, f_src = igl.read_triangle_mesh(os.path.join('.', \"data\", \"tr_reg_089.off\"))\n",
        "\n",
        "\n",
        "L_src = igl.cotmatrix(v_src, f_src)\n",
        "M_src = igl.massmatrix(v_src, f_src, igl.MASSMATRIX_TYPE_VORONOI)\n",
        "\n",
        "evals_src, evecs_src = eigs(L_src,k=100,M=M_src,sigma=0)\n",
        "evecs_src = evecs_src.astype(np.float32)\n",
        "\n",
        "v_tar, f_tar = igl.read_triangle_mesh(os.path.join('.', \"data\", \"tr_reg_089.off\"))\n",
        "\n",
        "L_tar = igl.cotmatrix(v_tar, f_tar)\n",
        "M_tar = igl.massmatrix(v_tar, f_tar, igl.MASSMATRIX_TYPE_VORONOI)\n",
        "\n",
        "evals_tar, evecs_tar = eigs(L_tar,k=100,M=M_tar,sigma=0)\n",
        "evecs_tar = evecs_tar.astype(np.float32)"
      ],
      "execution_count": 9,
      "outputs": [
        {
          "output_type": "stream",
          "text": [
            "/usr/local/lib/python3.6/dist-packages/ipykernel_launcher.py:8: ComplexWarning: Casting complex values to real discards the imaginary part\n",
            "  \n",
            "/usr/local/lib/python3.6/dist-packages/ipykernel_launcher.py:16: ComplexWarning: Casting complex values to real discards the imaginary part\n",
            "  app.launch_new_instance()\n"
          ],
          "name": "stderr"
        }
      ]
    },
    {
      "cell_type": "code",
      "metadata": {
        "id": "xa35jY3hpwW5",
        "colab_type": "code",
        "colab": {}
      },
      "source": [
        "def WKS(vertices, Lambda, Phi, Area, wks_size = 100):\n",
        "    import numpy as np\n",
        "\n",
        "    n_evecs = Phi.shape[1]\n",
        "    absoluteEigenvalues = np.abs(Lambda)\n",
        "    emin = np.log(absoluteEigenvalues[1])\n",
        "    emax = np.log(absoluteEigenvalues[len(absoluteEigenvalues) - 1])\n",
        "    \n",
        "    D = np.matmul(Phi.T, Area.__matmul__(Phi**2))\n",
        "\n",
        "    s = 7 * (emax - emin) / wks_size\n",
        "    \n",
        "    emin = emin + 2 * s\n",
        "    emax = emax - 2 * s\n",
        "    es = np.linspace(emin, emax, wks_size)\n",
        "\n",
        "    T = np.exp(-np.square(\n",
        "        np.tile(np.reshape(np.log(absoluteEigenvalues), (n_evecs, 1)), (1, wks_size)) - np.tile(es.T, (n_evecs, 1))) / (\n",
        "                       2 * np.square(s)))\n",
        "    WKS = np.matmul(D,T)\n",
        "    WKS = np.dot(Phi, WKS)\n",
        "\n",
        "    return np.asarray(WKS)"
      ],
      "execution_count": 10,
      "outputs": []
    },
    {
      "cell_type": "code",
      "metadata": {
        "id": "YBG2ZKlHp1Jv",
        "colab_type": "code",
        "colab": {}
      },
      "source": [
        "D_src = WKS(v_src, evals_src, evecs_src, M_src, wks_size = 200)\n",
        "D_tar = WKS(v_tar, evals_tar, evecs_tar, M_tar, wks_size = 200)"
      ],
      "execution_count": 11,
      "outputs": []
    },
    {
      "cell_type": "code",
      "metadata": {
        "id": "Sfu49Cf01Xec",
        "colab_type": "code",
        "colab": {
          "base_uri": "https://localhost:8080/",
          "height": 17,
          "referenced_widgets": [
            "dc630156f8bc4703848ad155b5a1a820"
          ]
        },
        "outputId": "bd61f03e-0dfb-416b-9d9a-f63c5781315d"
      },
      "source": [
        "i = 199\n",
        "plot_pair(v_src, v_tar, f_src, f_tar, D_src[:,i:i+1], D_tar[:,i:i+1])"
      ],
      "execution_count": 12,
      "outputs": [
        {
          "output_type": "display_data",
          "data": {
            "application/vnd.jupyter.widget-view+json": {
              "model_id": "dc630156f8bc4703848ad155b5a1a820",
              "version_minor": 0,
              "version_major": 2
            },
            "text/plain": [
              "Renderer(camera=PerspectiveCamera(children=(DirectionalLight(color='white', intensity=0.6, position=(0.4063018…"
            ]
          },
          "metadata": {
            "tags": []
          }
        }
      ]
    },
    {
      "cell_type": "code",
      "metadata": {
        "id": "wWHhseWx1ZDm",
        "colab_type": "code",
        "colab": {}
      },
      "source": [
        "import scipy\n",
        "treesearch = scipy.spatial.cKDTree(D_src)\n",
        "p2p = treesearch.query(D_tar, k=1)[1]"
      ],
      "execution_count": 13,
      "outputs": []
    },
    {
      "cell_type": "code",
      "metadata": {
        "id": "RyRvBccW1aNc",
        "colab_type": "code",
        "colab": {}
      },
      "source": [
        "funz_ = (v_src - np.min(v_src,0))/np.tile((np.max(v_src,0)-np.min(v_src,0)),(np.size(v_src,0),1));\n",
        "colors = np.cos(funz_);\n",
        "funz = (colors-np.min(colors))/(np.max(colors) - np.min(colors));\n",
        "funz2 = funz[p2p]\n",
        "funz2"
      ],
      "execution_count": null,
      "outputs": []
    },
    {
      "cell_type": "code",
      "metadata": {
        "id": "gN3sxDPK1euO",
        "colab_type": "code",
        "colab": {}
      },
      "source": [
        "# subplot(v_src, f_src, funz,s=[1,2,0])\n",
        "# subplot(v_tar, f_tar, funz2,s=[1,2,1])\n",
        "\n",
        "plot_pair(v_src, v_tar, f_src, f_tar, funz,funz2)"
      ],
      "execution_count": null,
      "outputs": []
    },
    {
      "cell_type": "code",
      "metadata": {
        "id": "kiEFUB5w5eXl",
        "colab_type": "code",
        "colab": {}
      },
      "source": [
        "def my_WKS(evals, evecs, wks_size = 100):\n",
        "    abs_evals = np.abs(evals)\n",
        "    n_evecs = evecs.shape[1]\n",
        "    \n",
        "    emin = np.log(abs_evals[1])\n",
        "    emax = np.log(np.max(abs_evals))\n",
        "    sigma = 7 * (emax - emin) / wks_size\n",
        "    \n",
        "    emin = emin + 2 * sigma\n",
        "    emax = emax - 2 * sigma\n",
        "    \n",
        "    es = np.linspace(emin, emax, wks_size)\n",
        "    \n",
        "    for i in np.arange(1, n_evecs):\n",
        "        squared_evecs = evecs**2\n",
        "        exponential = np.square(np.exp(es[i]  - np.log(es[i])))/(2 * sigma)\n",
        "        \n",
        "    return exponential\n",
        "    \n",
        "e = my_WKS(evals_src, evecs_src, 100)\n",
        "e"
      ],
      "execution_count": null,
      "outputs": []
    },
    {
      "cell_type": "markdown",
      "metadata": {
        "id": "fkmqC8jZ59S-",
        "colab_type": "text"
      },
      "source": [
        "# Functional Maps\n",
        "\n",
        "Here we will use the Functional Maps framework. Given some descriptor $D$ on the first shape and $F$ on the second, we will compute our map $C$ such that: \\\\\n",
        "$ d = (\\phi_{src}^{T} A_{src} D)^T $ \\\\\n",
        "$ f = (\\phi_{tar}^{T} A_{tar} F)^T $ \\\\\n",
        "$ d C = f $ \\\\\n",
        "$ C = d^{-1} f $"
      ]
    },
    {
      "cell_type": "code",
      "metadata": {
        "id": "wTyopAGD583y",
        "colab_type": "code",
        "colab": {}
      },
      "source": [
        "d = (np.matmul(evecs_src.T, np.matmul( M_src.todense() , D_src))).T\n",
        "f = (np.matmul(evecs_tar.T, np.matmul( M_tar.todense() , D_tar))).T\n",
        "C = np.linalg.pinv(d) * f"
      ],
      "execution_count": 39,
      "outputs": []
    },
    {
      "cell_type": "code",
      "metadata": {
        "id": "_bn_qk_f-Weg",
        "colab_type": "code",
        "colab": {
          "base_uri": "https://localhost:8080/",
          "height": 285
        },
        "outputId": "9a9cb0bb-00c4-458e-ea72-cce0fa8e69cb"
      },
      "source": [
        "import matplotlib.pyplot as plt\n",
        "\n",
        "plt.imshow(C)\n",
        "plt.colorbar()\n",
        "plt.show()"
      ],
      "execution_count": 40,
      "outputs": [
        {
          "output_type": "display_data",
          "data": {
            "image/png": "[encoded data removed]",
            "text/plain": [
              "<Figure size 432x288 with 2 Axes>"
            ]
          },
          "metadata": {
            "tags": [],
            "needs_background": "light"
          }
        },
        {
          "output_type": "execute_result",
          "data": {
            "text/plain": [
              "(100, 6890)"
            ]
          },
          "metadata": {
            "tags": []
          },
          "execution_count": 40
        }
      ]
    },
    {
      "cell_type": "code",
      "metadata": {
        "id": "ObnDcw1x-Ytg",
        "colab_type": "code",
        "colab": {}
      },
      "source": [
        "treesearch = scipy.spatial.cKDTree(evecs_src)\n",
        "p2p = treesearch.query(evecs_tar * C, k=1)[1]"
      ],
      "execution_count": 41,
      "outputs": []
    },
    {
      "cell_type": "code",
      "metadata": {
        "id": "xgk5NvZOAEKa",
        "colab_type": "code",
        "colab": {
          "base_uri": "https://localhost:8080/",
          "height": 34
        },
        "outputId": "276fb215-384a-4978-e190-dd6ce4220130"
      },
      "source": [
        "p2p"
      ],
      "execution_count": 42,
      "outputs": [
        {
          "output_type": "execute_result",
          "data": {
            "text/plain": [
              "array([   0,    2,    2, ..., 3522, 3522, 3522])"
            ]
          },
          "metadata": {
            "tags": []
          },
          "execution_count": 42
        }
      ]
    },
    {
      "cell_type": "code",
      "metadata": {
        "id": "piGDB7xDAOnC",
        "colab_type": "code",
        "colab": {
          "base_uri": "https://localhost:8080/",
          "height": 34
        },
        "outputId": "9954edf9-6ca2-4838-88ed-c817bc5d3fee"
      },
      "source": [
        "import tensorflow as tf\n",
        "\n",
        "Ctf = tf.Variable(np.eye(100))\n",
        "adam = tf.optimizers.Adam(1e-1)\n",
        "\n",
        "for i in np.arange(0,10000):\n",
        "  with tf.GradientTape() as grad:\n",
        "    loss = tf.reduce_sum(tf.square(tf.transpose(tf.matmul(Ctf,d.T)) - f))\n",
        "\n",
        "dCtf = grad.gradient(loss,Ctf)\n",
        "adam.apply_gradients(zip([dCtf], [Ctf]))"
      ],
      "execution_count": 74,
      "outputs": [
        {
          "output_type": "execute_result",
          "data": {
            "text/plain": [
              "<tf.Variable 'UnreadVariable' shape=() dtype=int64, numpy=1>"
            ]
          },
          "metadata": {
            "tags": []
          },
          "execution_count": 74
        }
      ]
    },
    {
      "cell_type": "code",
      "metadata": {
        "id": "5EuZXbuxBM5F",
        "colab_type": "code",
        "colab": {
          "base_uri": "https://localhost:8080/",
          "height": 506
        },
        "outputId": "fb6f9d40-ac44-4892-bb93-8301978d68fa"
      },
      "source": [
        "plt.imshow(Ctf.numpy())\n",
        "plt.colorbar()\n",
        "plt.show()\n",
        "Ctf"
      ],
      "execution_count": 75,
      "outputs": [
        {
          "output_type": "display_data",
          "data": {
            "image/png": "[encoded data removed]",
            "text/plain": [
              "<Figure size 432x288 with 2 Axes>"
            ]
          },
          "metadata": {
            "tags": [],
            "needs_background": "light"
          }
        },
        {
          "output_type": "execute_result",
          "data": {
            "text/plain": [
              "<tf.Variable 'Variable:0' shape=(100, 100) dtype=float64, numpy=\n",
              "array([[ 8.99999999e-01, -1.00000001e-01, -9.99999929e-02, ...,\n",
              "        -1.00000001e-01, -9.99999996e-02, -1.00000001e-01],\n",
              "       [ 4.70217491e-06,  9.99999786e-01,  9.95989890e-08, ...,\n",
              "        -1.56323583e-07,  2.05174661e-07,  2.59869783e-07],\n",
              "       [-4.26118424e-08, -2.85767494e-08,  1.00000001e+00, ...,\n",
              "        -1.28063362e-08,  1.06323276e-08,  2.39749488e-09],\n",
              "       ...,\n",
              "       [-5.41412169e-06, -5.25383390e-07,  3.67475210e-09, ...,\n",
              "         9.99999867e-01,  9.14634148e-09, -2.30703216e-07],\n",
              "       [-9.99999996e-02,  9.99999957e-02, -9.99999478e-02, ...,\n",
              "         9.99999861e-02,  9.00000018e-01, -9.99999651e-02],\n",
              "       [ 5.97325062e-06,  6.31229449e-07, -2.77238358e-08, ...,\n",
              "         2.82661337e-07, -6.16596673e-08,  1.00000032e+00]])>"
            ]
          },
          "metadata": {
            "tags": []
          },
          "execution_count": 75
        }
      ]
    },
    {
      "cell_type": "code",
      "metadata": {
        "id": "D3x2hN1yCfEw",
        "colab_type": "code",
        "colab": {}
      },
      "source": [
        ""
      ],
      "execution_count": null,
      "outputs": []
    }
  ]
}