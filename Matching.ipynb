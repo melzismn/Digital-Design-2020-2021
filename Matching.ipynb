{
  "nbformat": 4,
  "nbformat_minor": 0,
  "metadata": {
    "colab": {
      "name": "Matching.ipynb",
      "provenance": [],
      "authorship_tag": "ABX9TyN/lAtkoqIN9cdt9BfKj6Po",
      "include_colab_link": true
    },
    "kernelspec": {
      "name": "python3",
      "display_name": "Python 3"
    }
  },
  "cells": [
    {
      "cell_type": "markdown",
      "metadata": {
        "id": "view-in-github",
        "colab_type": "text"
      },
      "source": [
        "<a href=\"https://colab.research.google.com/github/riccardomarin/SpectralShapeAnalysis/blob/master/Matching.ipynb\" target=\"_parent\"><img src=\"https://colab.research.google.com/assets/colab-badge.svg\" alt=\"Open In Colab\"/></a>"
      ]
    },
    {
      "cell_type": "code",
      "metadata": {
        "id": "j2yRvI6BmMg7",
        "colab_type": "code",
        "colab": {}
      },
      "source": [
        "# ONLY FOR COLAB\n",
        "# Not required in Binder\n",
        "\n",
        "!wget -c https://repo.anaconda.com/miniconda/Miniconda3-4.5.4-Linux-x86_64.sh\n",
        "!chmod +x Miniconda3-4.5.4-Linux-x86_64.sh\n",
        "!bash ./Miniconda3-4.5.4-Linux-x86_64.sh -b -f -p /usr/local\n",
        "!conda install -q -y --prefix /usr/local python=3.6 ujson\n",
        "\n",
        "import sys\n",
        "sys.path.append('/usr/local/lib/python3.6/site-packages')\n",
        "\n",
        "import ujson\n",
        "print(ujson.dumps({1:2}))\n",
        "\n",
        "!conda install -c conda-forge igl\n",
        "!conda install -c conda-forge meshplot"
      ],
      "execution_count": null,
      "outputs": []
    },
    {
      "cell_type": "code",
      "metadata": {
        "id": "BpI4m_FcmS2V",
        "colab_type": "code",
        "colab": {}
      },
      "source": [
        "import igl\n",
        "import scipy as sp\n",
        "import numpy as np\n",
        "from meshplot import plot, subplot, interact\n",
        "import meshplot\n",
        "from scipy.sparse.linalg import eigs\n",
        "from scipy.sparse import csr_matrix\n",
        "import os \n",
        "from sklearn.cluster import KMeans"
      ],
      "execution_count": null,
      "outputs": []
    },
    {
      "cell_type": "code",
      "metadata": {
        "id": "9rBPjw-0mXTL",
        "colab_type": "code",
        "colab": {}
      },
      "source": [
        "def plot_pair(v1, v2, f1, f2, c1, c2, color_ops = {}):\n",
        "    # Compute a scale factor\n",
        "    M1 = igl.massmatrix(v1, f1, igl.MASSMATRIX_TYPE_VORONOI)\n",
        "    M2 = igl.massmatrix(v2, f2, igl.MASSMATRIX_TYPE_VORONOI)\n",
        "    scale_factor = np.sqrt(np.sum(M2)/np.sum(M1))\n",
        "\n",
        "    # Align the shapes\n",
        "    v2 = v2 - np.mean(v2,axis=0)\n",
        "    v1_align = v1 * scale_factor + np.mean(v1,axis=0) + [0.7,-0.7,0.0]\n",
        "\n",
        "    # Merge the models\n",
        "    v_all = np.vstack((v1_align, v2))\n",
        "    f_all = np.vstack((f1, f2 + np.max(f1)+1))\n",
        "    c_all = np.vstack((c1, c2))\n",
        "    \n",
        "    plot(v_all, f_all, c_all, shading = color_ops)"
      ],
      "execution_count": null,
      "outputs": []
    },
    {
      "cell_type": "markdown",
      "metadata": {
        "id": "UXJB3W56qLKr",
        "colab_type": "text"
      },
      "source": [
        "# WKS\n",
        "\n",
        "We will use the Wave Kernel Signature (WKS) descriptor to do the matching. Recall the formula:\n",
        "\n",
        "$K_E(x,x) = \\sum\\limits_{l=1}^{\\infty}e^{- \\frac{(log(E) - log(\\lambda_l))^2}{2\\sigma^2}} \\phi_l(x)^2 $\n",
        "\n",
        "The tasks are:\n",
        "- Read the meshes, compute the LBO eigenvectors\n",
        "- Define the WKS computation\n",
        "- Visualize the WKS scales on meshes\n",
        "- Perform the matching using WKS (Nearest-Neighbor in the descriptor space)\n",
        "- Visualize the matching (and compute the error)\n",
        "\n",
        "Are the descriptors coherent among the shapes, for different descriptor scales? Is the matching good? We can change the number of descriptors: does it impact the matching?"
      ]
    },
    {
      "cell_type": "code",
      "metadata": {
        "id": "K3prcCzJn1Cg",
        "colab_type": "code",
        "colab": {}
      },
      "source": [
        "v_src, f_src = igl.read_triangle_mesh(os.path.join('.', \"data\", \"tr_reg_089.off\"))\n",
        "\n",
        "\n",
        "L_src = igl.cotmatrix(v_src, f_src)\n",
        "M_src = igl.massmatrix(v_src, f_src, igl.MASSMATRIX_TYPE_VORONOI)\n",
        "\n",
        "evals_src, evecs_src = eigs(L_src,k=100,M=M_src,sigma=0)\n",
        "evecs_src = evecs_src.astype(np.float32)\n",
        "\n",
        "v_tar, f_tar = igl.read_triangle_mesh(os.path.join('.', \"data\", \"3.obj\"))\n",
        "\n",
        "L_tar = igl.cotmatrix(v_tar, f_tar)\n",
        "M_tar = igl.massmatrix(v_tar, f_tar, igl.MASSMATRIX_TYPE_VORONOI)\n",
        "\n",
        "evals_tar, evecs_tar = eigs(L_tar,k=100,M=M_tar,sigma=0)\n",
        "evecs_tar = evecs_tar.astype(np.float32)"
      ],
      "execution_count": null,
      "outputs": []
    },
    {
      "cell_type": "code",
      "metadata": {
        "id": "xa35jY3hpwW5",
        "colab_type": "code",
        "colab": {}
      },
      "source": [
        "def WKS(vertices, Lambda, Phi, Area, wks_size = 100):\n",
        "    import numpy as np\n",
        "\n",
        "    n_evecs = Phi.shape[1]\n",
        "    absoluteEigenvalues = np.abs(Lambda)\n",
        "    emin = np.log(absoluteEigenvalues[1])\n",
        "    emax = np.log(absoluteEigenvalues[len(absoluteEigenvalues) - 1])\n",
        "    \n",
        "    D = np.matmul(Phi.T, Area.__matmul__(Phi**2))\n",
        "\n",
        "    s = 7 * (emax - emin) / wks_size\n",
        "    \n",
        "    emin = emin + 2 * s\n",
        "    emax = emax - 2 * s\n",
        "    es = np.linspace(emin, emax, wks_size)\n",
        "\n",
        "    T = np.exp(-np.square(\n",
        "        np.tile(np.reshape(np.log(absoluteEigenvalues), (n_evecs, 1)), (1, wks_size)) - np.tile(es.T, (n_evecs, 1))) / (\n",
        "                       2 * np.square(s)))\n",
        "    WKS = np.matmul(D,T)\n",
        "    WKS = np.dot(Phi, WKS)\n",
        "\n",
        "    return np.asarray(WKS)"
      ],
      "execution_count": null,
      "outputs": []
    },
    {
      "cell_type": "code",
      "metadata": {
        "id": "YBG2ZKlHp1Jv",
        "colab_type": "code",
        "colab": {}
      },
      "source": [
        "D_src = WKS(v_src, evals_src, evecs_src, M_src, wks_size = 200)\n",
        "D_tar = WKS(v_tar, evals_tar, evecs_tar, M_tar, wks_size = 200)"
      ],
      "execution_count": null,
      "outputs": []
    },
    {
      "cell_type": "code",
      "metadata": {
        "id": "Sfu49Cf01Xec",
        "colab_type": "code",
        "colab": {}
      },
      "source": [
        "i = 199\n",
        "plot_pair(v_src, v_tar, f_src, f_tar, D_src[:,i:i+1], D_tar[:,i:i+1])"
      ],
      "execution_count": null,
      "outputs": []
    },
    {
      "cell_type": "code",
      "metadata": {
        "id": "wWHhseWx1ZDm",
        "colab_type": "code",
        "colab": {}
      },
      "source": [
        "import scipy\n",
        "treesearch = scipy.spatial.cKDTree(D_src)\n",
        "p2p = treesearch.query(D_tar, k=1)[1]"
      ],
      "execution_count": null,
      "outputs": []
    },
    {
      "cell_type": "code",
      "metadata": {
        "id": "RyRvBccW1aNc",
        "colab_type": "code",
        "colab": {}
      },
      "source": [
        "funz_ = (v_src - np.min(v_src,0))/np.tile((np.max(v_src,0)-np.min(v_src,0)),(np.size(v_src,0),1));\n",
        "colors = np.cos(funz_);\n",
        "funz = (colors-np.min(colors))/(np.max(colors) - np.min(colors));\n",
        "funz2 = funz[p2p]\n",
        "funz2"
      ],
      "execution_count": null,
      "outputs": []
    },
    {
      "cell_type": "code",
      "metadata": {
        "id": "gN3sxDPK1euO",
        "colab_type": "code",
        "colab": {}
      },
      "source": [
        "# subplot(v_src, f_src, funz,s=[1,2,0])\n",
        "# subplot(v_tar, f_tar, funz2,s=[1,2,1])\n",
        "\n",
        "plot_pair(v_src, v_tar, f_src, f_tar, funz,funz2)"
      ],
      "execution_count": null,
      "outputs": []
    }
  ]
}