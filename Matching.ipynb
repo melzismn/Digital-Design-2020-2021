{
  "nbformat": 4,
  "nbformat_minor": 0,
  "metadata": {
    "colab": {
      "name": "Matching.ipynb",
      "provenance": [],
      "collapsed_sections": [],
      "toc_visible": true,
      "authorship_tag": "ABX9TyM4FPxWgY3bYYledkr7z6rC",
      "include_colab_link": true
    },
    "kernelspec": {
      "name": "python3",
      "display_name": "Python 3"
    },
    "widgets": {
      "application/vnd.jupyter.widget-state+json": {
        "e6799d638114498eb8f3ba5892a10cdc": {
          "model_module": "jupyter-threejs",
          "model_name": "RendererModel",
          "state": {
            "_view_name": "RendererView",
            "shadowMap": "IPY_MODEL_bd551ebff355487abd20a8c9cbd1d205",
            "_view_module": "jupyter-threejs",
            "physicallyCorrectLights": false,
            "_model_module_version": "^2.1.0",
            "_view_count": null,
            "autoClear": true,
            "sortObject": true,
            "_model_module": "jupyter-threejs",
            "maxMorphTargets": 8,
            "toneMapping": "LinearToneMapping",
            "layout": "IPY_MODEL_5842a4e88ee94d0580f4f332bef8c8ef",
            "clearOpacity": 1,
            "clearColor": "#000000",
            "gammaInput": false,
            "controls": [
              "IPY_MODEL_4be031208e28434dbfa35f25e6ed5ffc"
            ],
            "camera": "IPY_MODEL_fd436ba774894570b7db41a5c05c50d8",
            "toneMappingWhitePoint": 1,
            "clippingPlanes": [],
            "autoClearColor": true,
            "_dom_classes": [],
            "_model_name": "RendererModel",
            "_height": 600,
            "gammaOutput": false,
            "toneMappingExposure": 1,
            "scene": "IPY_MODEL_d88c3696017f45c6b2e402309959173a",
            "background": "black",
            "_alpha": false,
            "autoClearDepth": true,
            "_pause_autorender": false,
            "maxMorphNormals": 4,
            "_antialias": true,
            "_width": 600,
            "autoClearStencil": true,
            "_view_module_version": "^2.1.0",
            "gammaFactor": 2,
            "localClippingEnabled": false,
            "background_opacity": 1,
            "_webgl_version": 2
          }
        },
        "89a300b313ce44a59e909404299e2186": {
          "model_module": "jupyter-threejs",
          "model_name": "RendererModel",
          "state": {
            "_view_name": "RendererView",
            "shadowMap": "IPY_MODEL_52a83f0ec31d47b3bbaa27086e2ea011",
            "_view_module": "jupyter-threejs",
            "physicallyCorrectLights": false,
            "_model_module_version": "^2.1.0",
            "_view_count": null,
            "autoClear": true,
            "sortObject": true,
            "_model_module": "jupyter-threejs",
            "maxMorphTargets": 8,
            "toneMapping": "LinearToneMapping",
            "layout": "IPY_MODEL_bfc63128e5f54fefbe45d745a743ddc0",
            "clearOpacity": 1,
            "clearColor": "#000000",
            "gammaInput": false,
            "controls": [
              "IPY_MODEL_dfa7219a214740079f57126c71837499"
            ],
            "camera": "IPY_MODEL_c8ba5c7e5cf340098078d0b44c5283e6",
            "toneMappingWhitePoint": 1,
            "clippingPlanes": [],
            "autoClearColor": true,
            "_dom_classes": [],
            "_model_name": "RendererModel",
            "_height": 600,
            "gammaOutput": false,
            "toneMappingExposure": 1,
            "scene": "IPY_MODEL_7cb9cb29dafb498aa4fa96bc0c220f98",
            "background": "black",
            "_alpha": false,
            "autoClearDepth": true,
            "_pause_autorender": false,
            "maxMorphNormals": 4,
            "_antialias": true,
            "_width": 600,
            "autoClearStencil": true,
            "_view_module_version": "^2.1.0",
            "gammaFactor": 2,
            "localClippingEnabled": false,
            "background_opacity": 1,
            "_webgl_version": 2
          }
        },
        "e07b8d34eaf4492684723cb84579168f": {
          "model_module": "jupyter-threejs",
          "model_name": "RendererModel",
          "state": {
            "_view_name": "RendererView",
            "shadowMap": "IPY_MODEL_6f756f5ecbab454caebfa3b17011175d",
            "_view_module": "jupyter-threejs",
            "physicallyCorrectLights": false,
            "_model_module_version": "^2.1.0",
            "_view_count": null,
            "autoClear": true,
            "sortObject": true,
            "_model_module": "jupyter-threejs",
            "maxMorphTargets": 8,
            "toneMapping": "LinearToneMapping",
            "layout": "IPY_MODEL_201d2e96f7e64a88bc6353e6af65e4b9",
            "clearOpacity": 1,
            "clearColor": "#000000",
            "gammaInput": false,
            "controls": [
              "IPY_MODEL_6a9d48d95cef4dfd8014882d52c14598"
            ],
            "camera": "IPY_MODEL_8982ae5b809c477da1523a2d330083ba",
            "toneMappingWhitePoint": 1,
            "clippingPlanes": [],
            "autoClearColor": true,
            "_dom_classes": [],
            "_model_name": "RendererModel",
            "_height": 600,
            "gammaOutput": false,
            "toneMappingExposure": 1,
            "scene": "IPY_MODEL_21abc2aecf6c4b2f86aae1e941d33b0a",
            "background": "black",
            "_alpha": false,
            "autoClearDepth": true,
            "_pause_autorender": false,
            "maxMorphNormals": 4,
            "_antialias": true,
            "_width": 600,
            "autoClearStencil": true,
            "_view_module_version": "^2.1.0",
            "gammaFactor": 2,
            "localClippingEnabled": false,
            "background_opacity": 1,
            "_webgl_version": 2
          }
        },
        "52588e2029bf47f8ab7a7a2f11203736": {
          "model_module": "jupyter-threejs",
          "model_name": "RendererModel",
          "state": {
            "_view_name": "RendererView",
            "shadowMap": "IPY_MODEL_05b96456568241af8ea390c095e55387",
            "_view_module": "jupyter-threejs",
            "physicallyCorrectLights": false,
            "_model_module_version": "^2.1.0",
            "_view_count": null,
            "autoClear": true,
            "sortObject": true,
            "_model_module": "jupyter-threejs",
            "maxMorphTargets": 8,
            "toneMapping": "LinearToneMapping",
            "layout": "IPY_MODEL_294d9b3b735c4c2b924e36873f7b5a35",
            "clearOpacity": 1,
            "clearColor": "#000000",
            "gammaInput": false,
            "controls": [
              "IPY_MODEL_e1567363dc4142bbae9acb0b9ff9ed27"
            ],
            "camera": "IPY_MODEL_b43c50de5fe941dfa4f0495330b40c50",
            "toneMappingWhitePoint": 1,
            "clippingPlanes": [],
            "autoClearColor": true,
            "_dom_classes": [],
            "_model_name": "RendererModel",
            "_height": 600,
            "gammaOutput": false,
            "toneMappingExposure": 1,
            "scene": "IPY_MODEL_07082eb647a74bc5a864934417602024",
            "background": "black",
            "_alpha": false,
            "autoClearDepth": true,
            "_pause_autorender": false,
            "maxMorphNormals": 4,
            "_antialias": true,
            "_width": 600,
            "autoClearStencil": true,
            "_view_module_version": "^2.1.0",
            "gammaFactor": 2,
            "localClippingEnabled": false,
            "background_opacity": 1,
            "_webgl_version": 2
          }
        },
        "0602c63a92e54048b3bfa8f396090227": {
          "model_module": "jupyter-threejs",
          "model_name": "RendererModel",
          "state": {
            "_view_name": "RendererView",
            "shadowMap": "IPY_MODEL_de66b7edca37448591188fdef55ee857",
            "_view_module": "jupyter-threejs",
            "physicallyCorrectLights": false,
            "_model_module_version": "^2.1.0",
            "_view_count": null,
            "autoClear": true,
            "sortObject": true,
            "_model_module": "jupyter-threejs",
            "maxMorphTargets": 8,
            "toneMapping": "LinearToneMapping",
            "layout": "IPY_MODEL_f8492a6fa9484901817f2495a5e9964e",
            "clearOpacity": 1,
            "clearColor": "#000000",
            "gammaInput": false,
            "controls": [
              "IPY_MODEL_0a068810ba2247de9b1eeed4dfed60b5"
            ],
            "camera": "IPY_MODEL_4019b10ef6204e8bbfda9b56c0f4207d",
            "toneMappingWhitePoint": 1,
            "clippingPlanes": [],
            "autoClearColor": true,
            "_dom_classes": [],
            "_model_name": "RendererModel",
            "_height": 600,
            "gammaOutput": false,
            "toneMappingExposure": 1,
            "scene": "IPY_MODEL_885e964d618d42eda9d08887409abb29",
            "background": "black",
            "_alpha": false,
            "autoClearDepth": true,
            "_pause_autorender": false,
            "maxMorphNormals": 4,
            "_antialias": true,
            "_width": 600,
            "autoClearStencil": true,
            "_view_module_version": "^2.1.0",
            "gammaFactor": 2,
            "localClippingEnabled": false,
            "background_opacity": 1,
            "_webgl_version": 2
          }
        },
        "27d3be532b5445ab9d824f3f74dbce5f": {
          "model_module": "jupyter-threejs",
          "model_name": "RendererModel",
          "state": {
            "_view_name": "RendererView",
            "shadowMap": "IPY_MODEL_f4ff23b8b16a4cf18f1a4eab3aae534d",
            "_view_module": "jupyter-threejs",
            "physicallyCorrectLights": false,
            "_model_module_version": "^2.1.0",
            "_view_count": null,
            "autoClear": true,
            "sortObject": true,
            "_model_module": "jupyter-threejs",
            "maxMorphTargets": 8,
            "toneMapping": "LinearToneMapping",
            "layout": "IPY_MODEL_fc707e310b1f4a80b1f6ecd23a7c3855",
            "clearOpacity": 1,
            "clearColor": "#000000",
            "gammaInput": false,
            "controls": [
              "IPY_MODEL_271b2de5c2724411b163031e0134d9bc"
            ],
            "camera": "IPY_MODEL_86b33e3f8149413ba06085b5d6ecfdd6",
            "toneMappingWhitePoint": 1,
            "clippingPlanes": [],
            "autoClearColor": true,
            "_dom_classes": [],
            "_model_name": "RendererModel",
            "_height": 600,
            "gammaOutput": false,
            "toneMappingExposure": 1,
            "scene": "IPY_MODEL_b01cf9132aa3404788d359969a40b805",
            "background": "black",
            "_alpha": false,
            "autoClearDepth": true,
            "_pause_autorender": false,
            "maxMorphNormals": 4,
            "_antialias": true,
            "_width": 600,
            "autoClearStencil": true,
            "_view_module_version": "^2.1.0",
            "gammaFactor": 2,
            "localClippingEnabled": false,
            "background_opacity": 1,
            "_webgl_version": 2
          }
        },
        "4c9b28246fe0432d9cb4750f6ba3d25a": {
          "model_module": "jupyter-threejs",
          "model_name": "RendererModel",
          "state": {
            "_view_name": "RendererView",
            "shadowMap": "IPY_MODEL_4ac5d9f2adff4499975a4ee6f750ed4d",
            "_view_module": "jupyter-threejs",
            "physicallyCorrectLights": false,
            "_model_module_version": "^2.1.0",
            "_view_count": null,
            "autoClear": true,
            "sortObject": true,
            "_model_module": "jupyter-threejs",
            "maxMorphTargets": 8,
            "toneMapping": "LinearToneMapping",
            "layout": "IPY_MODEL_fe8f0b018278430c87ba758c85febf99",
            "clearOpacity": 1,
            "clearColor": "#000000",
            "gammaInput": false,
            "controls": [
              "IPY_MODEL_b17ecb926ecb464ea509f0d8c30e81a6"
            ],
            "camera": "IPY_MODEL_6388a5616daa4b9ebc6c2b59d16e3a86",
            "toneMappingWhitePoint": 1,
            "clippingPlanes": [],
            "autoClearColor": true,
            "_dom_classes": [],
            "_model_name": "RendererModel",
            "_height": 600,
            "gammaOutput": false,
            "toneMappingExposure": 1,
            "scene": "IPY_MODEL_8df17e3af4b549c68ea1d65230cd7388",
            "background": "black",
            "_alpha": false,
            "autoClearDepth": true,
            "_pause_autorender": false,
            "maxMorphNormals": 4,
            "_antialias": true,
            "_width": 600,
            "autoClearStencil": true,
            "_view_module_version": "^2.1.0",
            "gammaFactor": 2,
            "localClippingEnabled": false,
            "background_opacity": 1,
            "_webgl_version": 2
          }
        }
      }
    }
  },
  "cells": [
    {
      "cell_type": "markdown",
      "metadata": {
        "id": "view-in-github",
        "colab_type": "text"
      },
      "source": [
        "<a href=\"https://colab.research.google.com/github/riccardomarin/SpectralShapeAnalysis/blob/master/Matching.ipynb\" target=\"_parent\"><img src=\"https://colab.research.google.com/assets/colab-badge.svg\" alt=\"Open In Colab\"/></a>"
      ]
    },
    {
      "cell_type": "code",
      "metadata": {
        "id": "j2yRvI6BmMg7",
        "colab_type": "code",
        "colab": {
          "base_uri": "https://localhost:8080/",
          "height": 1000
        },
        "outputId": "51a5de43-03ab-4ee7-a85a-ba76f977fdbc"
      },
      "source": [
        "# ONLY FOR COLAB\n",
        "# Not required in Binder\n",
        "\n",
        "!wget -c https://repo.anaconda.com/miniconda/Miniconda3-4.5.4-Linux-x86_64.sh\n",
        "!chmod +x Miniconda3-4.5.4-Linux-x86_64.sh\n",
        "!bash ./Miniconda3-4.5.4-Linux-x86_64.sh -b -f -p /usr/local\n",
        "!conda install -q -y --prefix /usr/local python=3.6 ujson\n",
        "\n",
        "import sys\n",
        "sys.path.append('/usr/local/lib/python3.6/site-packages')\n",
        "\n",
        "import ujson\n",
        "print(ujson.dumps({1:2}))\n",
        "\n",
        "!conda install -c conda-forge igl\n",
        "!conda install -c conda-forge meshplot"
      ],
      "execution_count": 1,
      "outputs": [
        {
          "output_type": "stream",
          "text": [
            "--2020-07-30 15:01:51--  https://repo.anaconda.com/miniconda/Miniconda3-4.5.4-Linux-x86_64.sh\n",
            "Resolving repo.anaconda.com (repo.anaconda.com)... 104.16.131.3, 104.16.130.3, 2606:4700::6810:8303, ...\n",
            "Connecting to repo.anaconda.com (repo.anaconda.com)|104.16.131.3|:443... connected.\n",
            "HTTP request sent, awaiting response... 416 Requested Range Not Satisfiable\n",
            "\n",
            "    The file is already fully retrieved; nothing to do.\n",
            "\n",
            "PREFIX=/usr/local\n",
            "installing: python-3.6.5-hc3d631a_2 ...\n",
            "Python 3.6.5 :: Anaconda, Inc.\n",
            "installing: ca-certificates-2018.03.07-0 ...\n",
            "installing: conda-env-2.6.0-h36134e3_1 ...\n",
            "installing: libgcc-ng-7.2.0-hdf63c60_3 ...\n",
            "installing: libstdcxx-ng-7.2.0-hdf63c60_3 ...\n",
            "installing: libffi-3.2.1-hd88cf55_4 ...\n",
            "installing: ncurses-6.1-hf484d3e_0 ...\n",
            "installing: openssl-1.0.2o-h20670df_0 ...\n",
            "installing: tk-8.6.7-hc745277_3 ...\n",
            "installing: xz-5.2.4-h14c3975_4 ...\n",
            "installing: yaml-0.1.7-had09818_2 ...\n",
            "installing: zlib-1.2.11-ha838bed_2 ...\n",
            "installing: libedit-3.1.20170329-h6b74fdf_2 ...\n",
            "installing: readline-7.0-ha6073c6_4 ...\n",
            "installing: sqlite-3.23.1-he433501_0 ...\n",
            "installing: asn1crypto-0.24.0-py36_0 ...\n",
            "installing: certifi-2018.4.16-py36_0 ...\n",
            "installing: chardet-3.0.4-py36h0f667ec_1 ...\n",
            "installing: idna-2.6-py36h82fb2a8_1 ...\n",
            "installing: pycosat-0.6.3-py36h0a5515d_0 ...\n",
            "installing: pycparser-2.18-py36hf9f622e_1 ...\n",
            "installing: pysocks-1.6.8-py36_0 ...\n",
            "installing: ruamel_yaml-0.15.37-py36h14c3975_2 ...\n",
            "installing: six-1.11.0-py36h372c433_1 ...\n",
            "installing: cffi-1.11.5-py36h9745a5d_0 ...\n",
            "installing: setuptools-39.2.0-py36_0 ...\n",
            "installing: cryptography-2.2.2-py36h14c3975_0 ...\n",
            "installing: wheel-0.31.1-py36_0 ...\n",
            "installing: pip-10.0.1-py36_0 ...\n",
            "installing: pyopenssl-18.0.0-py36_0 ...\n",
            "installing: urllib3-1.22-py36hbe7ace6_0 ...\n",
            "installing: requests-2.18.4-py36he2e5f8d_1 ...\n",
            "installing: conda-4.5.4-py36_0 ...\n",
            "unlinking: ca-certificates-2020.6.20-hecda079_0\n",
            "unlinking: certifi-2020.6.20-py36h9f0ad1d_0\n",
            "unlinking: libedit-3.1.20191231-h14c3975_1\n",
            "unlinking: libffi-3.3-he6710b0_2\n",
            "unlinking: libgcc-ng-9.1.0-hdf63c60_0\n",
            "unlinking: libstdcxx-ng-9.1.0-hdf63c60_0\n",
            "unlinking: ncurses-6.2-he6710b0_1\n",
            "unlinking: openssl-1.1.1g-h516909a_1\n",
            "unlinking: pip-20.1.1-py36_1\n",
            "unlinking: python-3.6.10-h7579374_2\n",
            "unlinking: readline-8.0-h7b6447c_0\n",
            "unlinking: setuptools-49.2.0-py36_0\n",
            "unlinking: sqlite-3.32.3-h62c20be_0\n",
            "unlinking: tk-8.6.10-hbc83047_0\n",
            "unlinking: wheel-0.34.2-py36_0\n",
            "unlinking: xz-5.2.5-h7b6447c_0\n",
            "unlinking: zlib-1.2.11-h7b6447c_3\n",
            "installation finished.\n",
            "WARNING:\n",
            "    You currently have a PYTHONPATH environment variable set. This may cause\n",
            "    unexpected behavior when running the Python interpreter in Miniconda3.\n",
            "    For best results, please verify that your PYTHONPATH only points to\n",
            "    directories of packages that are compatible with the Python interpreter\n",
            "    in Miniconda3: /usr/local\n",
            "Solving environment: ...working... done\n",
            "\n",
            "## Package Plan ##\n",
            "\n",
            "  environment location: /usr/local\n",
            "\n",
            "  added / updated specs: \n",
            "    - python=3.6\n",
            "    - ujson\n",
            "\n",
            "\n",
            "The following packages will be downloaded:\n",
            "\n",
            "    package                    |            build\n",
            "    ---------------------------|-----------------\n",
            "    conda-4.8.3                |           py36_0         3.0 MB\n",
            "    cryptography-2.9.2         |   py36h1ba5d50_0         626 KB\n",
            "    cffi-1.14.0                |   py36he30daa8_1         226 KB\n",
            "    tqdm-4.47.0                |             py_0          62 KB\n",
            "    conda-package-handling-1.6.1|   py36h7b6447c_0         886 KB\n",
            "    ------------------------------------------------------------\n",
            "                                           Total:         4.8 MB\n",
            "\n",
            "The following NEW packages will be INSTALLED:\n",
            "\n",
            "    conda-package-handling: 1.6.1-py36h7b6447c_0   \n",
            "    tqdm:                   4.47.0-py_0            \n",
            "\n",
            "The following packages will be UPDATED:\n",
            "\n",
            "    ca-certificates:        2018.03.07-0            --> 2020.6.24-0            \n",
            "    certifi:                2018.4.16-py36_0        --> 2020.6.20-py36_0       \n",
            "    cffi:                   1.11.5-py36h9745a5d_0   --> 1.14.0-py36he30daa8_1  \n",
            "    conda:                  4.5.4-py36_0            --> 4.8.3-py36_0           \n",
            "    cryptography:           2.2.2-py36h14c3975_0    --> 2.9.2-py36h1ba5d50_0   \n",
            "    libedit:                3.1.20170329-h6b74fdf_2 --> 3.1.20191231-h14c3975_1\n",
            "    libffi:                 3.2.1-hd88cf55_4        --> 3.3-he6710b0_2         \n",
            "    libgcc-ng:              7.2.0-hdf63c60_3        --> 9.1.0-hdf63c60_0       \n",
            "    libstdcxx-ng:           7.2.0-hdf63c60_3        --> 9.1.0-hdf63c60_0       \n",
            "    ncurses:                6.1-hf484d3e_0          --> 6.2-he6710b0_1         \n",
            "    openssl:                1.0.2o-h20670df_0       --> 1.1.1g-h7b6447c_0      \n",
            "    python:                 3.6.5-hc3d631a_2        --> 3.6.10-h7579374_2      \n",
            "    readline:               7.0-ha6073c6_4          --> 8.0-h7b6447c_0         \n",
            "    sqlite:                 3.23.1-he433501_0       --> 3.32.3-h62c20be_0      \n",
            "    tk:                     8.6.7-hc745277_3        --> 8.6.10-hbc83047_0      \n",
            "    xz:                     5.2.4-h14c3975_4        --> 5.2.5-h7b6447c_0       \n",
            "\n",
            "Preparing transaction: ...working... done\n",
            "Verifying transaction: ...working... done\n",
            "Executing transaction: ...working... done\n",
            "{\"1\":2}\n",
            "Collecting package metadata (current_repodata.json): - \b\b\\ \b\b| \b\b/ \b\b- \b\b\\ \b\b| \b\b/ \b\b- \b\b\\ \b\b| \b\b/ \b\b- \b\b\\ \b\b| \b\b/ \b\b- \b\b\\ \b\b| \b\b/ \b\b- \b\b\\ \b\b| \b\b/ \b\b- \b\b\\ \b\b| \b\b/ \b\b- \b\b\\ \b\b| \b\b/ \b\b- \b\b\\ \b\b| \b\b/ \b\b- \b\b\\ \b\b| \b\b/ \b\b- \b\b\\ \b\b| \b\b/ \b\b- \b\b\\ \b\b| \b\b/ \b\b- \b\b\\ \b\b| \b\b/ \b\b- \b\b\\ \b\b| \b\b/ \b\b- \b\b\\ \b\b| \b\b/ \b\b- \b\b\\ \b\b| \b\b/ \b\b- \b\b\\ \b\b| \b\b/ \b\b- \b\b\\ \b\b| \b\b/ \b\b- \b\b\\ \b\b| \b\b/ \b\b- \b\b\\ \b\bdone\n",
            "Solving environment: / \b\b- \b\b\\ \b\b| \b\b/ \b\b- \b\b\\ \b\b| \b\b/ \b\b- \b\b\\ \b\b| \b\b/ \b\b- \b\b\\ \b\b| \b\b/ \b\b- \b\b\\ \b\b| \b\b/ \b\b- \b\b\\ \b\b| \b\b/ \b\b- \b\b\\ \b\b| \b\b/ \b\b- \b\b\\ \b\b| \b\b/ \b\b- \b\b\\ \b\b| \b\b/ \b\b- \b\b\\ \b\b| \b\bdone\n",
            "\n",
            "## Package Plan ##\n",
            "\n",
            "  environment location: /usr/local\n",
            "\n",
            "  added / updated specs:\n",
            "    - igl\n",
            "\n",
            "\n",
            "The following packages will be downloaded:\n",
            "\n",
            "    package                    |            build\n",
            "    ---------------------------|-----------------\n",
            "    conda-4.8.3                |   py36h9f0ad1d_1         3.0 MB  conda-forge\n",
            "    ------------------------------------------------------------\n",
            "                                           Total:         3.0 MB\n",
            "\n",
            "The following packages will be UPDATED:\n",
            "\n",
            "  conda                       pkgs/main::conda-4.8.3-py36_0 --> conda-forge::conda-4.8.3-py36h9f0ad1d_1\n",
            "  openssl              pkgs/main::openssl-1.1.1g-h7b6447c_0 --> conda-forge::openssl-1.1.1g-h516909a_1\n",
            "\n",
            "The following packages will be SUPERSEDED by a higher-priority channel:\n",
            "\n",
            "  ca-certificates    pkgs/main::ca-certificates-2020.6.24-0 --> conda-forge::ca-certificates-2020.6.20-hecda079_0\n",
            "  certifi               pkgs/main::certifi-2020.6.20-py36_0 --> conda-forge::certifi-2020.6.20-py36h9f0ad1d_0\n",
            "\n",
            "\n",
            "Proceed ([y]/n)? y\n",
            "\n",
            "\n",
            "Downloading and Extracting Packages\n",
            "conda-4.8.3          | 3.0 MB    | : 100% 1.0/1 [00:01<00:00,  7.09s/it]                \n",
            "Preparing transaction: - \b\bdone\n",
            "Verifying transaction: | \b\bdone\n",
            "Executing transaction: - \b\bdone\n",
            "Collecting package metadata (current_repodata.json): - \b\b\\ \b\b| \b\b/ \b\b- \b\b\\ \b\b| \b\b/ \b\b- \b\b\\ \b\b| \b\b/ \b\b- \b\b\\ \b\b| \b\b/ \b\b- \b\b\\ \b\b| \b\b/ \b\b- \b\b\\ \b\b| \b\b/ \b\b- \b\bdone\n",
            "Solving environment: | \b\b/ \b\b- \b\b\\ \b\b| \b\b/ \b\b- \b\b\\ \b\b| \b\b/ \b\b- \b\b\\ \b\b| \b\b/ \b\b- \b\b\\ \b\b| \b\b/ \b\b- \b\b\\ \b\b| \b\b/ \b\b- \b\b\\ \b\b| \b\b/ \b\b- \b\b\\ \b\b| \b\b/ \b\b- \b\b\\ \b\b| \b\b/ \b\b- \b\b\\ \b\b| \b\b/ \b\b- \b\b\\ \b\b| \b\b/ \b\b- \b\b\\ \b\b| \b\b/ \b\bdone\n",
            "\n",
            "# All requested packages already installed.\n",
            "\n"
          ],
          "name": "stdout"
        }
      ]
    },
    {
      "cell_type": "code",
      "metadata": {
        "id": "BpI4m_FcmS2V",
        "colab_type": "code",
        "colab": {
          "base_uri": "https://localhost:8080/",
          "height": 35
        },
        "outputId": "440411ce-2df8-4051-bfb1-7d111ead4a47"
      },
      "source": [
        "import igl\n",
        "\n",
        "import scipy as sp\n",
        "import numpy as np\n",
        "from meshplot import plot, subplot, interact\n",
        "import meshplot\n",
        "from scipy.sparse.linalg import eigs,eigsh\n",
        "from scipy.sparse import csr_matrix\n",
        "import os \n",
        "from sklearn.cluster import KMeans\n",
        "import tensorflow as tf\n",
        "import matplotlib.pyplot as plt\n",
        "\n",
        "tf.__version__"
      ],
      "execution_count": 92,
      "outputs": [
        {
          "output_type": "execute_result",
          "data": {
            "application/vnd.google.colaboratory.intrinsic+json": {
              "type": "string"
            },
            "text/plain": [
              "'2.2.0'"
            ]
          },
          "metadata": {
            "tags": []
          },
          "execution_count": 92
        }
      ]
    },
    {
      "cell_type": "code",
      "metadata": {
        "id": "9rBPjw-0mXTL",
        "colab_type": "code",
        "colab": {}
      },
      "source": [
        "def plot_pair(v1, v2, f1, f2, c1, c2, color_ops = {}):\n",
        "    # Compute a scale factor\n",
        "    M1 = igl.massmatrix(v1, f1, igl.MASSMATRIX_TYPE_VORONOI)\n",
        "    M2 = igl.massmatrix(v2, f2, igl.MASSMATRIX_TYPE_VORONOI)\n",
        "    scale_factor = np.sqrt(np.sum(M2)/np.sum(M1))\n",
        "\n",
        "    # Align the shapes\n",
        "    v2 = v2 - np.mean(v2,axis=0)\n",
        "    v1_align = v1 * scale_factor + np.mean(v1,axis=0) + [0.7,-0.7,0.0]\n",
        "\n",
        "    # Merge the models\n",
        "    v_all = np.vstack((v1_align, v2))\n",
        "    f_all = np.vstack((f1, f2 + np.max(f1)+1))\n",
        "    c_all = np.vstack((c1, c2))\n",
        "    \n",
        "    plot(v_all, f_all, c_all, shading = color_ops)"
      ],
      "execution_count": 93,
      "outputs": []
    },
    {
      "cell_type": "markdown",
      "metadata": {
        "id": "UXJB3W56qLKr",
        "colab_type": "text"
      },
      "source": [
        "# WKS\n",
        "\n",
        "We will use the Wave Kernel Signature (WKS) descriptor to do the matching. Recall the formula:\n",
        "\n",
        "$K_E(x,x) = \\sum\\limits_{l=1}^{\\infty}e^{- \\frac{(log(E) - log(\\lambda_l))^2}{2\\sigma^2}} \\phi_l(x)^2 $\n",
        "\n",
        "Where:\n",
        "- $sigma = 7 \\delta$\n",
        "- $delta =  (e_{max} - e{min})/ M$\n",
        "- $e_{max} = log(E_N) - 2\\sigma$\n",
        "- $e_{min} = log(E_1) + 2\\sigma$\n",
        "- $E_N$ is the max eigenvalue in absolute value\n",
        "- $E_1$ is the min non-zero eigenvalue in absolute value\n",
        "- $M$ is the number of WKS scales\n",
        "\n",
        "The tasks are:\n",
        "- Read the meshes, compute the LBO eigenvectors\n",
        "- Define the WKS computation\n",
        "- Visualize the WKS scales on meshes\n",
        "- Perform the matching using WKS (Nearest-Neighbor in the descriptor space)\n",
        "- Visualize the matching (and compute the error)\n",
        "\n",
        "Are the descriptors coherent among the shapes, for different descriptor scales? Is the matching good? We can change the number of descriptors: does it impact the matching?"
      ]
    },
    {
      "cell_type": "code",
      "metadata": {
        "id": "K3prcCzJn1Cg",
        "colab_type": "code",
        "colab": {}
      },
      "source": [
        "# Load Shapes\n",
        "v_src, f_src = igl.read_triangle_mesh(os.path.join('.', \"data\", \"tr_reg_089.off\"))\n",
        "\n",
        "L_src = -igl.cotmatrix(v_src, f_src)\n",
        "M_src = igl.massmatrix(v_src, f_src, igl.MASSMATRIX_TYPE_VORONOI)\n",
        "\n",
        "try:\n",
        "    evals_src, evecs_src = eigsh(L_src, 200, M_src, sigma=0.0, which='LM', maxiter=1e9, tol=1.e-15)\n",
        "except:\n",
        "    evals_src, evecs_src = eigsh(L_src- 1e-8* scipy.sparse.identity(v_src.shape[0]), 200,\n",
        "                         M_src, sigma=0.0, which='LM', maxiter=1e9, tol=1.e-15)\n",
        "\n",
        "evals_src = evals_src.astype(np.float32)\n",
        "evals_src = evals_src.astype(np.float32)\n",
        "\n",
        "v_tar, f_tar = igl.read_triangle_mesh(os.path.join('.', \"data\", \"tr_reg_090.off\"))\n",
        "\n",
        "L_tar = -igl.cotmatrix(v_tar, f_tar)\n",
        "M_tar = igl.massmatrix(v_tar, f_tar, igl.MASSMATRIX_TYPE_VORONOI)\n",
        "\n",
        "try:\n",
        "    evals_tar, evecs_tar = eigsh(L_tar, 200, M_tar, sigma=0.0, which='LM', maxiter=1e9, tol=1.e-15)\n",
        "except:\n",
        "    evals_tar, evecs_tar = eigsh(L_tar- 1e-8* scipy.sparse.identity(v_tar.shape[0]), 200,\n",
        "                         M_src, sigma=0.0, which='LM', maxiter=1e9, tol=1.e-15)\n",
        "    \n",
        "evals_src = evals_tar.astype(np.float32)\n",
        "evals_src = evals_tar.astype(np.float32)"
      ],
      "execution_count": 94,
      "outputs": []
    },
    {
      "cell_type": "code",
      "metadata": {
        "id": "xa35jY3hpwW5",
        "colab_type": "code",
        "colab": {}
      },
      "source": [
        "def WKS(vertices, faces, evals, evecs, wks_size, variance):\n",
        "    # Number of vertices\n",
        "    n = vertices.shape[0]\n",
        "    WKS = np.zeros((n,wks_size))\n",
        "\n",
        "    # Just for numerical stability\n",
        "    evals[evals<1e-6] = 1e-6\n",
        "\n",
        "    # log(E)\n",
        "    log_E = np.log(evals).T\n",
        "\n",
        "    # Define the energies step\n",
        "    e = np.linspace(log_E[1], np.max(log_E)/1.02, wks_size)\n",
        "\n",
        "    # Compute the sigma\n",
        "    sigma = (e[1]-e[0]) * variance\n",
        "    C = np.zeros((wks_size,1))\n",
        "\n",
        "    for i in np.arange(0,wks_size):\n",
        "        # Computing WKS\n",
        "        WKS[:,i] = np.sum(\n",
        "            (evecs)**2 * np.tile( np.exp((-(e[i] - log_E)**2) / (2*sigma**2)),(n,1)), axis=1)\n",
        "        \n",
        "        # Noramlization\n",
        "        C[i] = np.sum(np.exp((-(e[i]-log_E)**2)/(2*sigma**2)))\n",
        "        \n",
        "    WKS = np.divide(WKS,np.tile(C,(1,n)).T)\n",
        "    return WKS"
      ],
      "execution_count": 95,
      "outputs": []
    },
    {
      "cell_type": "code",
      "metadata": {
        "id": "YBG2ZKlHp1Jv",
        "colab_type": "code",
        "colab": {}
      },
      "source": [
        "# Computing the descriptors for the two shapes\n",
        "d_src = WKS(v_src, f_src, evals_src, evecs_src, 100, 7)\n",
        "d_tar = WKS(v_tar, f_tar, evals_tar, evecs_tar, 100, 7)"
      ],
      "execution_count": 96,
      "outputs": []
    },
    {
      "cell_type": "code",
      "metadata": {
        "id": "Sfu49Cf01Xec",
        "colab_type": "code",
        "colab": {
          "base_uri": "https://localhost:8080/",
          "height": 17,
          "referenced_widgets": [
            "e6799d638114498eb8f3ba5892a10cdc"
          ]
        },
        "outputId": "c45adbdc-4eef-4903-d5c7-fb0b4ce63bda"
      },
      "source": [
        "# Visualizing descriptors\n",
        "i = 2\n",
        "plot_pair(v_src, v_tar, f_src, f_tar, d_src[:,i:i+1], d_tar[:,i:i+1])"
      ],
      "execution_count": 97,
      "outputs": [
        {
          "output_type": "display_data",
          "data": {
            "application/vnd.jupyter.widget-view+json": {
              "model_id": "e6799d638114498eb8f3ba5892a10cdc",
              "version_minor": 0,
              "version_major": 2
            },
            "text/plain": [
              "Renderer(camera=PerspectiveCamera(children=(DirectionalLight(color='white', intensity=0.6, position=(0.4032461…"
            ]
          },
          "metadata": {
            "tags": []
          }
        }
      ]
    },
    {
      "cell_type": "code",
      "metadata": {
        "id": "wWHhseWx1ZDm",
        "colab_type": "code",
        "colab": {}
      },
      "source": [
        "# Nearest Neighbor\n",
        "treesearch = sp.spatial.cKDTree(d_tar)\n",
        "p2p = treesearch.query(d_src, k=1)[1]"
      ],
      "execution_count": 98,
      "outputs": []
    },
    {
      "cell_type": "code",
      "metadata": {
        "id": "RyRvBccW1aNc",
        "colab_type": "code",
        "colab": {}
      },
      "source": [
        "# To see the quality of the matching we plot a function on one shape and we transfer it to the other\n",
        "funz_ = (v_tar - np.min(v_tar,0))/np.tile((np.max(v_tar,0)-np.min(v_tar,0)),(np.size(v_tar,0),1));\n",
        "colors = np.cos(funz_);\n",
        "funz_tar = (colors-np.min(colors))/(np.max(colors) - np.min(colors));\n",
        "funz_src = funz_tar[p2p]\n"
      ],
      "execution_count": 99,
      "outputs": []
    },
    {
      "cell_type": "code",
      "metadata": {
        "id": "gN3sxDPK1euO",
        "colab_type": "code",
        "colab": {
          "base_uri": "https://localhost:8080/",
          "height": 34,
          "referenced_widgets": [
            "89a300b313ce44a59e909404299e2186"
          ]
        },
        "outputId": "aeecde12-ab09-428b-ff08-c0706b97d91f"
      },
      "source": [
        "# Plot and (euclidean) error evaluation\n",
        "plot_pair(v_src, v_tar, f_src, f_tar, funz_src,funz_tar)\n",
        "err = np.sum(np.square(v_tar - v_tar[p2p,:]))\n",
        "print(err)"
      ],
      "execution_count": 104,
      "outputs": [
        {
          "output_type": "display_data",
          "data": {
            "application/vnd.jupyter.widget-view+json": {
              "model_id": "89a300b313ce44a59e909404299e2186",
              "version_minor": 0,
              "version_major": 2
            },
            "text/plain": [
              "Renderer(camera=PerspectiveCamera(children=(DirectionalLight(color='white', intensity=0.6, position=(0.4032461…"
            ]
          },
          "metadata": {
            "tags": []
          }
        },
        {
          "output_type": "stream",
          "text": [
            "1027.097391628316\n"
          ],
          "name": "stdout"
        }
      ]
    },
    {
      "cell_type": "markdown",
      "metadata": {
        "id": "fkmqC8jZ59S-",
        "colab_type": "text"
      },
      "source": [
        "# Functional Maps\n",
        "\n",
        "Here we will use the Functional Maps framework. Given some descriptor $D$ on the first shape and $F$ on the second, we will compute our map $C$ such that: \\\n",
        "$ d = (\\phi_{src}^{T} A_{src} d)^T $ \\\n",
        "$ f = (\\phi_{tar}^{T} A_{tar} f)^T $ \\\n",
        "$ C D = F $ \\\n",
        "$ C =  F D^{-1} $"
      ]
    },
    {
      "cell_type": "code",
      "metadata": {
        "id": "wTyopAGD583y",
        "colab_type": "code",
        "colab": {
          "base_uri": "https://localhost:8080/",
          "height": 265
        },
        "outputId": "39542e0c-335e-4d63-b332-3c6bc6012f4d"
      },
      "source": [
        "# WKS\n",
        "n_evals = 5\n",
        "n_desc = 3\n",
        "D = (np.matmul(evecs_src[:,0:n_evals].T, np.matmul(M_src.todense() , d_src[:,0:n_desc])))\n",
        "F = (np.matmul(evecs_tar[:,0:n_evals].T, np.matmul(M_tar.todense() , d_tar[:,0:n_desc])))\n",
        "C =  np.matmul(F,np.linalg.pinv(D))\n",
        "\n",
        "plt.imshow(C)\n",
        "plt.colorbar()\n",
        "plt.show()"
      ],
      "execution_count": 105,
      "outputs": [
        {
          "output_type": "display_data",
          "data": {
            "image/png": "[encoded data removed]",
            "text/plain": [
              "<Figure size 432x288 with 2 Axes>"
            ]
          },
          "metadata": {
            "tags": [],
            "needs_background": "light"
          }
        }
      ]
    },
    {
      "cell_type": "code",
      "metadata": {
        "id": "ObnDcw1x-Ytg",
        "colab_type": "code",
        "colab": {}
      },
      "source": [
        "# Compute p2p correspondence\n",
        "treesearch = sp.spatial.cKDTree(evecs_tar[:,0:n_evals])\n",
        "p2p = treesearch.query(np.matmul(evecs_src[:,0:n_evals], C), k=1)[1]"
      ],
      "execution_count": 108,
      "outputs": []
    },
    {
      "cell_type": "code",
      "metadata": {
        "id": "xgk5NvZOAEKa",
        "colab_type": "code",
        "colab": {
          "base_uri": "https://localhost:8080/",
          "height": 34,
          "referenced_widgets": [
            "e07b8d34eaf4492684723cb84579168f"
          ]
        },
        "outputId": "387e9be9-b3b1-46f4-8302-d39af056b2c8"
      },
      "source": [
        "plot_pair(v_src, v_tar, f_src, f_tar, funz_src,funz_tar)\n",
        "err = np.sum(np.square(v_tar - v_tar[p2p,:]))\n",
        "print(err)"
      ],
      "execution_count": 109,
      "outputs": [
        {
          "output_type": "display_data",
          "data": {
            "application/vnd.jupyter.widget-view+json": {
              "model_id": "e07b8d34eaf4492684723cb84579168f",
              "version_minor": 0,
              "version_major": 2
            },
            "text/plain": [
              "Renderer(camera=PerspectiveCamera(children=(DirectionalLight(color='white', intensity=0.6, position=(0.4032461…"
            ]
          },
          "metadata": {
            "tags": []
          }
        },
        {
          "output_type": "stream",
          "text": [
            "1027.097391628316\n"
          ],
          "name": "stdout"
        }
      ]
    },
    {
      "cell_type": "code",
      "metadata": {
        "id": "divV5v4v3cl2",
        "colab_type": "code",
        "colab": {
          "base_uri": "https://localhost:8080/",
          "height": 265
        },
        "outputId": "1799de4a-705d-44d7-86ac-61b9c8244659"
      },
      "source": [
        "# landmarks\n",
        "n_land = 45\n",
        "n_evals = 20\n",
        "step = np.int(np.ceil(v_src.shape[0] / n_land))\n",
        "a = np.arange(0,v_src.shape[0],step)\n",
        "\n",
        "landmarks = np.zeros((v_src.shape[0], a.size))\n",
        "landmarks[a,np.arange(a.size)] = 1\n",
        "\n",
        "D = (np.matmul(evecs_src[:,0:n_evals].T, np.matmul(M_src.todense() , landmarks[:,0:n_land])))\n",
        "F = (np.matmul(evecs_tar[:,0:n_evals].T, np.matmul(M_tar.todense() , landmarks[:,0:n_land])))\n",
        "C =  np.matmul(F,np.linalg.pinv(D))\n",
        "\n",
        "plt.imshow(C)\n",
        "plt.colorbar()\n",
        "plt.show()"
      ],
      "execution_count": 110,
      "outputs": [
        {
          "output_type": "display_data",
          "data": {
            "image/png": "[encoded data removed]",
            "text/plain": [
              "<Figure size 432x288 with 2 Axes>"
            ]
          },
          "metadata": {
            "tags": [],
            "needs_background": "light"
          }
        }
      ]
    },
    {
      "cell_type": "code",
      "metadata": {
        "id": "-d9okpkc5Lzi",
        "colab_type": "code",
        "colab": {
          "base_uri": "https://localhost:8080/",
          "height": 34,
          "referenced_widgets": [
            "52588e2029bf47f8ab7a7a2f11203736"
          ]
        },
        "outputId": "8cbca361-6f8f-4448-82c9-67b30b1d7d83"
      },
      "source": [
        "treesearch = sp.spatial.cKDTree(evecs_tar[:,0:n_evals])\n",
        "p2p = treesearch.query(np.matmul(evecs_src[:,0:n_evals], C), k=1)[1]\n",
        "plot_pair(v_src, v_tar, f_src, f_tar, funz_src,funz_tar)\n",
        "err = np.sum(np.square(v_tar - v_tar[p2p,:]))\n",
        "print(err)"
      ],
      "execution_count": 111,
      "outputs": [
        {
          "output_type": "display_data",
          "data": {
            "application/vnd.jupyter.widget-view+json": {
              "model_id": "52588e2029bf47f8ab7a7a2f11203736",
              "version_minor": 0,
              "version_major": 2
            },
            "text/plain": [
              "Renderer(camera=PerspectiveCamera(children=(DirectionalLight(color='white', intensity=0.6, position=(0.4032461…"
            ]
          },
          "metadata": {
            "tags": []
          }
        },
        {
          "output_type": "stream",
          "text": [
            "257.354553139738\n"
          ],
          "name": "stdout"
        }
      ]
    },
    {
      "cell_type": "markdown",
      "metadata": {
        "id": "Ttg0B3wy-VCq",
        "colab_type": "text"
      },
      "source": [
        "Here we implement Functional Maps as an optimization problem"
      ]
    },
    {
      "cell_type": "code",
      "metadata": {
        "id": "piGDB7xDAOnC",
        "colab_type": "code",
        "colab": {}
      },
      "source": [
        "# Computing descriptors\n",
        "n_land =  20\n",
        "n_wks  =  2\n",
        "\n",
        "n_evals = 20\n",
        "\n",
        "# Landmarks\n",
        "step = np.int(np.ceil(v_src.shape[0] / n_land))\n",
        "a = np.arange(0,v_src.shape[0],step)\n",
        "landmarks = np.zeros((v_src.shape[0], a.size))\n",
        "landmarks[a,np.arange(a.size)] = 1\n",
        "\n",
        "# WKS\n",
        "d_src = WKS(v_src, f_src, evals_src, evecs_src, n_wks, 7)\n",
        "d_tar = WKS(v_tar, f_tar, evals_tar, evecs_tar, n_wks, 7)\n",
        "\n",
        "# Optimization Process\n",
        "desc_src = np.hstack((landmarks,d_src))\n",
        "desc_tar = np.hstack((landmarks,d_tar))\n",
        "\n",
        "# Descriptor normalization\n",
        "no = np.sqrt(np.diag(np.matmul(M_src.T.__matmul__(desc_src).T, desc_src)))\n",
        "no_s = np.tile(no.T,(v_src.shape[0],1))\n",
        "no_t = np.tile(no.T,(v_tar.shape[0],1))\n",
        "fct_src = np.divide(desc_src,no_s)\n",
        "fct_tar = np.divide(desc_tar,no_t)\n",
        "\n",
        "# Coefficents of the obtained descriptors\n",
        "Fct_src = np.matmul(M_src.T.__matmul__(evecs_src[:, 0:n_evals]).T, fct_src)\n",
        "Fct_tar = np.matmul(M_tar.T.__matmul__(evecs_tar[:, 0:n_evals]).T, fct_tar)\n",
        "\n",
        "# The relation between the two constant functions can be computed in a closed form\n",
        "constFct = np.zeros((n_evals,1))\n",
        "constFct[0, 0] = np.sign(evecs_src[0, 0] * evecs_tar[0, 0]) * np.sqrt(np.sum(M_tar)/np.sum(M_src))\n",
        "\n",
        "# Different way to compute Laplacian commutativity\n",
        "# Dlb = (np.tile(evals_src[0:n_evals], (n_evals, 1)) - np.tile(evals_tar[0:n_evals].T, (n_evals, 1)))**2\n",
        "# Dlb = np.float32(Dlb/tf.reduce_sum((Dlb**2)))"
      ],
      "execution_count": 112,
      "outputs": []
    },
    {
      "cell_type": "markdown",
      "metadata": {
        "id": "bUVLx9_4NhhR",
        "colab_type": "text"
      },
      "source": [
        "Play with different energy weights."
      ]
    },
    {
      "cell_type": "code",
      "metadata": {
        "id": "JjSwxIYJ5e0y",
        "colab_type": "code",
        "colab": {
          "base_uri": "https://localhost:8080/",
          "height": 285,
          "referenced_widgets": [
            "0602c63a92e54048b3bfa8f396090227"
          ]
        },
        "outputId": "3f0f0cb7-99b9-49d2-b50b-1a909ad34187"
      },
      "source": [
        "# Energy weights\n",
        "a = 1e-1 # Descriptors preservation\n",
        "c = 1e-8 # Commutativity with Laplacian\n",
        "\n",
        "# Optimizer\n",
        "adam = tf.keras.optimizers.Adam(1e-1) # Optimization technique\n",
        "\n",
        "# Define tensorflow objects\n",
        "fs = tf.constant(Fct_src, dtype=tf.float32)\n",
        "ft = tf.constant(Fct_tar, dtype=tf.float32)\n",
        "evals = tf.constant(tf.linalg.tensor_diag(np.reshape(np.float32(evals_src[0:n_evals]), (n_evals,))), dtype=tf.float32)\n",
        "evalt = tf.constant(tf.linalg.tensor_diag(np.reshape(np.float32(evals_tar[0:n_evals]), (n_evals,))), dtype=tf.float32)\n",
        "\n",
        "# Initialize C\n",
        "C_ini = np.zeros((n_evals,n_evals))\n",
        "C_ini[0,0]=constFct[0,0]\n",
        "C = tf.Variable(tf.zeros((n_evals,n_evals), dtype=tf.float32))\n",
        "C.assign(C_ini)\n",
        "trainable_vars = [C]\n",
        "\n",
        "for i in np.arange(0,1000):\n",
        "    with tf.GradientTape() as tape:\n",
        "        loss1 = a * tf.reduce_sum(((tf.matmul(C, fs) - ft) ** 2)) / 2\n",
        "        loss2 = c * tf.reduce_sum((tf.matmul(C, evals) - tf.matmul(evalt,C))**2) #tf.reduce_sum(((C ** 2) * Dlb) / 2)\n",
        "        #loss3 = 1e-6 *  tf.reduce_sum(tf.square(tf.matmul(tf.transpose(C),C) - tf.eye(n_evals)))\n",
        "        loss = loss1  + loss2# + loss3\n",
        "\n",
        "    # Apply gradient\n",
        "    grad = tape.gradient(loss,trainable_vars)\n",
        "    tmp = adam.apply_gradients(zip(grad,trainable_vars))\n",
        "\n",
        "C = C.numpy()\n",
        "plt.imshow(C)\n",
        "plt.colorbar()\n",
        "plt.show()\n",
        "\n",
        "treesearch = sp.spatial.cKDTree(evecs_tar[:,0:n_evals])\n",
        "p2p = treesearch.query(np.matmul(evecs_src[:,0:n_evals], C), k=1)[1]\n",
        "plot_pair(v_src, v_tar, f_src, f_tar, funz_src,funz_tar)\n",
        "err = np.sum(np.square(v_src - v_src[p2p,:]))\n",
        "print(err)"
      ],
      "execution_count": 120,
      "outputs": [
        {
          "output_type": "display_data",
          "data": {
            "image/png": "[encoded data removed]",
            "text/plain": [
              "<Figure size 432x288 with 2 Axes>"
            ]
          },
          "metadata": {
            "tags": [],
            "needs_background": "light"
          }
        },
        {
          "output_type": "display_data",
          "data": {
            "application/vnd.jupyter.widget-view+json": {
              "model_id": "0602c63a92e54048b3bfa8f396090227",
              "version_minor": 0,
              "version_major": 2
            },
            "text/plain": [
              "Renderer(camera=PerspectiveCamera(children=(DirectionalLight(color='white', intensity=0.6, position=(0.4032461…"
            ]
          },
          "metadata": {
            "tags": []
          }
        },
        {
          "output_type": "stream",
          "text": [
            "230.65661710726357\n"
          ],
          "name": "stdout"
        }
      ]
    },
    {
      "cell_type": "markdown",
      "metadata": {
        "id": "Mhc2WSUQS8Xw",
        "colab_type": "text"
      },
      "source": [
        "A common post-processing is ICP refinement. The main idea is that we can think to our spectral embedding as N-dimensional pointclouds. If my change of basis $C$ brings the two close enough, we can try to improve the alignment using the rigid registration algorithm called Iterative Closest Point (ICP). \n",
        "It is based on two steps. Given a pointcloud $M$ that I want to align to $N$:\n",
        "- Computing the Nearest Neighbor matching between $M$ and $N$\n",
        "- Computing the optimal roto-translation via SVD that align $M$ with $N$ using the given NN correspondence\n",
        "- Iterate until convergence\n",
        "\n",
        "It is prone to get stuck in local-minima, but if the pointclouds are alrady close enough, it can significatly improve the solution."
      ]
    },
    {
      "cell_type": "code",
      "metadata": {
        "id": "zv-jXEQZ8BHC",
        "colab_type": "code",
        "colab": {
          "base_uri": "https://localhost:8080/",
          "height": 370,
          "referenced_widgets": [
            "27d3be532b5445ab9d824f3f74dbce5f"
          ]
        },
        "outputId": "ada3609f-d9a4-48db-cf22-e71d5c7baaa8"
      },
      "source": [
        "import scipy\n",
        "print('ICP refine...')\n",
        "for k in np.arange(0,5):\n",
        "    treesearch = scipy.spatial.cKDTree(np.matmul(C,evecs_src[:,0:n_evals].T).T)\n",
        "    matches = treesearch.query(evecs_tar[:,0:n_evals], k=1)[1]\n",
        "    W = np.linalg.lstsq(evecs_tar[:, 0:n_evals],evecs_src[matches, 0:n_evals])[0]\n",
        "    d = np.linalg.svd(W)\n",
        "    C_ICP = np.matmul(np.matmul(d[0], np.eye(n_evals)), d[2])\n",
        "\n",
        "plt.imshow(C_ICP)\n",
        "plt.colorbar()\n",
        "plt.show()\n",
        "\n",
        "treesearch = sp.spatial.cKDTree(evecs_tar[:,0:n_evals])\n",
        "p2p = treesearch.query(np.matmul(evecs_src[:,0:n_evals], C_ICP), k=1)[1]\n",
        "plot_pair(v_src, v_tar, f_src, f_tar, funz_src,funz_tar)\n",
        "err = np.sum(np.square(v_tar - v_tar[p2p,:]))\n",
        "print(err)"
      ],
      "execution_count": 122,
      "outputs": [
        {
          "output_type": "stream",
          "text": [
            "ICP refine...\n"
          ],
          "name": "stdout"
        },
        {
          "output_type": "stream",
          "text": [
            "/usr/local/lib/python3.6/dist-packages/ipykernel_launcher.py:6: FutureWarning: `rcond` parameter will change to the default of machine precision times ``max(M, N)`` where M and N are the input matrix dimensions.\n",
            "To use the future default and silence this warning we advise to pass `rcond=None`, to keep using the old, explicitly pass `rcond=-1`.\n",
            "  \n"
          ],
          "name": "stderr"
        },
        {
          "output_type": "display_data",
          "data": {
            "image/png": "[encoded data removed]",
            "text/plain": [
              "<Figure size 432x288 with 2 Axes>"
            ]
          },
          "metadata": {
            "tags": [],
            "needs_background": "light"
          }
        },
        {
          "output_type": "display_data",
          "data": {
            "application/vnd.jupyter.widget-view+json": {
              "model_id": "27d3be532b5445ab9d824f3f74dbce5f",
              "version_minor": 0,
              "version_major": 2
            },
            "text/plain": [
              "Renderer(camera=PerspectiveCamera(children=(DirectionalLight(color='white', intensity=0.6, position=(0.4032461…"
            ]
          },
          "metadata": {
            "tags": []
          }
        },
        {
          "output_type": "stream",
          "text": [
            "193.92387244139638\n"
          ],
          "name": "stdout"
        }
      ]
    },
    {
      "cell_type": "markdown",
      "metadata": {
        "id": "pcutF7d3UOdz",
        "colab_type": "text"
      },
      "source": [
        "Finally, here we anticipate the ZoomOut refinement that you will see tomorrow. This let to compute a high dimensional $C$. It is based on two iterative steps.Given a $C$ of dimension $n \\times n$:\n",
        "- Convert it into a dense correspondence\n",
        "- Convert the dense correspondence into a $C$ of dimension $(n+1) \\times (n+1)$ \n",
        "These two simple steps produce an impressive improvement in the matching quality."
      ]
    },
    {
      "cell_type": "code",
      "metadata": {
        "id": "qQkuKj10UKld",
        "colab_type": "code",
        "colab": {}
      },
      "source": [
        "C_iter = C_ICP\n",
        "n_iter = 20\n",
        "for i in np.arange(0,n_iter):\n",
        "  treesearch = sp.spatial.cKDTree(evecs_tar[:,0:n_evals+i])\n",
        "  p2p = treesearch.query(np.matmul(evecs_src[:,0:n_evals+i], C_iter), k=1)[1]\n",
        "\n",
        "  C_iter = np.matmul(np.linalg.pinv(evecs_src[p2p,0:n_evals+i+1]),evecs_tar[:,0:n_evals+i+1])\n",
        "\n"
      ],
      "execution_count": 129,
      "outputs": []
    },
    {
      "cell_type": "code",
      "metadata": {
        "id": "kYcTv7aeVMUy",
        "colab_type": "code",
        "colab": {
          "base_uri": "https://localhost:8080/",
          "height": 284,
          "referenced_widgets": [
            "4c9b28246fe0432d9cb4750f6ba3d25a"
          ]
        },
        "outputId": "6b1bf92c-160e-4ea7-970a-772a88943146"
      },
      "source": [
        "plt.imshow(C_iter)\n",
        "plt.colorbar()\n",
        "plt.show()\n",
        "treesearch = sp.spatial.cKDTree(evecs_src[:,0:n_evals+n_iter])\n",
        "p2p = treesearch.query(np.matmul(evecs_tar[:,0:n_evals+n_iter], C_iter), k=1)[1]\n",
        "plot_pair(v_src, v_tar, f_src, f_tar, funz_src,funz_tar)\n",
        "err = np.sum(np.square(v_tar - v_tar[p2p,:]))\n",
        "print(err)"
      ],
      "execution_count": 130,
      "outputs": [
        {
          "output_type": "display_data",
          "data": {
            "image/png": "[encoded data removed]",
            "text/plain": [
              "<Figure size 432x288 with 2 Axes>"
            ]
          },
          "metadata": {
            "tags": [],
            "needs_background": "light"
          }
        },
        {
          "output_type": "display_data",
          "data": {
            "application/vnd.jupyter.widget-view+json": {
              "model_id": "4c9b28246fe0432d9cb4750f6ba3d25a",
              "version_minor": 0,
              "version_major": 2
            },
            "text/plain": [
              "Renderer(camera=PerspectiveCamera(children=(DirectionalLight(color='white', intensity=0.6, position=(0.4032461…"
            ]
          },
          "metadata": {
            "tags": []
          }
        },
        {
          "output_type": "stream",
          "text": [
            "838.1596828386763\n"
          ],
          "name": "stdout"
        }
      ]
    },
    {
      "cell_type": "code",
      "metadata": {
        "id": "dt8MQAv1W4uD",
        "colab_type": "code",
        "colab": {
          "base_uri": "https://localhost:8080/",
          "height": 265
        },
        "outputId": "0b43f218-86f9-46af-d7c7-ed6f35cfdb1e"
      },
      "source": [
        "plt.imshow(C_ICP)\n",
        "plt.colorbar()\n",
        "plt.show()"
      ],
      "execution_count": 133,
      "outputs": [
        {
          "output_type": "display_data",
          "data": {
            "image/png": "[encoded data removed]",
            "text/plain": [
              "<Figure size 432x288 with 2 Axes>"
            ]
          },
          "metadata": {
            "tags": [],
            "needs_background": "light"
          }
        }
      ]
    }
  ]
}