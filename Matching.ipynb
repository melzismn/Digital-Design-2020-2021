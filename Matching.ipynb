{
  "nbformat": 4,
  "nbformat_minor": 0,
  "metadata": {
    "colab": {
      "name": "Matching.ipynb",
      "provenance": [],
      "collapsed_sections": [],
      "toc_visible": true,
      "authorship_tag": "ABX9TyMFRV41uj3CVergmEWhAKL4",
      "include_colab_link": true
    },
    "kernelspec": {
      "name": "python3",
      "display_name": "Python 3"
    },
    "widgets": {
      "application/vnd.jupyter.widget-state+json": {
        "d1e2781d7a4048a5b9b9522fe7c4fb9f": {
          "model_module": "jupyter-threejs",
          "model_name": "RendererModel",
          "state": {
            "_view_name": "RendererView",
            "shadowMap": "IPY_MODEL_e9b80806e623415db6ab5a0e539872bb",
            "_view_module": "jupyter-threejs",
            "physicallyCorrectLights": false,
            "_model_module_version": "^2.1.0",
            "_view_count": null,
            "autoClear": true,
            "sortObject": true,
            "_model_module": "jupyter-threejs",
            "maxMorphTargets": 8,
            "toneMapping": "LinearToneMapping",
            "layout": "IPY_MODEL_7a58291e7c5c4d428c0e6703615832fc",
            "clearOpacity": 1,
            "clearColor": "#000000",
            "gammaInput": false,
            "controls": [
              "IPY_MODEL_7d4f082612a740d8964a32ef09ad9f23"
            ],
            "camera": "IPY_MODEL_b7c134ece0c646cfb44196b5398b0ea5",
            "toneMappingWhitePoint": 1,
            "clippingPlanes": [],
            "autoClearColor": true,
            "_dom_classes": [],
            "_model_name": "RendererModel",
            "_height": 600,
            "gammaOutput": false,
            "toneMappingExposure": 1,
            "scene": "IPY_MODEL_0b2b9744726a41af81bc4fe28244bd94",
            "background": "black",
            "_alpha": false,
            "autoClearDepth": true,
            "_pause_autorender": false,
            "maxMorphNormals": 4,
            "_antialias": true,
            "_width": 600,
            "autoClearStencil": true,
            "_view_module_version": "^2.1.0",
            "gammaFactor": 2,
            "localClippingEnabled": false,
            "background_opacity": 1,
            "_webgl_version": 2
          }
        },
        "cd2bfdded67043cfbeef2f68fc18d3a8": {
          "model_module": "jupyter-threejs",
          "model_name": "RendererModel",
          "state": {
            "_view_name": "RendererView",
            "shadowMap": "IPY_MODEL_07ee3d4a9c0a40db9e124d003fe4a211",
            "_view_module": "jupyter-threejs",
            "physicallyCorrectLights": false,
            "_model_module_version": "^2.1.0",
            "_view_count": null,
            "autoClear": true,
            "sortObject": true,
            "_model_module": "jupyter-threejs",
            "maxMorphTargets": 8,
            "toneMapping": "LinearToneMapping",
            "layout": "IPY_MODEL_86c831c618b84af5a6c818755cc748eb",
            "clearOpacity": 1,
            "clearColor": "#000000",
            "gammaInput": false,
            "controls": [
              "IPY_MODEL_1c5b06b827f342eba5a0397bac07f749"
            ],
            "camera": "IPY_MODEL_56b1051dcbfa41aa9d0c3549dc668834",
            "toneMappingWhitePoint": 1,
            "clippingPlanes": [],
            "autoClearColor": true,
            "_dom_classes": [],
            "_model_name": "RendererModel",
            "_height": 600,
            "gammaOutput": false,
            "toneMappingExposure": 1,
            "scene": "IPY_MODEL_b7d67bada2fb47dbb720445aec1d7ea8",
            "background": "black",
            "_alpha": false,
            "autoClearDepth": true,
            "_pause_autorender": false,
            "maxMorphNormals": 4,
            "_antialias": true,
            "_width": 600,
            "autoClearStencil": true,
            "_view_module_version": "^2.1.0",
            "gammaFactor": 2,
            "localClippingEnabled": false,
            "background_opacity": 1,
            "_webgl_version": 2
          }
        }
      }
    }
  },
  "cells": [
    {
      "cell_type": "markdown",
      "metadata": {
        "id": "view-in-github",
        "colab_type": "text"
      },
      "source": [
        "<a href=\"https://colab.research.google.com/github/riccardomarin/SpectralShapeAnalysis/blob/master/Matching.ipynb\" target=\"_parent\"><img src=\"https://colab.research.google.com/assets/colab-badge.svg\" alt=\"Open In Colab\"/></a>"
      ]
    },
    {
      "cell_type": "code",
      "metadata": {
        "id": "j2yRvI6BmMg7",
        "colab_type": "code",
        "colab": {}
      },
      "source": [
        "# ONLY FOR COLAB\n",
        "# Not required in Binder\n",
        "\n",
        "!wget -c https://repo.anaconda.com/miniconda/Miniconda3-4.5.4-Linux-x86_64.sh\n",
        "!chmod +x Miniconda3-4.5.4-Linux-x86_64.sh\n",
        "!bash ./Miniconda3-4.5.4-Linux-x86_64.sh -b -f -p /usr/local\n",
        "!conda install -q -y --prefix /usr/local python=3.6 ujson\n",
        "\n",
        "import sys\n",
        "sys.path.append('/usr/local/lib/python3.6/site-packages')\n",
        "\n",
        "import ujson\n",
        "print(ujson.dumps({1:2}))\n",
        "\n",
        "!conda install -c conda-forge igl\n",
        "!conda install -c conda-forge meshplot"
      ],
      "execution_count": null,
      "outputs": []
    },
    {
      "cell_type": "code",
      "metadata": {
        "id": "BpI4m_FcmS2V",
        "colab_type": "code",
        "colab": {}
      },
      "source": [
        "import igl\n",
        "import scipy as sp\n",
        "import numpy as np\n",
        "from meshplot import plot, subplot, interact\n",
        "import meshplot\n",
        "from scipy.sparse.linalg import eigs\n",
        "from scipy.sparse import csr_matrix\n",
        "import os \n",
        "from sklearn.cluster import KMeans"
      ],
      "execution_count": null,
      "outputs": []
    },
    {
      "cell_type": "code",
      "metadata": {
        "id": "9rBPjw-0mXTL",
        "colab_type": "code",
        "colab": {}
      },
      "source": [
        "def plot_pair(v1, v2, f1, f2, c1, c2, color_ops = {}):\n",
        "    # Compute a scale factor\n",
        "    M1 = igl.massmatrix(v1, f1, igl.MASSMATRIX_TYPE_VORONOI)\n",
        "    M2 = igl.massmatrix(v2, f2, igl.MASSMATRIX_TYPE_VORONOI)\n",
        "    scale_factor = np.sqrt(np.sum(M2)/np.sum(M1))\n",
        "\n",
        "    # Align the shapes\n",
        "    v2 = v2 - np.mean(v2,axis=0)\n",
        "    v1_align = v1 * scale_factor + np.mean(v1,axis=0) + [0.7,-0.7,0.0]\n",
        "\n",
        "    # Merge the models\n",
        "    v_all = np.vstack((v1_align, v2))\n",
        "    f_all = np.vstack((f1, f2 + np.max(f1)+1))\n",
        "    c_all = np.vstack((c1, c2))\n",
        "    \n",
        "    plot(v_all, f_all, c_all, shading = color_ops)"
      ],
      "execution_count": null,
      "outputs": []
    },
    {
      "cell_type": "markdown",
      "metadata": {
        "id": "UXJB3W56qLKr",
        "colab_type": "text"
      },
      "source": [
        "# WKS\n",
        "\n",
        "We will use the Wave Kernel Signature (WKS) descriptor to do the matching. Recall the formula:\n",
        "\n",
        "$K_E(x,x) = \\sum\\limits_{l=1}^{\\infty}e^{- \\frac{(log(E) - log(\\lambda_l))^2}{2\\sigma^2}} \\phi_l(x)^2 $\n",
        "\n",
        "Where:\n",
        "- $sigma = 7 \\delta$\n",
        "- $delta =  (e_{max} - e{min})/ M$\n",
        "- $e_{max} = log(E_N) - 2\\sigma$\n",
        "- $e_{min} = log(E_1) + 2\\sigma$\n",
        "- $E_N$ is the max eigenvalue in absolute value\n",
        "- $E_1$ is the min non-zero eigenvalue in absolute value\n",
        "- $M$ is the number of WKS scales\n",
        "\n",
        "The tasks are:\n",
        "- Read the meshes, compute the LBO eigenvectors\n",
        "- Define the WKS computation\n",
        "- Visualize the WKS scales on meshes\n",
        "- Perform the matching using WKS (Nearest-Neighbor in the descriptor space)\n",
        "- Visualize the matching (and compute the error)\n",
        "\n",
        "Are the descriptors coherent among the shapes, for different descriptor scales? Is the matching good? We can change the number of descriptors: does it impact the matching?"
      ]
    },
    {
      "cell_type": "code",
      "metadata": {
        "id": "K3prcCzJn1Cg",
        "colab_type": "code",
        "colab": {
          "base_uri": "https://localhost:8080/",
          "height": 85
        },
        "outputId": "37cd743d-6a85-496f-8d25-4fdca2b1b686"
      },
      "source": [
        "v_src, f_src = igl.read_triangle_mesh(os.path.join('.', \"data\", \"tr_reg_089.off\"))\n",
        "\n",
        "L_src = igl.cotmatrix(v_src, f_src)\n",
        "M_src = igl.massmatrix(v_src, f_src, igl.MASSMATRIX_TYPE_VORONOI)\n",
        "\n",
        "evals_src, evecs_src = eigs(L_src,k=100,M=M_src,sigma=0)\n",
        "evecs_src = evecs_src.astype(np.float32)\n",
        "\n",
        "v_tar, f_tar = igl.read_triangle_mesh(os.path.join('.', \"data\", \"tr_reg_043.off\"))\n",
        "\n",
        "L_tar = igl.cotmatrix(v_tar, f_tar)\n",
        "M_tar = igl.massmatrix(v_tar, f_tar, igl.MASSMATRIX_TYPE_VORONOI)\n",
        "\n",
        "evals_tar, evecs_tar = eigs(L_tar,k=100,M=M_tar,sigma=0)\n",
        "evecs_tar = evecs_tar.astype(np.float32)"
      ],
      "execution_count": null,
      "outputs": [
        {
          "output_type": "stream",
          "text": [
            "/usr/local/lib/python3.6/dist-packages/ipykernel_launcher.py:7: ComplexWarning: Casting complex values to real discards the imaginary part\n",
            "  import sys\n",
            "/usr/local/lib/python3.6/dist-packages/ipykernel_launcher.py:15: ComplexWarning: Casting complex values to real discards the imaginary part\n",
            "  from ipykernel import kernelapp as app\n"
          ],
          "name": "stderr"
        }
      ]
    },
    {
      "cell_type": "code",
      "metadata": {
        "id": "xa35jY3hpwW5",
        "colab_type": "code",
        "colab": {}
      },
      "source": [
        "def WKS(vertices, Lambda, Phi, Area, wks_size = 100):\n",
        "    import numpy as np\n",
        "\n",
        "    n_evecs = Phi.shape[1]\n",
        "    absoluteEigenvalues = np.abs(Lambda)\n",
        "    emin = np.log(absoluteEigenvalues[1])\n",
        "    emax = np.log(absoluteEigenvalues[len(absoluteEigenvalues) - 1])\n",
        "    \n",
        "    D = np.matmul(Phi.T, Area.__matmul__(Phi**2))\n",
        "\n",
        "    s = 7 * (emax - emin) / wks_size\n",
        "    \n",
        "    emin = emin + 2 * s\n",
        "    emax = emax - 2 * s\n",
        "    es = np.linspace(emin, emax, wks_size)\n",
        "\n",
        "    T = np.exp(-np.square(\n",
        "        np.tile(np.reshape(np.log(absoluteEigenvalues), (n_evecs, 1)), (1, wks_size)) - np.tile(es.T, (n_evecs, 1))) / (\n",
        "                       2 * np.square(s)))\n",
        "    WKS = np.matmul(D,T)\n",
        "    WKS = np.dot(Phi, WKS)\n",
        "\n",
        "    return np.asarray(WKS)"
      ],
      "execution_count": null,
      "outputs": []
    },
    {
      "cell_type": "code",
      "metadata": {
        "id": "YBG2ZKlHp1Jv",
        "colab_type": "code",
        "colab": {}
      },
      "source": [
        "# Computing the descriptors for the two shapes\n",
        "D_src = WKS(v_src, evals_src, evecs_src, M_src, wks_size = 200)\n",
        "D_tar = WKS(v_tar, evals_tar, evecs_tar, M_tar, wks_size = 200)"
      ],
      "execution_count": null,
      "outputs": []
    },
    {
      "cell_type": "code",
      "metadata": {
        "id": "Sfu49Cf01Xec",
        "colab_type": "code",
        "colab": {
          "base_uri": "https://localhost:8080/",
          "height": 17,
          "referenced_widgets": [
            "d1e2781d7a4048a5b9b9522fe7c4fb9f"
          ]
        },
        "outputId": "2842995b-ee44-45dd-8469-2197c97812d0"
      },
      "source": [
        "# Visualizing descriptors\n",
        "i = 199\n",
        "plot_pair(v_src, v_tar, f_src, f_tar, D_src[:,i:i+1], D_tar[:,i:i+1])"
      ],
      "execution_count": null,
      "outputs": [
        {
          "output_type": "display_data",
          "data": {
            "application/vnd.jupyter.widget-view+json": {
              "model_id": "d1e2781d7a4048a5b9b9522fe7c4fb9f",
              "version_minor": 0,
              "version_major": 2
            },
            "text/plain": [
              "Renderer(camera=PerspectiveCamera(children=(DirectionalLight(color='white', intensity=0.6, position=(0.4852750…"
            ]
          },
          "metadata": {
            "tags": []
          }
        }
      ]
    },
    {
      "cell_type": "code",
      "metadata": {
        "id": "wWHhseWx1ZDm",
        "colab_type": "code",
        "colab": {}
      },
      "source": [
        "# Nearest Neighbor\n",
        "treesearch = sp.spatial.cKDTree(D_tar)\n",
        "p2p = treesearch.query(D_src, k=1)[1]"
      ],
      "execution_count": null,
      "outputs": []
    },
    {
      "cell_type": "code",
      "metadata": {
        "id": "RyRvBccW1aNc",
        "colab_type": "code",
        "colab": {}
      },
      "source": [
        "# To see the quality of the matching we plot a function on one shape and we transfer it to the other\n",
        "\n",
        "funz_ = (v_tar - np.min(v_tar,0))/np.tile((np.max(v_tar,0)-np.min(v_tar,0)),(np.size(v_tar,0),1));\n",
        "colors = np.cos(funz_);\n",
        "funz_tar = (colors-np.min(colors))/(np.max(colors) - np.min(colors));\n",
        "funz_src = funz_tar[p2p]\n"
      ],
      "execution_count": null,
      "outputs": []
    },
    {
      "cell_type": "code",
      "metadata": {
        "id": "gN3sxDPK1euO",
        "colab_type": "code",
        "colab": {
          "base_uri": "https://localhost:8080/",
          "height": 452,
          "referenced_widgets": [
            "cd2bfdded67043cfbeef2f68fc18d3a8"
          ]
        },
        "outputId": "66a25400-5c2f-4394-c93e-8d7f87d3cff9"
      },
      "source": [
        "# subplot(v_src, f_src, funz,s=[1,2,0])\n",
        "# subplot(v_tar, f_tar, funz2,s=[1,2,1])\n",
        "\n",
        "plot_pair(v_src, v_tar, f_src, f_tar, funz_src,funz_tar)\n",
        "\n",
        "# We can also measure the error\n",
        "d = igl.exact_geodesic(v_tar, f_tar, 0,p2p)\n"
      ],
      "execution_count": null,
      "outputs": [
        {
          "output_type": "display_data",
          "data": {
            "application/vnd.jupyter.widget-view+json": {
              "model_id": "cd2bfdded67043cfbeef2f68fc18d3a8",
              "version_minor": 0,
              "version_major": 2
            },
            "text/plain": [
              "Renderer(camera=PerspectiveCamera(children=(DirectionalLight(color='white', intensity=0.6, position=(0.4852750…"
            ]
          },
          "metadata": {
            "tags": []
          }
        },
        {
          "output_type": "error",
          "ename": "TypeError",
          "evalue": "ignored",
          "traceback": [
            "\u001b[0;31m---------------------------------------------------------------------------\u001b[0m",
            "\u001b[0;31mTypeError\u001b[0m                                 Traceback (most recent call last)",
            "\u001b[0;32m<ipython-input-124-8a1deda980bf>\u001b[0m in \u001b[0;36m<module>\u001b[0;34m()\u001b[0m\n\u001b[1;32m      5\u001b[0m \u001b[0;34m\u001b[0m\u001b[0m\n\u001b[1;32m      6\u001b[0m \u001b[0;31m# We can also measure the error\u001b[0m\u001b[0;34m\u001b[0m\u001b[0;34m\u001b[0m\u001b[0;34m\u001b[0m\u001b[0m\n\u001b[0;32m----> 7\u001b[0;31m \u001b[0md\u001b[0m \u001b[0;34m=\u001b[0m \u001b[0migl\u001b[0m\u001b[0;34m.\u001b[0m\u001b[0mexact_geodesic\u001b[0m\u001b[0;34m(\u001b[0m\u001b[0mv_tar\u001b[0m\u001b[0;34m,\u001b[0m \u001b[0mf_tar\u001b[0m\u001b[0;34m,\u001b[0m \u001b[0;36m0\u001b[0m\u001b[0;34m,\u001b[0m\u001b[0mp2p\u001b[0m\u001b[0;34m)\u001b[0m\u001b[0;34m\u001b[0m\u001b[0;34m\u001b[0m\u001b[0m\n\u001b[0m",
            "\u001b[0;31mTypeError\u001b[0m: exact_geodesic(): incompatible function arguments. The following argument types are supported:\n    1. (v: array, f: array, vs: array, vt: array, fs: numpy.array | None = None, ft: numpy.array | None = None) -> object\n\nInvoked with: array([[ 0.08534071,  0.63299853, -0.03120413],\n       [ 0.07915061,  0.62048966, -0.0233257 ],\n       [ 0.09082505,  0.61712444, -0.03088942],\n       ...,\n       [-0.03086158,  0.581864  , -0.12400318],\n       [-0.03125567,  0.58329618, -0.12291047],\n       [-0.03269038,  0.5820381 , -0.12208333]]), array([[   3,    0,    2],\n       [   2,    0,    1],\n       [   5,    4,    1],\n       ...,\n       [4805, 3511, 6309],\n       [3511, 1330, 6309],\n       [6309, 1330, 4687]], dtype=int64), 0, array([3673, 3673, 3673, ..., 3673, 3673, 3673])"
          ]
        }
      ]
    },
    {
      "cell_type": "code",
      "metadata": {
        "id": "BZopJdNtTIVS",
        "colab_type": "code",
        "colab": {
          "base_uri": "https://localhost:8080/",
          "height": 34
        },
        "outputId": "92bd7a1d-a983-49c2-8c6f-9e66edb3649c"
      },
      "source": [
        "d = 0\n",
        "for i in np.arange(0,6890):\n",
        "  d = d + igl.exact_geodesic(v_tar, f_tar, np.asarray([i]),np.asarray([p2p[i]]))\n",
        "\n",
        "d"
      ],
      "execution_count": null,
      "outputs": [
        {
          "output_type": "execute_result",
          "data": {
            "text/plain": [
              "2338.673243906525"
            ]
          },
          "metadata": {
            "tags": []
          },
          "execution_count": 144
        }
      ]
    },
    {
      "cell_type": "code",
      "metadata": {
        "id": "kiEFUB5w5eXl",
        "colab_type": "code",
        "colab": {}
      },
      "source": [
        "def my_WKS(evals, evecs, wks_size = 100):\n",
        "    abs_evals = np.abs(evals)\n",
        "    n_evecs = evecs.shape[1]\n",
        "    \n",
        "    emin = np.log(abs_evals[1])\n",
        "    emax = np.log(np.max(abs_evals))\n",
        "    sigma = 7 * (emax - emin) / wks_size\n",
        "    \n",
        "    emin = emin + 2 * sigma\n",
        "    emax = emax - 2 * sigma\n",
        "    \n",
        "    es = np.linspace(emin, emax, wks_size)\n",
        "    \n",
        "    for i in np.arange(1, n_evecs):\n",
        "        squared_evecs = evecs**2\n",
        "        exponential = np.square(np.exp(es[i]  - np.log(es[i])))/(2 * sigma)\n",
        "        \n",
        "    return exponential\n",
        "    \n",
        "e = my_WKS(evals_src, evecs_src, 100)\n",
        "e"
      ],
      "execution_count": null,
      "outputs": []
    },
    {
      "cell_type": "markdown",
      "metadata": {
        "id": "fkmqC8jZ59S-",
        "colab_type": "text"
      },
      "source": [
        "# Functional Maps\n",
        "\n",
        "Here we will use the Functional Maps framework. Given some descriptor $D$ on the first shape and $F$ on the second, we will compute our map $C$ such that: \\\n",
        "$ d = (\\phi_{src}^{T} A_{src} D)^T $ \\\n",
        "$ f = (\\phi_{tar}^{T} A_{tar} F)^T $ \\\n",
        "$ C d = f $ \\\n",
        "$ C =  f d^{-1} $"
      ]
    },
    {
      "cell_type": "code",
      "metadata": {
        "id": "wTyopAGD583y",
        "colab_type": "code",
        "colab": {}
      },
      "source": [
        "d = (np.matmul(evecs_src.T, np.matmul( M_src.todense() , D_src))).T\n",
        "f = (np.matmul(evecs_tar.T, np.matmul( M_tar.todense() , D_tar))).T\n",
        "C = np.linalg.pinv(d) * f"
      ],
      "execution_count": null,
      "outputs": []
    },
    {
      "cell_type": "code",
      "metadata": {
        "id": "_bn_qk_f-Weg",
        "colab_type": "code",
        "colab": {}
      },
      "source": [
        "import matplotlib.pyplot as plt\n",
        "\n",
        "plt.imshow(C)\n",
        "plt.colorbar()\n",
        "plt.show()"
      ],
      "execution_count": null,
      "outputs": []
    },
    {
      "cell_type": "code",
      "metadata": {
        "id": "ObnDcw1x-Ytg",
        "colab_type": "code",
        "colab": {}
      },
      "source": [
        "treesearch = scipy.spatial.cKDTree(evecs_src)\n",
        "p2p = treesearch.query(evecs_tar * C, k=1)[1]"
      ],
      "execution_count": null,
      "outputs": []
    },
    {
      "cell_type": "code",
      "metadata": {
        "id": "xgk5NvZOAEKa",
        "colab_type": "code",
        "colab": {}
      },
      "source": [
        "p2p"
      ],
      "execution_count": null,
      "outputs": []
    },
    {
      "cell_type": "code",
      "metadata": {
        "id": "piGDB7xDAOnC",
        "colab_type": "code",
        "colab": {}
      },
      "source": [
        "import tensorflow as tf\n",
        "\n",
        "Ctf = tf.Variable(np.eye(100))\n",
        "adam = tf.optimizers.Adam(1e-1)\n",
        "\n",
        "for i in np.arange(0,10000):\n",
        "  with tf.GradientTape() as grad:\n",
        "    loss = tf.reduce_sum(tf.square(tf.transpose(tf.matmul(Ctf,d.T)) - f))\n",
        "\n",
        "dCtf = grad.gradient(loss,Ctf)\n",
        "adam.apply_gradients(zip([dCtf], [Ctf]))"
      ],
      "execution_count": null,
      "outputs": []
    },
    {
      "cell_type": "code",
      "metadata": {
        "id": "5EuZXbuxBM5F",
        "colab_type": "code",
        "colab": {}
      },
      "source": [
        "plt.imshow(Ctf.numpy())\n",
        "plt.colorbar()\n",
        "plt.show()\n",
        "Ctf"
      ],
      "execution_count": null,
      "outputs": []
    },
    {
      "cell_type": "code",
      "metadata": {
        "id": "D3x2hN1yCfEw",
        "colab_type": "code",
        "colab": {}
      },
      "source": [
        ""
      ],
      "execution_count": null,
      "outputs": []
    }
  ]
}