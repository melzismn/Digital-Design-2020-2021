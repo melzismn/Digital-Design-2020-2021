{
  "nbformat": 4,
  "nbformat_minor": 0,
  "metadata": {
    "colab": {
      "name": "icp.ipynb",
      "provenance": [],
      "authorship_tag": "ABX9TyOxCdfQAiZgXJfjioYuomWD",
      "include_colab_link": true
    },
    "kernelspec": {
      "name": "python3",
      "display_name": "Python 3"
    }
  },
  "cells": [
    {
      "cell_type": "markdown",
      "metadata": {
        "id": "view-in-github",
        "colab_type": "text"
      },
      "source": [
        "<a href=\"https://colab.research.google.com/github/melzismn/Digital-Design-2020-2021/blob/master/icp.ipynb\" target=\"_parent\"><img src=\"https://colab.research.google.com/assets/colab-badge.svg\" alt=\"Open In Colab\"/></a>"
      ]
    },
    {
      "cell_type": "code",
      "metadata": {
        "id": "_PS4291mcFQC"
      },
      "source": [
        "# ONLY FOR COLAB\r\n",
        "# Not required in Binder\r\n",
        "\r\n",
        "!wget -c https://repo.anaconda.com/miniconda/Miniconda3-4.5.4-Linux-x86_64.sh\r\n",
        "!chmod +x Miniconda3-4.5.4-Linux-x86_64.sh\r\n",
        "!bash ./Miniconda3-4.5.4-Linux-x86_64.sh -b -f -p /usr/local\r\n",
        "\r\n",
        "!conda install -q -y --prefix /usr/local python=3.6 ujson\r\n",
        "\r\n",
        "import sys\r\n",
        "sys.path.append('/usr/local/lib/python3.6/site-packages')\r\n",
        "\r\n",
        "import ujson\r\n",
        "print(ujson.dumps({1:2}))\r\n",
        "\r\n",
        "!conda install -c conda-forge igl\r\n",
        "!conda install -c conda-forge meshplot"
      ],
      "execution_count": null,
      "outputs": []
    },
    {
      "cell_type": "markdown",
      "metadata": {
        "id": "Y29Q5SD3cNat"
      },
      "source": [
        "# Import necessary utils"
      ]
    },
    {
      "cell_type": "code",
      "metadata": {
        "id": "HCHTeDd3cKAY"
      },
      "source": [
        "import igl\r\n",
        "import scipy as sp\r\n",
        "import numpy as np\r\n",
        "from meshplot import plot, subplot, interact\r\n",
        "from scipy.sparse.linalg import eigsh\r\n",
        "from scipy.sparse import csr_matrix\r\n",
        "import os \r\n",
        "from sklearn.cluster import KMeans\r\n",
        "from pyflann import *\r\n",
        "import matplotlib.pyplot as plt"
      ],
      "execution_count": null,
      "outputs": []
    },
    {
      "cell_type": "markdown",
      "metadata": {
        "id": "rvHyenCMcZHO"
      },
      "source": [
        "# Run a first example of flann search\r\n",
        "In this exercise we will exploy the [FLANN Library](https://pypi.org/project/flann/) a Fast Library for Approximate Nearest Neighbors (FLANN)"
      ]
    },
    {
      "cell_type": "code",
      "metadata": {
        "id": "wqZkXTWg8wBq"
      },
      "source": [
        "# a first example\r\n",
        "dataset = np.random.rand(10000, 128)\r\n",
        "testset = np.random.rand(1000, 128)\r\n",
        "flann = FLANN()\r\n",
        "[result, dists] = flann.nn(dataset, testset, 1, algorithm=\"kmeans\", branching=32, iterations=7, checks=16)\r\n",
        "result.shape"
      ],
      "execution_count": null,
      "outputs": []
    },
    {
      "cell_type": "markdown",
      "metadata": {
        "id": "ktqkCM5REeMK"
      },
      "source": [
        "# Load shape and prepare the GT tranformation"
      ]
    },
    {
      "cell_type": "code",
      "metadata": {
        "id": "o4GYciAUEohv"
      },
      "source": [
        "# read mesh\r\n",
        "v, f = igl.read_triangle_mesh(os.path.join('.', \"data\", \"MooseOBJ.obj\"))\r\n",
        "v1 = v;\r\n",
        "#H = np.random.randn(3, 3)\r\n",
        "#Rot_gt, tmp = sp.linalg.qr(H)\r\n",
        "# Trasl_gt = np.random.randn(1, 3)\r\n",
        "alpha = math.pi*0.4\r\n",
        "Rot_gt =  np.array(([math.cos(alpha), math.sin(alpha), 0],[-math.sin(alpha), math.cos(alpha), 0],[0, 0, 1]))\r\n",
        "Trasl_gt = [2.5, 1.1, 4.1]\r\n",
        "v2 = np.transpose(np.matmul(Rot_gt,np.transpose(v))) + Trasl_gt\r\n",
        "\r\n",
        "# check that R_gt is a rotation.\r\n",
        "plt.matshow(np.matmul(Rot_gt.T,Rot_gt));\r\n",
        "plt.colorbar()\r\n",
        "plt.show()\r\n",
        "\r\n",
        "# plot v1 and v2\r\n",
        "#np.max(v)"
      ],
      "execution_count": null,
      "outputs": []
    },
    {
      "cell_type": "markdown",
      "metadata": {
        "id": "CI3Fw6LtGisZ"
      },
      "source": [
        "# implement ICP\r\n",
        "Following the slides from our this course we can implement the ICP between v1 and v2. You can also take a look at the [following paper](http://graphics.stanford.edu/~smr/ICP/comparison/eggert_comparison_mva97.pdf) (Section 3.1) for a more in-depth discussion of the computation."
      ]
    },
    {
      "cell_type": "code",
      "metadata": {
        "id": "UJX15w56G-5y"
      },
      "source": [
        "# initialize some variables\r\n",
        "Stilde = np.diag([1,1,-1]);\r\n",
        "X = v1;\r\n",
        "Y = v2;\r\n",
        "\r\n",
        "# plot intial\r\n",
        "fig = plt.figure()\r\n",
        "ax = fig.add_subplot(111, projection='3d')\r\n",
        "ax.scatter(X[:,0], X[:,1], X[:,2], marker='o')\r\n",
        "ax.scatter(Y[:,0], Y[:,1], Y[:,2], marker='^')\r\n",
        "\r\n",
        "muX = np.expand_dims(np.transpose(np.mean(X,0)),0)\r\n",
        "muY = np.expand_dims(np.transpose(np.mean(Y,0)),0)\r\n",
        "[idxs, dists] = flann.nn(Y, X, 1, algorithm=\"kmeans\", branching=32, iterations=7, checks=16)\r\n",
        "print(np.amax(dists))\r\n",
        "\r\n",
        "while np.amax(dists) > 1e-1:\r\n",
        "   C = np.matmul(np.transpose(Y[idxs,:] - muY),(X - muX))\r\n",
        "   [U, S, V] = np.linalg.svd(C, full_matrices=True)\r\n",
        "   Ropt = np.matmul(U,V)\r\n",
        "   if np.linalg.det(Ropt)<0:\r\n",
        "       Ropt = np.matmul(U,np.matmul(Stilde,V)) \r\n",
        "\r\n",
        "   Topt = np.transpose(np.transpose(muY) - np.matmul(Ropt,np.transpose(muX)))\r\n",
        "   \r\n",
        "   X = np.transpose(np.matmul(Ropt,np.transpose(X))) + Topt\r\n",
        "   [idxs, dists] = flann.nn(Y, X, 1, algorithm=\"kmeans\", branching=32, iterations=7, checks=16)\r\n",
        "   muX = np.expand_dims(np.transpose(np.mean(X,0)),0)\r\n",
        "   print(np.amax(dists))\r\n",
        "\r\n",
        "# plot final\r\n",
        "fig = plt.figure()\r\n",
        "ax = fig.add_subplot(111, projection='3d')\r\n",
        "ax.scatter(X[:,0], X[:,1], X[:,2], marker='o')\r\n",
        "ax.scatter(Y[:,0], Y[:,1], Y[:,2], marker='^')"
      ],
      "execution_count": null,
      "outputs": []
    }
  ]
}