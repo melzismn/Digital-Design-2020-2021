{
  "nbformat": 4,
  "nbformat_minor": 0,
  "metadata": {
    "colab": {
      "name": "icp.ipynb",
      "provenance": [],
      "authorship_tag": "ABX9TyNjqEcxy6Fsp9URFXDIfmcr",
      "include_colab_link": true
    },
    "kernelspec": {
      "name": "python3",
      "display_name": "Python 3"
    }
  },
  "cells": [
    {
      "cell_type": "markdown",
      "metadata": {
        "id": "view-in-github",
        "colab_type": "text"
      },
      "source": [
        "<a href=\"https://colab.research.google.com/github/melzismn/Digital-Design-2020-2021/blob/master/icp.ipynb\" target=\"_parent\"><img src=\"https://colab.research.google.com/assets/colab-badge.svg\" alt=\"Open In Colab\"/></a>"
      ]
    },
    {
      "cell_type": "code",
      "metadata": {
        "id": "_PS4291mcFQC"
      },
      "source": [
        "# ONLY FOR COLAB\r\n",
        "# Not required in Binder\r\n",
        "\r\n",
        "!wget -c https://repo.anaconda.com/miniconda/Miniconda3-4.5.4-Linux-x86_64.sh\r\n",
        "!chmod +x Miniconda3-4.5.4-Linux-x86_64.sh\r\n",
        "!bash ./Miniconda3-4.5.4-Linux-x86_64.sh -b -f -p /usr/local\r\n",
        "\r\n",
        "!conda install -q -y --prefix /usr/local python=3.6 ujson\r\n",
        "\r\n",
        "import sys\r\n",
        "sys.path.append('/usr/local/lib/python3.6/site-packages')\r\n",
        "\r\n",
        "import ujson\r\n",
        "print(ujson.dumps({1:2}))\r\n",
        "\r\n",
        "!conda install -c conda-forge igl\r\n",
        "!conda install -c conda-forge meshplot"
      ],
      "execution_count": null,
      "outputs": []
    },
    {
      "cell_type": "markdown",
      "metadata": {
        "id": "Y29Q5SD3cNat"
      },
      "source": [
        "# Import necessary utils"
      ]
    },
    {
      "cell_type": "code",
      "metadata": {
        "id": "HCHTeDd3cKAY"
      },
      "source": [
        "import igl\r\n",
        "import scipy as sp\r\n",
        "import numpy as np\r\n",
        "from meshplot import plot, subplot, interact\r\n",
        "from scipy.sparse.linalg import eigsh\r\n",
        "from scipy.sparse import csr_matrix\r\n",
        "import os \r\n",
        "from sklearn.cluster import KMeans\r\n",
        "from pyflann import *"
      ],
      "execution_count": null,
      "outputs": []
    },
    {
      "cell_type": "markdown",
      "metadata": {
        "id": "rvHyenCMcZHO"
      },
      "source": [
        "# Run a first example of flann search\r\n",
        "In this exercise we will exploy the [FLANN Library](https://pypi.org/project/flann/) a Fast Library for Approximate Nearest Neighbors (FLANN)"
      ]
    },
    {
      "cell_type": "code",
      "metadata": {
        "id": "wqZkXTWg8wBq"
      },
      "source": [
        "dataset = np.random.rand(10000, 128)\r\n",
        "testset = np.random.rand(1000, 128)\r\n",
        "flann = FLANN()\r\n",
        "[result, dists] = flann.nn(dataset, testset, 1, algorithm=\"kmeans\", branching=32, iterations=7, checks=16)\r\n",
        "print result\r\n",
        "print dists"
      ],
      "execution_count": null,
      "outputs": []
    }
  ]
}