{
  "nbformat": 4,
  "nbformat_minor": 0,
  "metadata": {
    "colab": {
      "name": "Shapes.ipynb",
      "provenance": [],
      "authorship_tag": "ABX9TyMdfzYUrlCj5i6gnSYK5wXS",
      "include_colab_link": true
    },
    "kernelspec": {
      "name": "python3",
      "display_name": "Python 3"
    },
    "widgets": {
      "application/vnd.jupyter.widget-state+json": {
        "6d7a9785d28c4b7489be73da8d6af0d9": {
          "model_module": "jupyter-threejs",
          "model_name": "RendererModel",
          "state": {
            "_view_name": "RendererView",
            "shadowMap": "IPY_MODEL_813fa832b7744e39b1549674183f6e77",
            "_view_module": "jupyter-threejs",
            "physicallyCorrectLights": false,
            "_model_module_version": "^2.1.0",
            "_view_count": null,
            "autoClear": true,
            "sortObject": true,
            "_model_module": "jupyter-threejs",
            "maxMorphTargets": 8,
            "toneMapping": "LinearToneMapping",
            "layout": "IPY_MODEL_9502533d35a649c590d999f783903254",
            "clearOpacity": 1,
            "clearColor": "#000000",
            "gammaInput": false,
            "controls": [
              "IPY_MODEL_5c7d44cc031a47a0ae4716f5dab7e86d"
            ],
            "camera": "IPY_MODEL_dcb38c2836f443c5bb60be008a9ec375",
            "toneMappingWhitePoint": 1,
            "clippingPlanes": [],
            "autoClearColor": true,
            "_dom_classes": [],
            "_model_name": "RendererModel",
            "_height": 600,
            "gammaOutput": false,
            "toneMappingExposure": 1,
            "scene": "IPY_MODEL_8a9d8aa60fdd4038b2f7b0da7591e17a",
            "background": "black",
            "_alpha": false,
            "autoClearDepth": true,
            "_pause_autorender": false,
            "maxMorphNormals": 4,
            "_antialias": true,
            "_width": 600,
            "autoClearStencil": true,
            "_view_module_version": "^2.1.0",
            "gammaFactor": 2,
            "localClippingEnabled": false,
            "background_opacity": 1,
            "_webgl_version": 2
          }
        },
        "34113a0ce9114a74a817e6dd7a82354b": {
          "model_module": "jupyter-threejs",
          "model_name": "RendererModel",
          "state": {
            "_view_name": "RendererView",
            "shadowMap": "IPY_MODEL_294b0cf2473f4eac925492b91978db60",
            "_view_module": "jupyter-threejs",
            "physicallyCorrectLights": false,
            "_model_module_version": "^2.1.0",
            "_view_count": null,
            "autoClear": true,
            "sortObject": true,
            "_model_module": "jupyter-threejs",
            "maxMorphTargets": 8,
            "toneMapping": "LinearToneMapping",
            "layout": "IPY_MODEL_c5edefeda0654f0d86b0627d187a7b65",
            "clearOpacity": 1,
            "clearColor": "#000000",
            "gammaInput": false,
            "controls": [
              "IPY_MODEL_217679bb27644cad8debbb07b657d816"
            ],
            "camera": "IPY_MODEL_9e1cfed1cdc4413baff45fd5079f57ec",
            "toneMappingWhitePoint": 1,
            "clippingPlanes": [],
            "autoClearColor": true,
            "_dom_classes": [],
            "_model_name": "RendererModel",
            "_height": 600,
            "gammaOutput": false,
            "toneMappingExposure": 1,
            "scene": "IPY_MODEL_76817fde8f3441039eaab0c624cb308f",
            "background": "black",
            "_alpha": false,
            "autoClearDepth": true,
            "_pause_autorender": false,
            "maxMorphNormals": 4,
            "_antialias": true,
            "_width": 600,
            "autoClearStencil": true,
            "_view_module_version": "^2.1.0",
            "gammaFactor": 2,
            "localClippingEnabled": false,
            "background_opacity": 1,
            "_webgl_version": 2
          }
        },
        "7c8c59d886bb412d96f036dca8b2382e": {
          "model_module": "@jupyter-widgets/controls",
          "model_name": "HBoxModel",
          "state": {
            "_view_name": "HBoxView",
            "_dom_classes": [],
            "_model_name": "HBoxModel",
            "_view_module": "@jupyter-widgets/controls",
            "_model_module_version": "1.5.0",
            "_view_count": null,
            "_view_module_version": "1.5.0",
            "box_style": "",
            "layout": "IPY_MODEL_7536d8512aee46ca9f83dc17d2581a8b",
            "_model_module": "@jupyter-widgets/controls",
            "children": [
              "IPY_MODEL_460f3fd3e09b4955812cd12726c37649",
              "IPY_MODEL_88cb46162332431084c37ad2a9c46e94"
            ]
          }
        },
        "7536d8512aee46ca9f83dc17d2581a8b": {
          "model_module": "@jupyter-widgets/base",
          "model_name": "LayoutModel",
          "state": {
            "_view_name": "LayoutView",
            "grid_template_rows": null,
            "right": null,
            "justify_content": null,
            "_view_module": "@jupyter-widgets/base",
            "overflow": null,
            "_model_module_version": "1.2.0",
            "_view_count": null,
            "flex_flow": null,
            "width": null,
            "min_width": null,
            "border": null,
            "align_items": null,
            "bottom": null,
            "_model_module": "@jupyter-widgets/base",
            "top": null,
            "grid_column": null,
            "overflow_y": null,
            "overflow_x": null,
            "grid_auto_flow": null,
            "grid_area": null,
            "grid_template_columns": null,
            "flex": null,
            "_model_name": "LayoutModel",
            "justify_items": null,
            "grid_row": null,
            "max_height": null,
            "align_content": null,
            "visibility": null,
            "align_self": null,
            "height": null,
            "min_height": null,
            "padding": null,
            "grid_auto_rows": null,
            "grid_gap": null,
            "max_width": null,
            "order": null,
            "_view_module_version": "1.2.0",
            "grid_template_areas": null,
            "object_position": null,
            "object_fit": null,
            "grid_auto_columns": null,
            "margin": null,
            "display": null,
            "left": null
          }
        },
        "460f3fd3e09b4955812cd12726c37649": {
          "model_module": "@jupyter-widgets/output",
          "model_name": "OutputModel",
          "state": {
            "_view_name": "OutputView",
            "msg_id": "",
            "_dom_classes": [],
            "_model_name": "OutputModel",
            "outputs": [
              {
                "output_type": "display_data",
                "metadata": {
                  "tags": []
                },
                "application/vnd.jupyter.widget-view+json": {
                  "model_id": "fbf65e05d0f144cc92f65dfb7b887787",
                  "version_minor": 0,
                  "version_major": 2
                },
                "text/plain": "Renderer(camera=PerspectiveCamera(children=(DirectionalLight(color='white', intensity=0.6, position=(0.0472047…"
              }
            ],
            "_view_module": "@jupyter-widgets/output",
            "_model_module_version": "1.0.0",
            "_view_count": null,
            "_view_module_version": "1.0.0",
            "layout": "IPY_MODEL_3736a93dcc124a95b66c8f3b6ed1765c",
            "_model_module": "@jupyter-widgets/output"
          }
        },
        "88cb46162332431084c37ad2a9c46e94": {
          "model_module": "@jupyter-widgets/output",
          "model_name": "OutputModel",
          "state": {
            "_view_name": "OutputView",
            "msg_id": "",
            "_dom_classes": [],
            "_model_name": "OutputModel",
            "outputs": [],
            "_view_module": "@jupyter-widgets/output",
            "_model_module_version": "1.0.0",
            "_view_count": null,
            "_view_module_version": "1.0.0",
            "layout": "IPY_MODEL_c277b0bd3db94bbea23dceaae6e1ddf5",
            "_model_module": "@jupyter-widgets/output"
          }
        },
        "fbf65e05d0f144cc92f65dfb7b887787": {
          "model_module": "jupyter-threejs",
          "model_name": "RendererModel",
          "state": {
            "_view_name": "RendererView",
            "shadowMap": "IPY_MODEL_2424d8614e684bf5b71a1e76f6a2c3e9",
            "_view_module": "jupyter-threejs",
            "physicallyCorrectLights": false,
            "_model_module_version": "^2.1.0",
            "_view_count": null,
            "autoClear": true,
            "sortObject": true,
            "_model_module": "jupyter-threejs",
            "maxMorphTargets": 8,
            "toneMapping": "LinearToneMapping",
            "layout": "IPY_MODEL_c8b060ea0a66415c81e5b64483206f80",
            "clearOpacity": 1,
            "clearColor": "#000000",
            "gammaInput": false,
            "controls": [
              "IPY_MODEL_61169cc27a8544c58d595a472b3d09a1"
            ],
            "camera": "IPY_MODEL_2ccde9b92bd74726a90d50a630be7a9a",
            "toneMappingWhitePoint": 1,
            "clippingPlanes": [],
            "autoClearColor": true,
            "_dom_classes": [],
            "_model_name": "RendererModel",
            "_height": 400,
            "gammaOutput": false,
            "toneMappingExposure": 1,
            "scene": "IPY_MODEL_9b5379b2b6aa4ec498ad7a8a4e2fdd52",
            "background": "black",
            "_alpha": false,
            "autoClearDepth": true,
            "_pause_autorender": false,
            "maxMorphNormals": 4,
            "_antialias": true,
            "_width": 400,
            "autoClearStencil": true,
            "_view_module_version": "^2.1.0",
            "gammaFactor": 2,
            "localClippingEnabled": false,
            "background_opacity": 1,
            "_webgl_version": 2
          }
        },
        "3736a93dcc124a95b66c8f3b6ed1765c": {
          "model_module": "@jupyter-widgets/base",
          "model_name": "LayoutModel",
          "state": {
            "_view_name": "LayoutView",
            "grid_template_rows": null,
            "right": null,
            "justify_content": null,
            "_view_module": "@jupyter-widgets/base",
            "overflow": null,
            "_model_module_version": "1.2.0",
            "_view_count": null,
            "flex_flow": null,
            "width": null,
            "min_width": null,
            "border": null,
            "align_items": null,
            "bottom": null,
            "_model_module": "@jupyter-widgets/base",
            "top": null,
            "grid_column": null,
            "overflow_y": null,
            "overflow_x": null,
            "grid_auto_flow": null,
            "grid_area": null,
            "grid_template_columns": null,
            "flex": null,
            "_model_name": "LayoutModel",
            "justify_items": null,
            "grid_row": null,
            "max_height": null,
            "align_content": null,
            "visibility": null,
            "align_self": null,
            "height": null,
            "min_height": null,
            "padding": null,
            "grid_auto_rows": null,
            "grid_gap": null,
            "max_width": null,
            "order": null,
            "_view_module_version": "1.2.0",
            "grid_template_areas": null,
            "object_position": null,
            "object_fit": null,
            "grid_auto_columns": null,
            "margin": null,
            "display": null,
            "left": null
          }
        },
        "c277b0bd3db94bbea23dceaae6e1ddf5": {
          "model_module": "@jupyter-widgets/base",
          "model_name": "LayoutModel",
          "state": {
            "_view_name": "LayoutView",
            "grid_template_rows": null,
            "right": null,
            "justify_content": null,
            "_view_module": "@jupyter-widgets/base",
            "overflow": null,
            "_model_module_version": "1.2.0",
            "_view_count": null,
            "flex_flow": null,
            "width": null,
            "min_width": null,
            "border": null,
            "align_items": null,
            "bottom": null,
            "_model_module": "@jupyter-widgets/base",
            "top": null,
            "grid_column": null,
            "overflow_y": null,
            "overflow_x": null,
            "grid_auto_flow": null,
            "grid_area": null,
            "grid_template_columns": null,
            "flex": null,
            "_model_name": "LayoutModel",
            "justify_items": null,
            "grid_row": null,
            "max_height": null,
            "align_content": null,
            "visibility": null,
            "align_self": null,
            "height": null,
            "min_height": null,
            "padding": null,
            "grid_auto_rows": null,
            "grid_gap": null,
            "max_width": null,
            "order": null,
            "_view_module_version": "1.2.0",
            "grid_template_areas": null,
            "object_position": null,
            "object_fit": null,
            "grid_auto_columns": null,
            "margin": null,
            "display": null,
            "left": null
          }
        },
        "e847e317ad054ac1a2ef7f0084f20ce6": {
          "model_module": "@jupyter-widgets/controls",
          "model_name": "HBoxModel",
          "state": {
            "_view_name": "HBoxView",
            "_dom_classes": [],
            "_model_name": "HBoxModel",
            "_view_module": "@jupyter-widgets/controls",
            "_model_module_version": "1.5.0",
            "_view_count": null,
            "_view_module_version": "1.5.0",
            "box_style": "",
            "layout": "IPY_MODEL_1971d54fa6e64f8b89dcfc8c0748cb93",
            "_model_module": "@jupyter-widgets/controls",
            "children": [
              "IPY_MODEL_1b7f7b126cf448f58af3e5257208d506",
              "IPY_MODEL_c5ae1c06acf244e9bec5b62f3716591f"
            ]
          }
        },
        "1971d54fa6e64f8b89dcfc8c0748cb93": {
          "model_module": "@jupyter-widgets/base",
          "model_name": "LayoutModel",
          "state": {
            "_view_name": "LayoutView",
            "grid_template_rows": null,
            "right": null,
            "justify_content": null,
            "_view_module": "@jupyter-widgets/base",
            "overflow": null,
            "_model_module_version": "1.2.0",
            "_view_count": null,
            "flex_flow": null,
            "width": null,
            "min_width": null,
            "border": null,
            "align_items": null,
            "bottom": null,
            "_model_module": "@jupyter-widgets/base",
            "top": null,
            "grid_column": null,
            "overflow_y": null,
            "overflow_x": null,
            "grid_auto_flow": null,
            "grid_area": null,
            "grid_template_columns": null,
            "flex": null,
            "_model_name": "LayoutModel",
            "justify_items": null,
            "grid_row": null,
            "max_height": null,
            "align_content": null,
            "visibility": null,
            "align_self": null,
            "height": null,
            "min_height": null,
            "padding": null,
            "grid_auto_rows": null,
            "grid_gap": null,
            "max_width": null,
            "order": null,
            "_view_module_version": "1.2.0",
            "grid_template_areas": null,
            "object_position": null,
            "object_fit": null,
            "grid_auto_columns": null,
            "margin": null,
            "display": null,
            "left": null
          }
        },
        "1b7f7b126cf448f58af3e5257208d506": {
          "model_module": "@jupyter-widgets/output",
          "model_name": "OutputModel",
          "state": {
            "_view_name": "OutputView",
            "msg_id": "",
            "_dom_classes": [],
            "_model_name": "OutputModel",
            "outputs": [],
            "_view_module": "@jupyter-widgets/output",
            "_model_module_version": "1.0.0",
            "_view_count": null,
            "_view_module_version": "1.0.0",
            "layout": "IPY_MODEL_febc16e253fc4a5fad4e3ad520990cbf",
            "_model_module": "@jupyter-widgets/output"
          }
        },
        "c5ae1c06acf244e9bec5b62f3716591f": {
          "model_module": "@jupyter-widgets/output",
          "model_name": "OutputModel",
          "state": {
            "_view_name": "OutputView",
            "msg_id": "",
            "_dom_classes": [],
            "_model_name": "OutputModel",
            "outputs": [
              {
                "output_type": "display_data",
                "metadata": {
                  "tags": []
                },
                "application/vnd.jupyter.widget-view+json": {
                  "model_id": "06cf99c93d0f45d987948bc5e9e437c8",
                  "version_minor": 0,
                  "version_major": 2
                },
                "text/plain": "Renderer(camera=PerspectiveCamera(children=(DirectionalLight(color='white', intensity=0.6, position=(0.0238786…"
              }
            ],
            "_view_module": "@jupyter-widgets/output",
            "_model_module_version": "1.0.0",
            "_view_count": null,
            "_view_module_version": "1.0.0",
            "layout": "IPY_MODEL_d069daedb34a4dc1b1778e2273b27177",
            "_model_module": "@jupyter-widgets/output"
          }
        },
        "06cf99c93d0f45d987948bc5e9e437c8": {
          "model_module": "jupyter-threejs",
          "model_name": "RendererModel",
          "state": {
            "_view_name": "RendererView",
            "shadowMap": "IPY_MODEL_14726b3647e04d6b9de10175089c398d",
            "_view_module": "jupyter-threejs",
            "physicallyCorrectLights": false,
            "_model_module_version": "^2.1.0",
            "_view_count": null,
            "autoClear": true,
            "sortObject": true,
            "_model_module": "jupyter-threejs",
            "maxMorphTargets": 8,
            "toneMapping": "LinearToneMapping",
            "layout": "IPY_MODEL_0402843ab3494aa9b034e9a5ba6e6f52",
            "clearOpacity": 1,
            "clearColor": "#000000",
            "gammaInput": false,
            "controls": [
              "IPY_MODEL_0c519c2cc9334c7ba622df79540c542a"
            ],
            "camera": "IPY_MODEL_45a3d3500bde46b5b721985f35c6b5e5",
            "toneMappingWhitePoint": 1,
            "clippingPlanes": [],
            "autoClearColor": true,
            "_dom_classes": [],
            "_model_name": "RendererModel",
            "_height": 400,
            "gammaOutput": false,
            "toneMappingExposure": 1,
            "scene": "IPY_MODEL_6ec346b0f1944656a6945372973e152a",
            "background": "black",
            "_alpha": false,
            "autoClearDepth": true,
            "_pause_autorender": false,
            "maxMorphNormals": 4,
            "_antialias": true,
            "_width": 400,
            "autoClearStencil": true,
            "_view_module_version": "^2.1.0",
            "gammaFactor": 2,
            "localClippingEnabled": false,
            "background_opacity": 1,
            "_webgl_version": 2
          }
        },
        "febc16e253fc4a5fad4e3ad520990cbf": {
          "model_module": "@jupyter-widgets/base",
          "model_name": "LayoutModel",
          "state": {
            "_view_name": "LayoutView",
            "grid_template_rows": null,
            "right": null,
            "justify_content": null,
            "_view_module": "@jupyter-widgets/base",
            "overflow": null,
            "_model_module_version": "1.2.0",
            "_view_count": null,
            "flex_flow": null,
            "width": null,
            "min_width": null,
            "border": null,
            "align_items": null,
            "bottom": null,
            "_model_module": "@jupyter-widgets/base",
            "top": null,
            "grid_column": null,
            "overflow_y": null,
            "overflow_x": null,
            "grid_auto_flow": null,
            "grid_area": null,
            "grid_template_columns": null,
            "flex": null,
            "_model_name": "LayoutModel",
            "justify_items": null,
            "grid_row": null,
            "max_height": null,
            "align_content": null,
            "visibility": null,
            "align_self": null,
            "height": null,
            "min_height": null,
            "padding": null,
            "grid_auto_rows": null,
            "grid_gap": null,
            "max_width": null,
            "order": null,
            "_view_module_version": "1.2.0",
            "grid_template_areas": null,
            "object_position": null,
            "object_fit": null,
            "grid_auto_columns": null,
            "margin": null,
            "display": null,
            "left": null
          }
        },
        "d069daedb34a4dc1b1778e2273b27177": {
          "model_module": "@jupyter-widgets/base",
          "model_name": "LayoutModel",
          "state": {
            "_view_name": "LayoutView",
            "grid_template_rows": null,
            "right": null,
            "justify_content": null,
            "_view_module": "@jupyter-widgets/base",
            "overflow": null,
            "_model_module_version": "1.2.0",
            "_view_count": null,
            "flex_flow": null,
            "width": null,
            "min_width": null,
            "border": null,
            "align_items": null,
            "bottom": null,
            "_model_module": "@jupyter-widgets/base",
            "top": null,
            "grid_column": null,
            "overflow_y": null,
            "overflow_x": null,
            "grid_auto_flow": null,
            "grid_area": null,
            "grid_template_columns": null,
            "flex": null,
            "_model_name": "LayoutModel",
            "justify_items": null,
            "grid_row": null,
            "max_height": null,
            "align_content": null,
            "visibility": null,
            "align_self": null,
            "height": null,
            "min_height": null,
            "padding": null,
            "grid_auto_rows": null,
            "grid_gap": null,
            "max_width": null,
            "order": null,
            "_view_module_version": "1.2.0",
            "grid_template_areas": null,
            "object_position": null,
            "object_fit": null,
            "grid_auto_columns": null,
            "margin": null,
            "display": null,
            "left": null
          }
        }
      }
    }
  },
  "cells": [
    {
      "cell_type": "markdown",
      "metadata": {
        "id": "view-in-github",
        "colab_type": "text"
      },
      "source": [
        "<a href=\"https://colab.research.google.com/github/riccardomarin/SpectralShapeAnalysis/blob/master/Shapes.ipynb\" target=\"_parent\"><img src=\"https://colab.research.google.com/assets/colab-badge.svg\" alt=\"Open In Colab\"/></a>"
      ]
    },
    {
      "cell_type": "code",
      "metadata": {
        "id": "PFG_QyC5pViA",
        "colab_type": "code",
        "colab": {}
      },
      "source": [
        "# ONLY FOR COLAB\n",
        "# Not required in Binder\n",
        "\n",
        "# !wget -c https://repo.anaconda.com/miniconda/Miniconda3-4.5.4-Linux-x86_64.sh\n",
        "# !chmod +x Miniconda3-4.5.4-Linux-x86_64.sh\n",
        "# !bash ./Miniconda3-4.5.4-Linux-x86_64.sh -b -f -p /usr/local\n",
        "\n",
        "# !conda install -q -y --prefix /usr/local python=3.6 ujson\n",
        "\n",
        "# import sys\n",
        "# sys.path.append('/usr/local/lib/python3.6/site-packages')\n",
        "\n",
        "# import ujson\n",
        "# print(ujson.dumps({1:2}))\n",
        "\n",
        "# !conda install -c conda-forge igl\n",
        "# !conda install -c conda-forge meshplot"
      ],
      "execution_count": null,
      "outputs": []
    },
    {
      "cell_type": "code",
      "metadata": {
        "id": "eCleN8yHgeFy",
        "colab_type": "code",
        "colab": {}
      },
      "source": [
        "import igl\n",
        "import scipy as sp\n",
        "import numpy as np\n",
        "from meshplot import plot, subplot, interact\n",
        "from scipy.sparse.linalg import eigs\n",
        "from scipy.sparse import csr_matrix\n",
        "import os \n",
        "from sklearn.cluster import KMeans"
      ],
      "execution_count": null,
      "outputs": []
    },
    {
      "cell_type": "markdown",
      "metadata": {
        "id": "DPR3cyc8G68b",
        "colab_type": "text"
      },
      "source": [
        "# Read and visualize meshes\n",
        "\n",
        "There are several libraries to do Geometry Processing in Python. In this case we will use the python binding of [libigl](https://libigl.github.io/libigl-python-bindings/). Another nice library for 3D visualization is [Open3D](http://www.open3d.org/)."
      ]
    },
    {
      "cell_type": "code",
      "metadata": {
        "id": "Pp27HWSz0EgD",
        "colab_type": "code",
        "colab": {
          "base_uri": "https://localhost:8080/",
          "height": 34,
          "referenced_widgets": [
            "6d7a9785d28c4b7489be73da8d6af0d9"
          ]
        },
        "outputId": "7775a1e1-ee69-48b9-ad0e-6ba9c803ab3a"
      },
      "source": [
        "# Read and plot mesh\n",
        "v, f = igl.read_triangle_mesh(os.path.join('.', \"data\", \"tr_reg_043.off\"))\n",
        "plot(v, f)"
      ],
      "execution_count": null,
      "outputs": [
        {
          "output_type": "display_data",
          "data": {
            "application/vnd.jupyter.widget-view+json": {
              "model_id": "6d7a9785d28c4b7489be73da8d6af0d9",
              "version_minor": 0,
              "version_major": 2
            },
            "text/plain": [
              "Renderer(camera=PerspectiveCamera(children=(DirectionalLight(color='white', intensity=0.6, position=(0.0282628…"
            ]
          },
          "metadata": {
            "tags": []
          }
        },
        {
          "output_type": "execute_result",
          "data": {
            "text/plain": [
              "<meshplot.Viewer.Viewer at 0x7fba40076710>"
            ]
          },
          "metadata": {
            "tags": []
          },
          "execution_count": 19
        }
      ]
    },
    {
      "cell_type": "markdown",
      "metadata": {
        "id": "5icbSZobHuSE",
        "colab_type": "text"
      },
      "source": [
        "# **Computing the Laplacian and Mass Matrix**\n",
        "\n",
        "Computing the cotangent matrix requires a bit of work (not really complicate, but boring). In this case we will use some ready methods."
      ]
    },
    {
      "cell_type": "code",
      "metadata": {
        "id": "aCLlWa3pj9EF",
        "colab_type": "code",
        "colab": {}
      },
      "source": [
        "# Compute Laplacian and Area Matrix\n",
        "L = igl.cotmatrix(v, f)\n",
        "M = igl.massmatrix(v, f, igl.MASSMATRIX_TYPE_VORONOI)"
      ],
      "execution_count": null,
      "outputs": []
    },
    {
      "cell_type": "code",
      "metadata": {
        "id": "9Nuid_cRrP4-",
        "colab_type": "code",
        "colab": {
          "base_uri": "https://localhost:8080/",
          "height": 68,
          "referenced_widgets": [
            "34113a0ce9114a74a817e6dd7a82354b"
          ]
        },
        "outputId": "2cbd328f-cbca-40f6-a648-5d148510b181"
      },
      "source": [
        "# Compute EigenDecomposition\n",
        "evals, evecs = eigs(L,k=50,M=M,sigma=0)\n",
        "evecs = evecs.astype(np.float32)\n",
        "\n",
        "# Visualization\n",
        "plot(v,f,evecs[:,0])"
      ],
      "execution_count": null,
      "outputs": [
        {
          "output_type": "stream",
          "text": [
            "/usr/local/lib/python3.6/dist-packages/ipykernel_launcher.py:3: ComplexWarning: Casting complex values to real discards the imaginary part\n",
            "  This is separate from the ipykernel package so we can avoid doing imports until\n"
          ],
          "name": "stderr"
        },
        {
          "output_type": "display_data",
          "data": {
            "application/vnd.jupyter.widget-view+json": {
              "model_id": "34113a0ce9114a74a817e6dd7a82354b",
              "version_minor": 0,
              "version_major": 2
            },
            "text/plain": [
              "Renderer(camera=PerspectiveCamera(children=(DirectionalLight(color='white', intensity=0.6, position=(0.0282628…"
            ]
          },
          "metadata": {
            "tags": []
          }
        },
        {
          "output_type": "execute_result",
          "data": {
            "text/plain": [
              "<meshplot.Viewer.Viewer at 0x7fba40079908>"
            ]
          },
          "metadata": {
            "tags": []
          },
          "execution_count": 21
        }
      ]
    },
    {
      "cell_type": "markdown",
      "metadata": {
        "id": "U603K3EnIFgA",
        "colab_type": "text"
      },
      "source": [
        "# Coordinate low pass representation\n",
        "\n",
        "We can use the eigenvectors of the LBO to do a low-pass filtering for functions. A nice function to filter is the coordinates: in fact they can be seen as three functions defined over the vertices. This will give us a low-pass filtering of the surface geometry.\n",
        "\n",
        "The tasks are:\n",
        "- Do the synthesis and analysis of the coordinate with a subset of the basis (Warning: remember that the dot product requires also the areas!)\n",
        "- Perform the filtering with a different number of basis (e.g. 5, 10, 30, 50, ...)\n",
        "\n",
        "What happens? Which areas are affected and in which way?"
      ]
    },
    {
      "cell_type": "code",
      "metadata": {
        "id": "xBy8Joq23dL1",
        "colab_type": "code",
        "colab": {
          "base_uri": "https://localhost:8080/",
          "height": 34,
          "referenced_widgets": [
            "7c8c59d886bb412d96f036dca8b2382e",
            "7536d8512aee46ca9f83dc17d2581a8b",
            "460f3fd3e09b4955812cd12726c37649",
            "88cb46162332431084c37ad2a9c46e94",
            "fbf65e05d0f144cc92f65dfb7b887787",
            "3736a93dcc124a95b66c8f3b6ed1765c",
            "c277b0bd3db94bbea23dceaae6e1ddf5",
            "e847e317ad054ac1a2ef7f0084f20ce6",
            "1971d54fa6e64f8b89dcfc8c0748cb93",
            "1b7f7b126cf448f58af3e5257208d506",
            "c5ae1c06acf244e9bec5b62f3716591f",
            "06cf99c93d0f45d987948bc5e9e437c8",
            "febc16e253fc4a5fad4e3ad520990cbf",
            "d069daedb34a4dc1b1778e2273b27177"
          ]
        },
        "outputId": "971ecc6f-1a9f-4bf1-b3ab-3524127823ea"
      },
      "source": [
        "# Coordinate low pass representation\n",
        "evecs_trim = evecs[:,0:10]\n",
        "v1 = np.matmul(evecs_trim,np.matmul(evecs_trim.T,csr_matrix.dot(M,v)))\n",
        "subplot(v1, f, s=[1, 2, 0])\n",
        "\n",
        "v2 = np.matmul(evecs,np.matmul(evecs.T,csr_matrix.dot(M,v)))\n",
        "subplot(v2, f, s=[1, 2, 1])"
      ],
      "execution_count": null,
      "outputs": [
        {
          "output_type": "display_data",
          "data": {
            "application/vnd.jupyter.widget-view+json": {
              "model_id": "7c8c59d886bb412d96f036dca8b2382e",
              "version_minor": 0,
              "version_major": 2
            },
            "text/plain": [
              "HBox(children=(Output(), Output()))"
            ]
          },
          "metadata": {
            "tags": []
          }
        },
        {
          "output_type": "display_data",
          "data": {
            "application/vnd.jupyter.widget-view+json": {
              "model_id": "e847e317ad054ac1a2ef7f0084f20ce6",
              "version_minor": 0,
              "version_major": 2
            },
            "text/plain": [
              "HBox(children=(Output(), Output()))"
            ]
          },
          "metadata": {
            "tags": []
          }
        },
        {
          "output_type": "execute_result",
          "data": {
            "text/plain": [
              "<meshplot.plot.Subplot at 0x7fba411cbf60>"
            ]
          },
          "metadata": {
            "tags": []
          },
          "execution_count": 22
        }
      ]
    },
    {
      "cell_type": "markdown",
      "metadata": {
        "id": "BpqZ3DXnJSGE",
        "colab_type": "text"
      },
      "source": [
        "# Spectral Clustering (Segmentation)\n",
        "\n",
        "As we did for graphs, we can cluster the surface using the spectral embedding of the shapes.\n",
        "\n",
        "The tasks are:\n",
        "- Choosing a proper number of clustering\n",
        "- Running KMeans on a proper number of eigenvectors\n",
        "- Visualizing the clusters\n",
        "- Repeat on a second model\n",
        "\n",
        "How they behave on the human body? Are they coherent among different models? "
      ]
    },
    {
      "cell_type": "code",
      "metadata": {
        "id": "72MgK-zw-vj1",
        "colab_type": "code",
        "colab": {
          "base_uri": "https://localhost:8080/",
          "height": 34
        },
        "outputId": "728c6957-043b-4e08-9955-1f07140f3747"
      },
      "source": [
        "n_c = 6\n",
        "kmeans = KMeans(n_clusters=n_c, random_state=1).fit(evecs[:,1:n_c])\n",
        "plot(v, f, kmeans.labels_,shading={\"wireframe\": False, \"colormap\": \"jet\"})"
      ],
      "execution_count": null,
      "outputs": [
        {
          "output_type": "execute_result",
          "data": {
            "text/plain": [
              "array([3, 3, 3, ..., 3, 3, 3], dtype=int32)"
            ]
          },
          "metadata": {
            "tags": []
          },
          "execution_count": 25
        }
      ]
    },
    {
      "cell_type": "code",
      "metadata": {
        "id": "QlEY0P4rCOOX",
        "colab_type": "code",
        "colab": {}
      },
      "source": [
        "v2, f2 = igl.read_triangle_mesh(os.path.join('.', \"data\", \"tr_reg_089.off\"))\n",
        "L = igl.cotmatrix(v2, f2)\n",
        "M = igl.massmatrix(v2, f2, igl.MASSMATRIX_TYPE_VORONOI)\n",
        "evals2, evecs2 = eigs(L,k=50,M=M,sigma=0)\n",
        "evecs2 = evecs2.astype(np.float32)\n",
        "n_c = 6\n",
        "kmeans2 = KMeans(n_clusters=n_c, random_state=5).fit(evecs2[:,1:n_c])\n",
        "subplot(v2, f2, kmeans2.labels_,shading={\"wireframe\": False, \"colormap\": \"jet\"},s=[1,2,0]) \n",
        "subplot(v, f, kmeans.labels_,shading={\"wireframe\": False, \"colormap\": \"jet\"},s=[1,2,1]) "
      ],
      "execution_count": null,
      "outputs": []
    },
    {
      "cell_type": "markdown",
      "metadata": {
        "id": "WCJdUYXBKHuC",
        "colab_type": "text"
      },
      "source": [
        "**Utility: Plot a couple of meshes togheter**"
      ]
    },
    {
      "cell_type": "code",
      "metadata": {
        "id": "haHjY2h7Fw1C",
        "colab_type": "code",
        "colab": {}
      },
      "source": [
        "def plot_pair(v1, v2, f1, f2, c1, c2, color_ops):\n",
        "    # Compute a scale factor\n",
        "    M1 = igl.massmatrix(v1, f1, igl.MASSMATRIX_TYPE_VORONOI)\n",
        "    M2 = igl.massmatrix(v2, f2, igl.MASSMATRIX_TYPE_VORONOI)\n",
        "    scale_factor = np.sqrt(np.sum(M2)/np.sum(M1))\n",
        "\n",
        "    # Align the shapes\n",
        "    v1_align = v1 * scale_factor + np.mean(v2,axis=0) + [0.4,0,0]\n",
        "\n",
        "    # Merge the models\n",
        "    v_all = np.vstack((v1_align, v2))\n",
        "    f_all = np.vstack((f1, f2 + np.max(f)+1))\n",
        "\n",
        "    c_all = np.hstack((c1, c2))\n",
        "    plot(v_all, f_all, c_all, shading = color_ops)"
      ],
      "execution_count": null,
      "outputs": []
    },
    {
      "cell_type": "code",
      "metadata": {
        "id": "xtZg3IZDG38a",
        "colab_type": "code",
        "colab": {}
      },
      "source": [
        "color_ops={\"wireframe\": False, \"colormap\": \"jet\"}\n",
        "plot_pair(v, v2, f, f2, kmeans.labels_, kmeans2.labels_, color_ops)"
      ],
      "execution_count": null,
      "outputs": []
    }
  ]
}