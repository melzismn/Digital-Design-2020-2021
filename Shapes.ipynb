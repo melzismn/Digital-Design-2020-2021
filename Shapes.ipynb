{
  "nbformat": 4,
  "nbformat_minor": 0,
  "metadata": {
    "colab": {
      "name": "Shapes.ipynb",
      "provenance": [],
      "authorship_tag": "ABX9TyNKQa5maPNFZihkeEkbq/rg",
      "include_colab_link": true
    },
    "kernelspec": {
      "name": "python3",
      "display_name": "Python 3"
    }
  },
  "cells": [
    {
      "cell_type": "markdown",
      "metadata": {
        "id": "view-in-github",
        "colab_type": "text"
      },
      "source": [
        "<a href=\"https://colab.research.google.com/github/riccardomarin/SpectralShapeAnalysis/blob/master/Shapes.ipynb\" target=\"_parent\"><img src=\"https://colab.research.google.com/assets/colab-badge.svg\" alt=\"Open In Colab\"/></a>"
      ]
    },
    {
      "cell_type": "code",
      "metadata": {
        "id": "PFG_QyC5pViA",
        "colab_type": "code",
        "colab": {}
      },
      "source": [
        "# ONLY FOR COLAB\n",
        "# Not required in Binder\n",
        "\n",
        "# !wget -c https://repo.anaconda.com/miniconda/Miniconda3-4.5.4-Linux-x86_64.sh\n",
        "# !chmod +x Miniconda3-4.5.4-Linux-x86_64.sh\n",
        "# !bash ./Miniconda3-4.5.4-Linux-x86_64.sh -b -f -p /usr/local\n",
        "\n",
        "# !conda install -q -y --prefix /usr/local python=3.6 ujson\n",
        "\n",
        "# import sys\n",
        "# sys.path.append('/usr/local/lib/python3.6/site-packages')\n",
        "\n",
        "# import ujson\n",
        "# print(ujson.dumps({1:2}))\n",
        "\n",
        "# !conda install -c conda-forge igl\n",
        "# !conda install -c conda-forge meshplot"
      ],
      "execution_count": null,
      "outputs": []
    },
    {
      "cell_type": "code",
      "metadata": {
        "id": "eCleN8yHgeFy",
        "colab_type": "code",
        "colab": {}
      },
      "source": [
        "import igl\n",
        "import scipy as sp\n",
        "import numpy as np\n",
        "from meshplot import plot, subplot, interact\n",
        "import os \n"
      ],
      "execution_count": null,
      "outputs": []
    },
    {
      "cell_type": "code",
      "metadata": {
        "id": "Pp27HWSz0EgD",
        "colab_type": "code",
        "colab": {}
      },
      "source": [
        "# Read and plot mesh\n",
        "v, f = igl.read_triangle_mesh(os.path.join('.', \"data\", \"tr_reg_043.off\"))\n",
        "plot(v, f)"
      ],
      "execution_count": null,
      "outputs": []
    },
    {
      "cell_type": "code",
      "metadata": {
        "id": "aCLlWa3pj9EF",
        "colab_type": "code",
        "colab": {}
      },
      "source": [
        "# Compute Laplacian and Area Matrix\n",
        "L = igl.cotmatrix(v, f)\n",
        "M = igl.massmatrix(v, f, igl.MASSMATRIX_TYPE_VORONOI)"
      ],
      "execution_count": null,
      "outputs": []
    },
    {
      "cell_type": "code",
      "metadata": {
        "id": "9Nuid_cRrP4-",
        "colab_type": "code",
        "colab": {}
      },
      "source": [
        "# Compute EigenDecomposition\n",
        "evals, evecs = eigs(L,k=100,M=M,sigma=0)\n",
        "evecs = evecs.astype(np.float32)\n",
        "\n",
        "plot(v,f,evecs[:,0])"
      ],
      "execution_count": null,
      "outputs": []
    },
    {
      "cell_type": "code",
      "metadata": {
        "id": "xBy8Joq23dL1",
        "colab_type": "code",
        "colab": {}
      },
      "source": [
        "# Coordinate low pass representation\n",
        "evecs_trim_10 = evecs[:,0:10]\n",
        "v1 = np.matmul(evecs,np.matmul(evecs.T,csr_matrix.dot(M,v)))\n",
        "subplot(v1, f)\n",
        "\n",
        "evecs_trim_100 = evecs[:,0:100]\n",
        "v2 = np.matmul(evecs_trim_100,np.matmul(evecs_trim_100.T,csr_matrix.dot(M,v)))\n",
        "subplot(v2, f)"
      ],
      "execution_count": null,
      "outputs": []
    }
  ]
}