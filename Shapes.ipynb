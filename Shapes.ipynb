{
  "nbformat": 4,
  "nbformat_minor": 0,
  "metadata": {
    "colab": {
      "name": "Shapes.ipynb",
      "provenance": [],
      "authorship_tag": "ABX9TyPLdjK3+mEwUwYmi88djK1+",
      "include_colab_link": true
    },
    "kernelspec": {
      "name": "python3",
      "display_name": "Python 3"
    }
  },
  "cells": [
    {
      "cell_type": "markdown",
      "metadata": {
        "id": "view-in-github",
        "colab_type": "text"
      },
      "source": [
        "<a href=\"https://colab.research.google.com/github/riccardomarin/SpectralShapeAnalysis/blob/master/Shapes.ipynb\" target=\"_parent\"><img src=\"https://colab.research.google.com/assets/colab-badge.svg\" alt=\"Open In Colab\"/></a>"
      ]
    },
    {
      "cell_type": "code",
      "metadata": {
        "id": "PFG_QyC5pViA",
        "colab_type": "code",
        "colab": {}
      },
      "source": [
        "# ONLY FOR COLAB\n",
        "# Not required in Binder\n",
        "\n",
        "!wget -c https://repo.anaconda.com/miniconda/Miniconda3-4.5.4-Linux-x86_64.sh\n",
        "!chmod +x Miniconda3-4.5.4-Linux-x86_64.sh\n",
        "!bash ./Miniconda3-4.5.4-Linux-x86_64.sh -b -f -p /usr/local\n",
        "\n",
        "!conda install -q -y --prefix /usr/local python=3.6 ujson\n",
        "\n",
        "import sys\n",
        "sys.path.append('/usr/local/lib/python3.6/site-packages')\n",
        "\n",
        "import ujson\n",
        "print(ujson.dumps({1:2}))\n",
        "\n",
        "!conda install -c conda-forge igl\n",
        "!conda install -c conda-forge meshplot"
      ],
      "execution_count": null,
      "outputs": []
    },
    {
      "cell_type": "code",
      "metadata": {
        "id": "eCleN8yHgeFy",
        "colab_type": "code",
        "colab": {}
      },
      "source": [
        "import igl\n",
        "import scipy as sp\n",
        "import numpy as np\n",
        "from meshplot import plot, subplot, interact\n",
        "from scipy.sparse.linalg import eigsh\n",
        "from scipy.sparse import csr_matrix\n",
        "import os \n",
        "from sklearn.cluster import KMeans"
      ],
      "execution_count": null,
      "outputs": []
    },
    {
      "cell_type": "markdown",
      "metadata": {
        "id": "DPR3cyc8G68b",
        "colab_type": "text"
      },
      "source": [
        "# Read and visualize meshes\n",
        "\n",
        "There are several libraries to do Geometry Processing in Python. In this case we will use the python binding of [libigl](https://libigl.github.io/libigl-python-bindings/). Another nice library for 3D visualization is [Open3D](http://www.open3d.org/)."
      ]
    },
    {
      "cell_type": "code",
      "metadata": {
        "id": "Pp27HWSz0EgD",
        "colab_type": "code",
        "colab": {}
      },
      "source": [
        "# Read and plot mesh\n",
        "v, f = igl.read_triangle_mesh(os.path.join('.', \"data\", \"tr_reg_043.off\"))\n",
        "plot(v, f)"
      ],
      "execution_count": null,
      "outputs": []
    },
    {
      "cell_type": "markdown",
      "metadata": {
        "id": "5icbSZobHuSE",
        "colab_type": "text"
      },
      "source": [
        "# **Computing the Laplacian and Mass Matrix**\n",
        "\n",
        "Computing the cotangent matrix requires a bit of work (not really complicate, but boring). In this case we will use some ready methods."
      ]
    },
    {
      "cell_type": "code",
      "metadata": {
        "id": "aCLlWa3pj9EF",
        "colab_type": "code",
        "colab": {}
      },
      "source": [
        "# Compute Laplacian and Area Matrix\n",
        "L = igl.cotmatrix(v, f)\n",
        "M = igl.massmatrix(v, f, igl.MASSMATRIX_TYPE_VORONOI)"
      ],
      "execution_count": null,
      "outputs": []
    },
    {
      "cell_type": "code",
      "metadata": {
        "id": "9Nuid_cRrP4-",
        "colab_type": "code",
        "colab": {}
      },
      "source": [
        "# Compute EigenDecomposition\n",
        "try:\n",
        "    evals, evecs = eigsh(L, 200, M, sigma=0.0, which='LM', maxiter=1e9, tol=1.e-15)\n",
        "except:\n",
        "    evals, evecs = eigsh(L- 1e-8* scipy.sparse.identity(v_src.shape[0]), 200,\n",
        "                         M, sigma=0.0, which='LM', maxiter=1e9, tol=1.e-15)\n",
        "\n",
        "# Visualization\n",
        "plot(v,f,evecs[:,0])"
      ],
      "execution_count": null,
      "outputs": []
    },
    {
      "cell_type": "markdown",
      "metadata": {
        "id": "U603K3EnIFgA",
        "colab_type": "text"
      },
      "source": [
        "# Coordinate low pass representation\n",
        "\n",
        "We can use the eigenvectors of the LBO to do a low-pass filtering for functions. A nice function to filter is the coordinates: in fact they can be seen as three functions defined over the vertices. This will give us a low-pass filtering of the surface geometry.\n",
        "\n",
        "The tasks are:\n",
        "- Do the synthesis and analysis of the coordinate with a subset of the basis (Warning: remember that the dot product requires also the areas!)\n",
        "- Perform the filtering with a different number of basis (e.g. 5, 10, 30, 50, ...)\n",
        "\n",
        "What happens? Which areas are affected and in which way?"
      ]
    },
    {
      "cell_type": "code",
      "metadata": {
        "id": "xBy8Joq23dL1",
        "colab_type": "code",
        "colab": {}
      },
      "source": [
        "# Coordinate low pass representation\n",
        "evecs_trim = evecs[:,0:10]\n",
        "v1 = np.matmul(evecs_trim,np.matmul(evecs_trim.T,csr_matrix.dot(M,v)))\n",
        "subplot(v1, f, s=[1, 2, 0])\n",
        "\n",
        "v2 = np.matmul(evecs,np.matmul(evecs.T,csr_matrix.dot(M,v)))\n",
        "subplot(v2, f, s=[1, 2, 1])"
      ],
      "execution_count": null,
      "outputs": []
    },
    {
      "cell_type": "markdown",
      "metadata": {
        "id": "BpqZ3DXnJSGE",
        "colab_type": "text"
      },
      "source": [
        "# Spectral Clustering (Segmentation)\n",
        "\n",
        "As we did for graphs, we can cluster the surface using the spectral embedding of the shapes.\n",
        "\n",
        "The tasks are:\n",
        "- Choosing a proper number of clustering\n",
        "- Running KMeans on a proper number of eigenvectors\n",
        "- Visualizing the clusters\n",
        "- Repeat on a second model\n",
        "\n",
        "How they behave on the human body? Are they coherent among different models? "
      ]
    },
    {
      "cell_type": "code",
      "metadata": {
        "id": "72MgK-zw-vj1",
        "colab_type": "code",
        "colab": {}
      },
      "source": [
        "n_c = 6\n",
        "kmeans = KMeans(n_clusters=n_c, random_state=1).fit(evecs[:,1:n_c])\n",
        "plot(v, f, kmeans.labels_,shading={\"wireframe\": False, \"colormap\": \"jet\"})"
      ],
      "execution_count": null,
      "outputs": []
    },
    {
      "cell_type": "code",
      "metadata": {
        "id": "QlEY0P4rCOOX",
        "colab_type": "code",
        "colab": {}
      },
      "source": [
        "v2, f2 = igl.read_triangle_mesh(os.path.join('.', \"data\", \"tr_reg_089.off\"))\n",
        "L = igl.cotmatrix(v2, f2)\n",
        "M = igl.massmatrix(v2, f2, igl.MASSMATRIX_TYPE_VORONOI)\n",
        "try:\n",
        "    evals2, evecs2 = eigsh(L, 200, M, sigma=0.0, which='LM', maxiter=1e9, tol=1.e-15)\n",
        "except:\n",
        "    evals2, evecs2 = eigsh(L- 1e-8* scipy.sparse.identity(v_src.shape[0]), 200,\n",
        "                         M, sigma=0.0, which='LM', maxiter=1e9, tol=1.e-15)\n",
        "n_c = 6\n",
        "kmeans2 = KMeans(n_clusters=n_c, random_state=5).fit(evecs2[:,1:n_c])\n",
        "\n",
        "subplot(v2, f2, kmeans2.labels_,shading={\"wireframe\": False, \"colormap\": \"jet\"},s=[1,2,0]) \n",
        "subplot(v, f, kmeans.labels_,shading={\"wireframe\": False, \"colormap\": \"jet\"},s=[1,2,1]) "
      ],
      "execution_count": null,
      "outputs": []
    },
    {
      "cell_type": "markdown",
      "metadata": {
        "id": "WCJdUYXBKHuC",
        "colab_type": "text"
      },
      "source": [
        "**Utility: Plot a couple of meshes togheter**"
      ]
    },
    {
      "cell_type": "code",
      "metadata": {
        "id": "haHjY2h7Fw1C",
        "colab_type": "code",
        "colab": {}
      },
      "source": [
        "def plot_pair(v1, v2, f1, f2, c1, c2, color_ops):\n",
        "    # Compute a scale factor\n",
        "    M1 = igl.massmatrix(v1, f1, igl.MASSMATRIX_TYPE_VORONOI)\n",
        "    M2 = igl.massmatrix(v2, f2, igl.MASSMATRIX_TYPE_VORONOI)\n",
        "    scale_factor = np.sqrt(np.sum(M2)/np.sum(M1))\n",
        "\n",
        "    # Align the shapes\n",
        "    v1_align = v1 * scale_factor + np.mean(v2,axis=0) + [0.4,0,0]\n",
        "\n",
        "    # Merge the models\n",
        "    v_all = np.vstack((v1_align, v2))\n",
        "    f_all = np.vstack((f1, f2 + np.max(f)+1))\n",
        "\n",
        "    c_all = np.hstack((c1, c2))\n",
        "    plot(v_all, f_all, c_all, shading = color_ops)"
      ],
      "execution_count": null,
      "outputs": []
    },
    {
      "cell_type": "code",
      "metadata": {
        "id": "xtZg3IZDG38a",
        "colab_type": "code",
        "colab": {}
      },
      "source": [
        "color_ops={\"wireframe\": False, \"colormap\": \"jet\"}\n",
        "plot_pair(v, v2, f, f2, kmeans.labels_, kmeans2.labels_, color_ops)"
      ],
      "execution_count": null,
      "outputs": []
    }
  ]
}