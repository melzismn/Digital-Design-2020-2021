{
  "nbformat": 4,
  "nbformat_minor": 0,
  "metadata": {
    "colab": {
      "name": "Shapes.ipynb",
      "provenance": [],
      "authorship_tag": "ABX9TyNqmB/Zj+19iGjlcRNqLJxv",
      "include_colab_link": true
    },
    "kernelspec": {
      "name": "python3",
      "display_name": "Python 3"
    },
    "widgets": {
      "application/vnd.jupyter.widget-state+json": {
        "d27724bb9f3f475997be45cf6c933e22": {
          "model_module": "jupyter-threejs",
          "model_name": "RendererModel",
          "state": {
            "_view_name": "RendererView",
            "shadowMap": "IPY_MODEL_8a66ee155c4146c280d74d3c9b1b951b",
            "_view_module": "jupyter-threejs",
            "physicallyCorrectLights": false,
            "_model_module_version": "^2.1.0",
            "_view_count": null,
            "autoClear": true,
            "sortObject": true,
            "_model_module": "jupyter-threejs",
            "maxMorphTargets": 8,
            "toneMapping": "LinearToneMapping",
            "layout": "IPY_MODEL_a351b360245d4201930143de655c6a64",
            "clearOpacity": 1,
            "clearColor": "#000000",
            "gammaInput": false,
            "controls": [
              "IPY_MODEL_f87291b9c5aa4bd4b05bd2e246b910ba"
            ],
            "camera": "IPY_MODEL_3be6296e6b2e4dd5ac33767f45557515",
            "toneMappingWhitePoint": 1,
            "clippingPlanes": [],
            "autoClearColor": true,
            "_dom_classes": [],
            "_model_name": "RendererModel",
            "_height": 600,
            "gammaOutput": false,
            "toneMappingExposure": 1,
            "scene": "IPY_MODEL_ccc85da031224297bc963ffacb7d7e5c",
            "background": "black",
            "_alpha": false,
            "autoClearDepth": true,
            "_pause_autorender": false,
            "maxMorphNormals": 4,
            "_antialias": true,
            "_width": 600,
            "autoClearStencil": true,
            "_view_module_version": "^2.1.0",
            "gammaFactor": 2,
            "localClippingEnabled": false,
            "background_opacity": 1,
            "_webgl_version": 2
          }
        }
      }
    }
  },
  "cells": [
    {
      "cell_type": "markdown",
      "metadata": {
        "id": "view-in-github",
        "colab_type": "text"
      },
      "source": [
        "<a href=\"https://colab.research.google.com/github/riccardomarin/SpectralShapeAnalysis/blob/master/Shapes.ipynb\" target=\"_parent\"><img src=\"https://colab.research.google.com/assets/colab-badge.svg\" alt=\"Open In Colab\"/></a>"
      ]
    },
    {
      "cell_type": "code",
      "metadata": {
        "id": "PFG_QyC5pViA",
        "colab_type": "code",
        "colab": {
          "base_uri": "https://localhost:8080/",
          "height": 1000
        },
        "outputId": "cf60a83c-98ba-495f-d4f2-b8ea7c560856"
      },
      "source": [
        "!wget -c https://repo.anaconda.com/miniconda/Miniconda3-4.5.4-Linux-x86_64.sh\n",
        "!chmod +x Miniconda3-4.5.4-Linux-x86_64.sh\n",
        "!bash ./Miniconda3-4.5.4-Linux-x86_64.sh -b -f -p /usr/local\n",
        "# update 1\n",
        "!conda install -q -y --prefix /usr/local python=3.6 ujson\n",
        "# update 2\n",
        "import sys\n",
        "sys.path.append('/usr/local/lib/python3.6/site-packages')\n",
        "# test it\n",
        "import ujson\n",
        "print(ujson.dumps({1:2}))\n",
        "\n",
        "!conda install -c conda-forge igl\n",
        "!conda install -c conda-forge meshplot"
      ],
      "execution_count": 11,
      "outputs": [
        {
          "output_type": "stream",
          "text": [
            "--2020-07-26 10:27:37--  https://repo.anaconda.com/miniconda/Miniconda3-4.5.4-Linux-x86_64.sh\n",
            "Resolving repo.anaconda.com (repo.anaconda.com)... 104.16.131.3, 104.16.130.3, 2606:4700::6810:8203, ...\n",
            "Connecting to repo.anaconda.com (repo.anaconda.com)|104.16.131.3|:443... connected.\n",
            "HTTP request sent, awaiting response... 416 Requested Range Not Satisfiable\n",
            "\n",
            "    The file is already fully retrieved; nothing to do.\n",
            "\n",
            "PREFIX=/usr/local\n",
            "installing: python-3.6.5-hc3d631a_2 ...\n",
            "Python 3.6.5 :: Anaconda, Inc.\n",
            "installing: ca-certificates-2018.03.07-0 ...\n",
            "installing: conda-env-2.6.0-h36134e3_1 ...\n",
            "installing: libgcc-ng-7.2.0-hdf63c60_3 ...\n",
            "installing: libstdcxx-ng-7.2.0-hdf63c60_3 ...\n",
            "installing: libffi-3.2.1-hd88cf55_4 ...\n",
            "installing: ncurses-6.1-hf484d3e_0 ...\n",
            "installing: openssl-1.0.2o-h20670df_0 ...\n",
            "installing: tk-8.6.7-hc745277_3 ...\n",
            "installing: xz-5.2.4-h14c3975_4 ...\n",
            "installing: yaml-0.1.7-had09818_2 ...\n",
            "installing: zlib-1.2.11-ha838bed_2 ...\n",
            "installing: libedit-3.1.20170329-h6b74fdf_2 ...\n",
            "installing: readline-7.0-ha6073c6_4 ...\n",
            "installing: sqlite-3.23.1-he433501_0 ...\n",
            "installing: asn1crypto-0.24.0-py36_0 ...\n",
            "installing: certifi-2018.4.16-py36_0 ...\n",
            "installing: chardet-3.0.4-py36h0f667ec_1 ...\n",
            "installing: idna-2.6-py36h82fb2a8_1 ...\n",
            "installing: pycosat-0.6.3-py36h0a5515d_0 ...\n",
            "installing: pycparser-2.18-py36hf9f622e_1 ...\n",
            "installing: pysocks-1.6.8-py36_0 ...\n",
            "installing: ruamel_yaml-0.15.37-py36h14c3975_2 ...\n",
            "installing: six-1.11.0-py36h372c433_1 ...\n",
            "installing: cffi-1.11.5-py36h9745a5d_0 ...\n",
            "installing: setuptools-39.2.0-py36_0 ...\n",
            "installing: cryptography-2.2.2-py36h14c3975_0 ...\n",
            "installing: wheel-0.31.1-py36_0 ...\n",
            "installing: pip-10.0.1-py36_0 ...\n",
            "installing: pyopenssl-18.0.0-py36_0 ...\n",
            "installing: urllib3-1.22-py36hbe7ace6_0 ...\n",
            "installing: requests-2.18.4-py36he2e5f8d_1 ...\n",
            "installing: conda-4.5.4-py36_0 ...\n",
            "unlinking: ca-certificates-2020.6.20-hecda079_0\n",
            "unlinking: certifi-2020.6.20-py36h9f0ad1d_0\n",
            "unlinking: libedit-3.1.20191231-h14c3975_1\n",
            "unlinking: libffi-3.3-he6710b0_2\n",
            "unlinking: libgcc-ng-9.1.0-hdf63c60_0\n",
            "unlinking: libstdcxx-ng-9.1.0-hdf63c60_0\n",
            "unlinking: ncurses-6.2-he6710b0_1\n",
            "unlinking: openssl-1.1.1g-h516909a_0\n",
            "unlinking: pip-20.1.1-py36_1\n",
            "unlinking: python-3.6.10-h7579374_2\n",
            "unlinking: readline-8.0-h7b6447c_0\n",
            "unlinking: setuptools-49.2.0-py36_0\n",
            "unlinking: sqlite-3.32.3-h62c20be_0\n",
            "unlinking: tk-8.6.10-hbc83047_0\n",
            "unlinking: wheel-0.34.2-py36_0\n",
            "unlinking: xz-5.2.5-h7b6447c_0\n",
            "unlinking: zlib-1.2.11-h7b6447c_3\n",
            "installation finished.\n",
            "WARNING:\n",
            "    You currently have a PYTHONPATH environment variable set. This may cause\n",
            "    unexpected behavior when running the Python interpreter in Miniconda3.\n",
            "    For best results, please verify that your PYTHONPATH only points to\n",
            "    directories of packages that are compatible with the Python interpreter\n",
            "    in Miniconda3: /usr/local\n",
            "Solving environment: ...working... done\n",
            "\n",
            "## Package Plan ##\n",
            "\n",
            "  environment location: /usr/local\n",
            "\n",
            "  added / updated specs: \n",
            "    - python=3.6\n",
            "    - ujson\n",
            "\n",
            "\n",
            "The following packages will be downloaded:\n",
            "\n",
            "    package                    |            build\n",
            "    ---------------------------|-----------------\n",
            "    cryptography-2.9.2         |   py36h1ba5d50_0         626 KB\n",
            "    cffi-1.14.0                |   py36he30daa8_1         226 KB\n",
            "    tqdm-4.47.0                |             py_0          62 KB\n",
            "    conda-package-handling-1.6.1|   py36h7b6447c_0         886 KB\n",
            "    conda-4.8.3                |           py36_0         3.0 MB\n",
            "    ------------------------------------------------------------\n",
            "                                           Total:         4.8 MB\n",
            "\n",
            "The following NEW packages will be INSTALLED:\n",
            "\n",
            "    conda-package-handling: 1.6.1-py36h7b6447c_0   \n",
            "    tqdm:                   4.47.0-py_0            \n",
            "\n",
            "The following packages will be UPDATED:\n",
            "\n",
            "    ca-certificates:        2018.03.07-0            --> 2020.6.24-0            \n",
            "    certifi:                2018.4.16-py36_0        --> 2020.6.20-py36_0       \n",
            "    cffi:                   1.11.5-py36h9745a5d_0   --> 1.14.0-py36he30daa8_1  \n",
            "    conda:                  4.5.4-py36_0            --> 4.8.3-py36_0           \n",
            "    cryptography:           2.2.2-py36h14c3975_0    --> 2.9.2-py36h1ba5d50_0   \n",
            "    libedit:                3.1.20170329-h6b74fdf_2 --> 3.1.20191231-h14c3975_1\n",
            "    libffi:                 3.2.1-hd88cf55_4        --> 3.3-he6710b0_2         \n",
            "    libgcc-ng:              7.2.0-hdf63c60_3        --> 9.1.0-hdf63c60_0       \n",
            "    libstdcxx-ng:           7.2.0-hdf63c60_3        --> 9.1.0-hdf63c60_0       \n",
            "    ncurses:                6.1-hf484d3e_0          --> 6.2-he6710b0_1         \n",
            "    openssl:                1.0.2o-h20670df_0       --> 1.1.1g-h7b6447c_0      \n",
            "    python:                 3.6.5-hc3d631a_2        --> 3.6.10-h7579374_2      \n",
            "    readline:               7.0-ha6073c6_4          --> 8.0-h7b6447c_0         \n",
            "    sqlite:                 3.23.1-he433501_0       --> 3.32.3-h62c20be_0      \n",
            "    tk:                     8.6.7-hc745277_3        --> 8.6.10-hbc83047_0      \n",
            "    xz:                     5.2.4-h14c3975_4        --> 5.2.5-h7b6447c_0       \n",
            "\n",
            "Preparing transaction: ...working... done\n",
            "Verifying transaction: ...working... done\n",
            "Executing transaction: ...working... done\n",
            "{\"1\":2}\n",
            "Collecting package metadata (current_repodata.json): - \b\b\\ \b\b| \b\b/ \b\b- \b\b\\ \b\b| \b\b/ y\n",
            "\b\b- \b\b\\ \b\b| \b\b/ \b\b- \b\b\\ \b\b| \b\b/ \b\b- \b\b\\ \b\b| \b\b/ \b\b- \b\b\\ \b\b| \b\b/ \b\b- \b\b\\ \b\b| \b\b/ \b\b- \b\b\\ \b\b| \b\b/ \b\b- \b\b\\ \b\b| \b\b/ \b\b- \b\b\\ \b\b| \b\b/ \b\b- \b\b\\ \b\b| \b\b/ \b\b- \b\b\\ \b\b| \b\b/ \b\b- \b\b\\ \b\b| \b\b/ \b\b- \b\b\\ \b\b| \b\b/ \b\b- \b\b\\ \b\b| \b\b/ \b\b- \b\b\\ \b\b| \b\b/ \b\b- \b\b\\ \b\b| \b\b/ \b\b- \b\b\\ \b\b| \b\b/ \b\b- \b\b\\ \b\b| \b\b/ \b\bdone\n",
            "Solving environment: \\ \b\b| \b\b/ \b\b- \b\b\\ \b\b| \b\b/ \b\b- \b\b\\ \b\b| \b\b/ \b\b- \b\b\\ \b\b| \b\b/ \b\b- \b\b\\ \b\b| \b\b/ \b\b- \b\b\\ \b\b| \b\b/ \b\b- \b\b\\ \b\b| \b\b/ \b\b- \b\b\\ \b\b| \b\b/ \b\b- \b\b\\ \b\b| \b\b/ \b\b- \b\b\\ \b\b| \b\bdone\n",
            "\n",
            "## Package Plan ##\n",
            "\n",
            "  environment location: /usr/local\n",
            "\n",
            "  added / updated specs:\n",
            "    - igl\n",
            "\n",
            "\n",
            "The following packages will be downloaded:\n",
            "\n",
            "    package                    |            build\n",
            "    ---------------------------|-----------------\n",
            "    conda-4.8.3                |   py36h9f0ad1d_1         3.0 MB  conda-forge\n",
            "    ------------------------------------------------------------\n",
            "                                           Total:         3.0 MB\n",
            "\n",
            "The following packages will be UPDATED:\n",
            "\n",
            "  conda                       pkgs/main::conda-4.8.3-py36_0 --> conda-forge::conda-4.8.3-py36h9f0ad1d_1\n",
            "\n",
            "The following packages will be SUPERSEDED by a higher-priority channel:\n",
            "\n",
            "  ca-certificates    pkgs/main::ca-certificates-2020.6.24-0 --> conda-forge::ca-certificates-2020.6.20-hecda079_0\n",
            "  certifi               pkgs/main::certifi-2020.6.20-py36_0 --> conda-forge::certifi-2020.6.20-py36h9f0ad1d_0\n",
            "  openssl              pkgs/main::openssl-1.1.1g-h7b6447c_0 --> conda-forge::openssl-1.1.1g-h516909a_0\n",
            "\n",
            "\n",
            "Proceed ([y]/n)? \n",
            "\n",
            "Downloading and Extracting Packages\n",
            "conda-4.8.3          | 3.0 MB    | : 100% 1.0/1 [00:00<00:00,  4.72s/it]                 \n",
            "Preparing transaction: - \b\bdone\n",
            "Verifying transaction: | \b\bdone\n",
            "Executing transaction: - \b\bdone\n",
            "Collecting package metadata (current_repodata.json): - \b\b\\ \b\b| \b\b/ \b\b- \b\b\\ \b\b| \b\b/ \b\b- \b\b\\ \b\b| \b\b/ \b\b- \b\b\\ \b\b| \b\b/ \b\b- \b\b\\ \b\b| \b\b/ \b\b- \b\b\\ \b\b| \b\bdone\n",
            "Solving environment: - \b\b\\ \b\b| \b\b/ \b\b- \b\b\\ \b\b| \b\b/ \b\b- \b\b\\ \b\b| \b\b/ \b\b- \b\b\\ \b\b| \b\b/ \b\b- \b\b\\ \b\b| \b\b/ \b\b- \b\b\\ \b\b| \b\b/ \b\b- \b\b\\ \b\b| \b\b/ \b\b- \b\b\\ \b\b| \b\b/ \b\b- \b\b\\ \b\b| \b\b/ \b\b- \b\b\\ \b\b| \b\b/ \b\b- \b\b\\ \b\b| \b\b/ \b\b- \b\b\\ \b\b| \b\b/ \b\b- \b\b\\ \b\b| \b\b/ \b\b- \b\b\\ \b\b| \b\b/ \b\b- \b\b\\ \b\b| \b\b/ \b\b- \b\b\\ \b\b| \b\bdone\n",
            "\n",
            "# All requested packages already installed.\n",
            "\n"
          ],
          "name": "stdout"
        }
      ]
    },
    {
      "cell_type": "code",
      "metadata": {
        "id": "eCleN8yHgeFy",
        "colab_type": "code",
        "colab": {}
      },
      "source": [
        "import igl\n",
        "import scipy as sp\n",
        "import numpy as np\n",
        "from meshplot import plot, subplot, interact\n",
        "import os \n",
        "\n",
        "v, f = igl.read_triangle_mesh(os.path.join('.', \"data\", \"tr_reg_043.off\"))\n",
        "l = igl.cotmatrix(v, f)\n",
        "m = igl.massmatrix(v, f, igl.MASSMATRIX_TYPE_VORONOI)"
      ],
      "execution_count": 14,
      "outputs": []
    },
    {
      "cell_type": "code",
      "metadata": {
        "id": "aCLlWa3pj9EF",
        "colab_type": "code",
        "colab": {
          "base_uri": "https://localhost:8080/",
          "height": 34,
          "referenced_widgets": [
            "d27724bb9f3f475997be45cf6c933e22"
          ]
        },
        "outputId": "8dc71675-453a-493e-8484-a4aa1d27599f"
      },
      "source": [
        "V = np.array([\n",
        "    [0., 0, 0],\n",
        "    [1, 0, 0],\n",
        "    [1, 1, 1],\n",
        "    [2, 1, 0]\n",
        "])\n",
        "\n",
        "F = np.array([\n",
        "    [0, 1, 2],\n",
        "    [1, 3, 2]\n",
        "])\n",
        "\n",
        "plot(V, F)"
      ],
      "execution_count": 15,
      "outputs": [
        {
          "output_type": "display_data",
          "data": {
            "application/vnd.jupyter.widget-view+json": {
              "model_id": "d27724bb9f3f475997be45cf6c933e22",
              "version_minor": 0,
              "version_major": 2
            },
            "text/plain": [
              "Renderer(camera=PerspectiveCamera(children=(DirectionalLight(color='white', intensity=0.6, position=(1.0, 0.5,…"
            ]
          },
          "metadata": {
            "tags": []
          }
        },
        {
          "output_type": "execute_result",
          "data": {
            "text/plain": [
              "<meshplot.Viewer.Viewer at 0x7fba411cb438>"
            ]
          },
          "metadata": {
            "tags": []
          },
          "execution_count": 15
        }
      ]
    },
    {
      "cell_type": "code",
      "metadata": {
        "id": "9Nuid_cRrP4-",
        "colab_type": "code",
        "colab": {}
      },
      "source": [
        ""
      ],
      "execution_count": null,
      "outputs": []
    }
  ]
}