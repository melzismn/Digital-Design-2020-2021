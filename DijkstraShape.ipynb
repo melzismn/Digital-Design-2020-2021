{
  "nbformat": 4,
  "nbformat_minor": 0,
  "metadata": {
    "colab": {
      "name": "DijkstraShape.ipynb",
      "provenance": [],
      "collapsed_sections": [],
      "authorship_tag": "ABX9TyMIOWQKnH4ov1D9KK05wkle",
      "include_colab_link": true
    },
    "kernelspec": {
      "name": "python3",
      "display_name": "Python 3"
    },
    "language_info": {
      "name": "python"
    }
  },
  "cells": [
    {
      "cell_type": "markdown",
      "metadata": {
        "id": "view-in-github",
        "colab_type": "text"
      },
      "source": [
        "<a href=\"https://colab.research.google.com/github/melzismn/Digital-Design-2020-2021/blob/master/DijkstraShape.ipynb\" target=\"_parent\"><img src=\"https://colab.research.google.com/assets/colab-badge.svg\" alt=\"Open In Colab\"/></a>"
      ]
    },
    {
      "cell_type": "code",
      "metadata": {
        "id": "lqhj7V8xyTfY"
      },
      "source": [
        "# ONLY FOR COLAB\n",
        "# Not required in Binder\n",
        "\n",
        "!wget -c https://repo.anaconda.com/miniconda/Miniconda3-4.5.4-Linux-x86_64.sh\n",
        "!chmod +x Miniconda3-4.5.4-Linux-x86_64.sh\n",
        "!bash ./Miniconda3-4.5.4-Linux-x86_64.sh -b -f -p /usr/local\n",
        "\n",
        "!conda install -q -y --prefix /usr/local python=3.6 ujson\n",
        "\n",
        "import sys\n",
        "sys.path.append('/usr/local/lib/python3.6/site-packages')\n",
        "\n",
        "import ujson\n",
        "print(ujson.dumps({1:2}))\n",
        "\n",
        "!conda install -c conda-forge igl\n",
        "!conda install -c conda-forge meshplot"
      ],
      "execution_count": null,
      "outputs": []
    },
    {
      "cell_type": "code",
      "metadata": {
        "id": "l94ELzA_ybeM"
      },
      "source": [
        "import igl\n",
        "import scipy as sp\n",
        "import numpy as np\n",
        "from meshplot import plot, subplot, interact\n",
        "from scipy.sparse.linalg import eigsh\n",
        "from scipy.sparse import csr_matrix\n",
        "import os \n",
        "from scipy.sparse.csgraph import dijkstra\n",
        "from scipy.spatial.distance import cdist\n",
        "from scipy import sparse\n",
        "#from scipy.io import loadmat \n",
        "from sklearn.cluster import KMeans"
      ],
      "execution_count": null,
      "outputs": []
    },
    {
      "cell_type": "markdown",
      "metadata": {
        "id": "8DPtjF_AyY4o"
      },
      "source": [
        "# Read and visualize meshes\n",
        "\n",
        "There are several libraries to do Geometry Processing in Python. In this case we will use the python binding of [libigl](https://libigl.github.io/libigl-python-bindings/). Another nice library for 3D visualization is [Open3D](http://www.open3d.org/)."
      ]
    },
    {
      "cell_type": "code",
      "metadata": {
        "id": "YcpZeT-kyfFF"
      },
      "source": [
        "# Read and plot mesh\n",
        "v, f = igl.read_triangle_mesh(os.path.join('.', \"T-Pose-Humans\", \"03_01_c0012.obj\"))\n",
        "plot(v, f)"
      ],
      "execution_count": null,
      "outputs": []
    },
    {
      "cell_type": "markdown",
      "metadata": {
        "id": "NAFqjSqwyh2i"
      },
      "source": [
        "# **Define the DIjkstra function for the approximation of the geodesic distances**\n",
        "\n",
        "Here we define the function to compute the Dijkstra approximation of the geodesic distances."
      ]
    },
    {
      "cell_type": "code",
      "metadata": {
        "id": "3bJkx-r0ykMp"
      },
      "source": [
        "def dist_matrix(v, f):\n",
        "    a = igl.adjacency_matrix(f)\n",
        "    dist=cdist(v,v)\n",
        "    values = dist[np.nonzero(a)]\n",
        "    matrix = sparse.coo_matrix((values,np.nonzero(a)),shape=(v.shape[0],v.shape[0]))\n",
        "    d = dijkstra(matrix,directed = False)\n",
        "    return d\n",
        "    "
      ],
      "execution_count": null,
      "outputs": []
    },
    {
      "cell_type": "code",
      "metadata": {
        "id": "xNcTn-8IKP5G"
      },
      "source": [
        "D = dist_matrix(v,f)\n"
      ],
      "execution_count": null,
      "outputs": []
    },
    {
      "cell_type": "markdown",
      "metadata": {
        "id": "t5iVsTs7On9K"
      },
      "source": [
        "# **Visualize the distances from a vertex**"
      ]
    },
    {
      "cell_type": "code",
      "metadata": {
        "id": "hZ1FkGOoOuff"
      },
      "source": [
        "selected_vertex = 10\n",
        "dist = D[selected_vertex,:]\n",
        "\n",
        "plot(v, f, dist, shading={\"wireframe\": True, \"colormap\": \"jet\"})"
      ],
      "execution_count": null,
      "outputs": []
    },
    {
      "cell_type": "code",
      "metadata": {
        "id": "C1nlezPkPFF2"
      },
      "source": [
        "plot(v, f, dist)\n",
        "cbar = colorbar()\n",
        "cbar.solids.set_edgecolor(\"face\")\n",
        "draw()"
      ],
      "execution_count": null,
      "outputs": []
    }
  ]
}