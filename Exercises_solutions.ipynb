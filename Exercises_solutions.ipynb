{
  "nbformat": 4,
  "nbformat_minor": 0,
  "metadata": {
    "colab": {
      "name": "Exercises_solutions.ipynb",
      "provenance": [],
      "authorship_tag": "ABX9TyP0OoFQ6tuK1g8CGu9WMjiF",
      "include_colab_link": true
    },
    "kernelspec": {
      "name": "python3",
      "display_name": "Python 3"
    }
  },
  "cells": [
    {
      "cell_type": "markdown",
      "metadata": {
        "id": "view-in-github",
        "colab_type": "text"
      },
      "source": [
        "<a href=\"https://colab.research.google.com/github/riccardomarin/SpectralShapeAnalysis/blob/master/Exercises_solutions.ipynb\" target=\"_parent\"><img src=\"https://colab.research.google.com/assets/colab-badge.svg\" alt=\"Open In Colab\"/></a>"
      ]
    },
    {
      "cell_type": "code",
      "metadata": {
        "id": "Yf68bdFR3BL6",
        "colab_type": "code",
        "colab": {}
      },
      "source": [
        "%matplotlib inline \n",
        "\n",
        "import numpy as np\n",
        "import networkx as nx\n",
        "import matplotlib.pyplot as plt\n",
        "from sklearn.cluster import KMeans"
      ],
      "execution_count": 3,
      "outputs": []
    },
    {
      "cell_type": "markdown",
      "metadata": {
        "id": "5fRo5yg_FDJk",
        "colab_type": "text"
      },
      "source": [
        "**1D GRAPH**\n",
        "---\n",
        "We will implement the 1D graph we saw in the slides.\n",
        "\n",
        "The tasks are:\n",
        "- Compute the Laplacian\n",
        "- Compute the eigenvectors\n",
        "- Visualize them\n",
        "- Define a function\n",
        "- Perform low-pass filtering with increasing number of basis\n"
      ]
    },
    {
      "cell_type": "code",
      "metadata": {
        "id": "GzugVXh3E6xE",
        "colab_type": "code",
        "colab": {}
      },
      "source": [
        "# 1: build the graph\n",
        "n = 50\n",
        "\n",
        "# Constructing the adjacency matrix\n",
        "A = np.zeros((n, n))\n",
        "a = np.array([i for i in np.arange(1,n)]) \n",
        "A[np.arange(a.size),a] = 1\n",
        "\n",
        "# Assuring it is symmetryc\n",
        "A = np.logical_or(A, A.T).astype(np.int32)\n",
        "\n",
        "# It generates something like this\n",
        "# A = np.array([  [0,1,0,0,0],\n",
        "#                 [1,0,1,0,0],\n",
        "#                 [0,1,0,1,0],\n",
        "#                 [0,0,1,0,1],\n",
        "#                 [0,0,0,1,0]])"
      ],
      "execution_count": null,
      "outputs": []
    },
    {
      "cell_type": "code",
      "metadata": {
        "id": "VLR9wYxy_aq6",
        "colab_type": "code",
        "colab": {}
      },
      "source": [
        "# 2: Compute the Laplacian\n",
        "# Vertex degree\n",
        "D = np.sum(A, axis=0)\n",
        "L =   np.diag(D) - A\n"
      ],
      "execution_count": null,
      "outputs": []
    },
    {
      "cell_type": "code",
      "metadata": {
        "id": "RJ91lA95GRuV",
        "colab_type": "code",
        "colab": {}
      },
      "source": [
        "# 3: Compute the eigenvectors\n",
        "a,b = np.linalg.eigh(L)\n"
      ],
      "execution_count": null,
      "outputs": []
    },
    {
      "cell_type": "code",
      "metadata": {
        "id": "nEae_uvEHBEf",
        "colab_type": "code",
        "colab": {}
      },
      "source": [
        "# 4: Plot the graph with one eigenfunction\n",
        "eig_n = 2\n",
        "\n",
        "G = nx.from_numpy_matrix(A)\n",
        "\n",
        "pos = {i : np.asarray([i,0]) for i in np.arange(0,n)}\n",
        "nx.draw(G,pos, node_color=np.ones(n) , node_size=40)\n",
        "nx.draw(G,pos, node_color=b[:,2] , node_size=40, cmap=plt.cm.bwr, vmin=np.min(b), vmax=np.max(b))\n",
        "\n",
        "plt.show()"
      ],
      "execution_count": null,
      "outputs": []
    },
    {
      "cell_type": "markdown",
      "metadata": {
        "id": "7g9JgT7cI0-8",
        "colab_type": "text"
      },
      "source": [
        "# **Disconnected Components**\n",
        "---\n",
        "Here we analyze the behavior of Laplacian and eigenfunction when the graph is disconnected.\n",
        "\n",
        "The tasks are:\n",
        "- Compute the Laplacian\n",
        "- Compute the eigenfunction of the Laplacian\n",
        "- Visualize the Laplacian\n",
        "- Visualize the Eigenfunctions and the algebraic multiplicity of the 0 eigenvalue\n"
      ]
    },
    {
      "cell_type": "code",
      "metadata": {
        "id": "O9BfTqkeI0eY",
        "colab_type": "code",
        "colab": {
          "base_uri": "https://localhost:8080/",
          "height": 319
        },
        "outputId": "940c7668-81c4-4c03-aeda-b3bdc21c341f"
      },
      "source": [
        "# 1: build the graph\n",
        "\n",
        "s = np.asarray([1, 1, 2, 6, 6, 6, 6, 7, 7, 7, 8, 8, 9, 5])-1\n",
        "t = np.asarray([2, 3, 3, 7, 8, 9, 10, 8, 9, 10, 9, 10, 10, 4])-1\n",
        "\n",
        "A = np.zeros((10,10))\n",
        "A[s,t]=1\n",
        "A = np.logical_or(A, A.T).astype(np.int32)\n",
        "\n",
        "G = nx.from_numpy_matrix(A)\n",
        "nx.draw(G, node_size=100)\n",
        "plt.show()\n"
      ],
      "execution_count": 27,
      "outputs": [
        {
          "output_type": "display_data",
          "data": {
            "image/png": "[encoded data removed]",
            "text/plain": [
              "<Figure size 432x288 with 1 Axes>"
            ]
          },
          "metadata": {
            "tags": []
          }
        }
      ]
    },
    {
      "cell_type": "code",
      "metadata": {
        "id": "re8_q-YHJm9t",
        "colab_type": "code",
        "colab": {}
      },
      "source": [
        "# 2: Compute the Laplacian\n",
        "D = np.sum(A, axis=0)\n",
        "L = np.diag(D) - A"
      ],
      "execution_count": 7,
      "outputs": []
    },
    {
      "cell_type": "code",
      "metadata": {
        "id": "-ew0SW4_Jr9z",
        "colab_type": "code",
        "colab": {
          "base_uri": "https://localhost:8080/",
          "height": 68
        },
        "outputId": "19076e42-ebe9-4d1a-b527-696808dc3159"
      },
      "source": [
        "# 3: compute the eigenfunction and eigenvalues\n",
        "a,b = np.linalg.eigh(L)\n",
        "\n",
        "print(a)"
      ],
      "execution_count": 13,
      "outputs": [
        {
          "output_type": "stream",
          "text": [
            "[-2.22044605e-16  0.00000000e+00  0.00000000e+00  2.00000000e+00\n",
            "  3.00000000e+00  3.00000000e+00  5.00000000e+00  5.00000000e+00\n",
            "  5.00000000e+00  5.00000000e+00]\n"
          ],
          "name": "stdout"
        }
      ]
    },
    {
      "cell_type": "code",
      "metadata": {
        "id": "fyIGVi3nJ-TM",
        "colab_type": "code",
        "colab": {
          "base_uri": "https://localhost:8080/",
          "height": 269
        },
        "outputId": "1e95afab-057d-4078-e2f6-2c9db8ac9d41"
      },
      "source": [
        "# 4: Show the laplacian\n",
        "plt.imshow(L)\n",
        "plt.colorbar()\n",
        "plt.show()"
      ],
      "execution_count": 14,
      "outputs": [
        {
          "output_type": "display_data",
          "data": {
            "image/png": "[encoded data removed]",
            "text/plain": [
              "<Figure size 432x288 with 2 Axes>"
            ]
          },
          "metadata": {
            "tags": [],
            "needs_background": "light"
          }
        }
      ]
    },
    {
      "cell_type": "code",
      "metadata": {
        "id": "kSRj4dEmKNLP",
        "colab_type": "code",
        "colab": {
          "base_uri": "https://localhost:8080/",
          "height": 319
        },
        "outputId": "dcf28bcf-0fb3-4c8e-e830-2ea35a2e7d77"
      },
      "source": [
        "# 5: plot eigenfunctions\n",
        "nx.draw(G, node_color = b[:,0] , node_size=100, cmap=plt.cm.bwr, vmin=np.min(b), vmax=np.max(b))\n",
        "plt.show()"
      ],
      "execution_count": 26,
      "outputs": [
        {
          "output_type": "display_data",
          "data": {
            "image/png": "[encoded data removed]",
            "text/plain": [
              "<Figure size 432x288 with 1 Axes>"
            ]
          },
          "metadata": {
            "tags": []
          }
        }
      ]
    },
    {
      "cell_type": "code",
      "metadata": {
        "id": "oCKSobp5KXhM",
        "colab_type": "code",
        "colab": {}
      },
      "source": [
        ""
      ],
      "execution_count": null,
      "outputs": []
    }
  ]
}