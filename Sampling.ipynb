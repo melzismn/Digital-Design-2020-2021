{
  "nbformat": 4,
  "nbformat_minor": 0,
  "metadata": {
    "colab": {
      "name": "Sampling.ipynb",
      "provenance": [],
      "collapsed_sections": [],
      "authorship_tag": "ABX9TyOmMboGrFDqbCkE0/0Qb+lg",
      "include_colab_link": true
    },
    "kernelspec": {
      "name": "python3",
      "display_name": "Python 3"
    },
    "language_info": {
      "name": "python"
    }
  },
  "cells": [
    {
      "cell_type": "markdown",
      "metadata": {
        "id": "view-in-github",
        "colab_type": "text"
      },
      "source": [
        "<a href=\"https://colab.research.google.com/github/melzismn/Digital-Design-2020-2021/blob/master/Sampling.ipynb\" target=\"_parent\"><img src=\"https://colab.research.google.com/assets/colab-badge.svg\" alt=\"Open In Colab\"/></a>"
      ]
    },
    {
      "cell_type": "code",
      "metadata": {
        "id": "lqhj7V8xyTfY"
      },
      "source": [
        "# ONLY FOR COLAB\n",
        "# Not required in Binder\n",
        "\n",
        "!wget -c https://repo.anaconda.com/miniconda/Miniconda3-4.5.4-Linux-x86_64.sh\n",
        "!chmod +x Miniconda3-4.5.4-Linux-x86_64.sh\n",
        "!bash ./Miniconda3-4.5.4-Linux-x86_64.sh -b -f -p /usr/local\n",
        "\n",
        "!conda install -q -y --prefix /usr/local python=3.6 ujson\n",
        "\n",
        "import sys\n",
        "sys.path.append('/usr/local/lib/python3.6/site-packages')\n",
        "\n",
        "import ujson\n",
        "print(ujson.dumps({1:2}))\n",
        "\n",
        "!conda install -c conda-forge igl\n",
        "!conda install -c conda-forge meshplot"
      ],
      "execution_count": null,
      "outputs": []
    },
    {
      "cell_type": "code",
      "metadata": {
        "id": "l94ELzA_ybeM"
      },
      "source": [
        "!pip install --upgrade --force-reinstall Pillow\n",
        "\n",
        "import igl\n",
        "import scipy as sp\n",
        "import numpy as np\n",
        "from meshplot import plot, subplot, interact\n",
        "from scipy.sparse.linalg import eigsh\n",
        "from scipy.sparse import csr_matrix\n",
        "import os \n",
        "from sklearn.cluster import KMeans\n"
      ],
      "execution_count": null,
      "outputs": []
    },
    {
      "cell_type": "markdown",
      "metadata": {
        "id": "8DPtjF_AyY4o"
      },
      "source": [
        "# Read and visualize meshes\n",
        "\n",
        "There are several libraries to do Geometry Processing in Python. In this case we will use the python binding of [libigl](https://libigl.github.io/libigl-python-bindings/). Another nice library for 3D visualization is [Open3D](http://www.open3d.org/)."
      ]
    },
    {
      "cell_type": "code",
      "metadata": {
        "id": "YcpZeT-kyfFF"
      },
      "source": [
        "# Read and plot mesh\n",
        "v, f = igl.read_triangle_mesh(os.path.join('.', \"T-Pose-Humans\", \"36_14_c0025.obj\"))\n",
        "# v, f = igl.read_triangle_mesh(os.path.join('.', \"data\", \"MooseOBJ.obj\"))\n",
        "# v, f = igl.read_triangle_mesh(os.path.join('.', \"data\", \"tr_reg_040.off\"))\n",
        "\n",
        "plot(v, f)"
      ],
      "execution_count": null,
      "outputs": []
    },
    {
      "cell_type": "markdown",
      "metadata": {
        "id": "NAFqjSqwyh2i"
      },
      "source": [
        "# **Compute the edge list**\n",
        "\n",
        "Once you have the edge list you can compute the number of vertices, the number of edges and the number of faces. Then you can check all the fiormula that we see during the lecture."
      ]
    },
    {
      "cell_type": "code",
      "metadata": {
        "id": "3bJkx-r0ykMp"
      },
      "source": [
        "# Compute the homogeneous coordinates\n",
        "A = np.expand_dims(f[:,0],axis=1)\n",
        "B = np.expand_dims(f[:,1],axis=1)\n",
        "C = np.expand_dims(f[:,2],axis=1)\n",
        "e_raw = np.concatenate((np.concatenate((A,B),axis=1),np.concatenate((B,C),axis=1),np.concatenate((C,A),axis=1)), axis=0)\n",
        "e = np.unique(np.sort(e_raw,axis=1), axis=0)\n",
        "nv = v.shape[0]\n",
        "ne = e.shape[0]\n",
        "nf = f.shape[0]\n",
        "\n",
        "ne_expected = 0.5*3*nf\n",
        "\n",
        "(ne, ne_expected)"
      ],
      "execution_count": null,
      "outputs": []
    }
  ]
}