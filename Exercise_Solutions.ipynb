{
  "nbformat": 4,
  "nbformat_minor": 0,
  "metadata": {
    "colab": {
      "name": "Untitled6.ipynb",
      "provenance": [],
      "authorship_tag": "ABX9TyNCa8p6zVqnsygP/Ud2sPIG",
      "include_colab_link": true
    },
    "kernelspec": {
      "name": "python3",
      "display_name": "Python 3"
    }
  },
  "cells": [
    {
      "cell_type": "markdown",
      "metadata": {
        "id": "view-in-github",
        "colab_type": "text"
      },
      "source": [
        "<a href=\"https://colab.research.google.com/github/riccardomarin/SpectralShapeAnalysis/blob/master/Exercise_Solutions.ipynb\" target=\"_parent\"><img src=\"https://colab.research.google.com/assets/colab-badge.svg\" alt=\"Open In Colab\"/></a>"
      ]
    },
    {
      "cell_type": "code",
      "metadata": {
        "id": "Yf68bdFR3BL6",
        "colab_type": "code",
        "colab": {
          "base_uri": "https://localhost:8080/",
          "height": 333
        },
        "outputId": "bc5498a2-7e0a-47cd-ea92-f06e70fa73a2"
      },
      "source": [
        "%matplotlib inline \n",
        "\n",
        "import numpy as np\n",
        "import networkx as nx\n",
        "import matplotlib.pyplot as plt\n",
        "from sklearn.cluster import KMeans"
      ],
      "execution_count": 2,
      "outputs": [
        {
          "output_type": "error",
          "ename": "ModuleNotFoundError",
          "evalue": "ignored",
          "traceback": [
            "\u001b[0;31m---------------------------------------------------------------------------\u001b[0m",
            "\u001b[0;31mModuleNotFoundError\u001b[0m                       Traceback (most recent call last)",
            "\u001b[0;32m<ipython-input-2-2a135e0503a3>\u001b[0m in \u001b[0;36m<module>\u001b[0;34m()\u001b[0m\n\u001b[1;32m      3\u001b[0m \u001b[0;32mimport\u001b[0m \u001b[0mmatplotlib\u001b[0m\u001b[0;34m.\u001b[0m\u001b[0mpyplot\u001b[0m \u001b[0;32mas\u001b[0m \u001b[0mplt\u001b[0m\u001b[0;34m\u001b[0m\u001b[0;34m\u001b[0m\u001b[0m\n\u001b[1;32m      4\u001b[0m \u001b[0;32mfrom\u001b[0m \u001b[0msklearn\u001b[0m\u001b[0;34m.\u001b[0m\u001b[0mcluster\u001b[0m \u001b[0;32mimport\u001b[0m \u001b[0mKMeans\u001b[0m\u001b[0;34m\u001b[0m\u001b[0;34m\u001b[0m\u001b[0m\n\u001b[0;32m----> 5\u001b[0;31m \u001b[0;32mimport\u001b[0m \u001b[0migl\u001b[0m\u001b[0;34m\u001b[0m\u001b[0;34m\u001b[0m\u001b[0m\n\u001b[0m",
            "\u001b[0;31mModuleNotFoundError\u001b[0m: No module named 'igl'",
            "",
            "\u001b[0;31m---------------------------------------------------------------------------\u001b[0;32m\nNOTE: If your import is failing due to a missing package, you can\nmanually install dependencies using either !pip or !apt.\n\nTo view examples of installing some common dependencies, click the\n\"Open Examples\" button below.\n\u001b[0;31m---------------------------------------------------------------------------\u001b[0m\n"
          ]
        }
      ]
    },
    {
      "cell_type": "markdown",
      "metadata": {
        "id": "5fRo5yg_FDJk",
        "colab_type": "text"
      },
      "source": [
        "**1D GRAPH**\n",
        "---\n",
        "We will implement the 1D graph we saw in the slides.\n",
        "\n",
        "The tasks are:\n",
        "- Compute the Laplacian\n",
        "- Compute the eigenvectors\n",
        "- Visualize them\n",
        "- Define a function\n",
        "- Perform low-pass filtering\n"
      ]
    },
    {
      "cell_type": "code",
      "metadata": {
        "id": "GzugVXh3E6xE",
        "colab_type": "code",
        "colab": {}
      },
      "source": [
        "# 1: build the graph\n",
        "n = 50\n",
        "\n",
        "# Constructing the adjacency matrix\n",
        "A = np.zeros((n, n))\n",
        "a = np.array([i for i in np.arange(1,n)]) \n",
        "A[np.arange(a.size),a] = 1\n",
        "\n",
        "# Assuring it is symmetryc\n",
        "A = np.logical_or(A, A.T).astype(np.int32)\n",
        "\n",
        "# It generates something like this\n",
        "# A = np.array([  [0,1,0,0,0],\n",
        "#                 [1,0,1,0,0],\n",
        "#                 [0,1,0,1,0],\n",
        "#                 [0,0,1,0,1],\n",
        "#                 [0,0,0,1,0]])"
      ],
      "execution_count": null,
      "outputs": []
    },
    {
      "cell_type": "code",
      "metadata": {
        "id": "VLR9wYxy_aq6",
        "colab_type": "code",
        "colab": {}
      },
      "source": [
        "# 2: Compute the Laplacian\n",
        "# Vertex degree\n",
        "D = np.sum(A, axis=0)\n",
        "L =   np.diag(D) - A\n"
      ],
      "execution_count": null,
      "outputs": []
    },
    {
      "cell_type": "code",
      "metadata": {
        "id": "RJ91lA95GRuV",
        "colab_type": "code",
        "colab": {}
      },
      "source": [
        "# 3: Compute the eigenvectors\n",
        "a,b = np.linalg.eigh(L)\n"
      ],
      "execution_count": null,
      "outputs": []
    },
    {
      "cell_type": "code",
      "metadata": {
        "id": "nEae_uvEHBEf",
        "colab_type": "code",
        "colab": {}
      },
      "source": [
        "# 4: Plot the matrix\n",
        "G = nx.from_numpy_matrix(A)\n",
        "\n",
        "pos = {i : np.asarray([i,0]) for i in np.arange(0,n)}\n",
        "nx.draw(G,pos, node_color=np.ones(n) , node_size=40)\n",
        "nx.draw(G,pos, node_color=b[:,4] , node_size=40, cmap=plt.cm.bwr, vmin=np.min(b), vmax=np.max(b))\n",
        "\n",
        "plt.show()"
      ],
      "execution_count": null,
      "outputs": []
    }
  ]
}