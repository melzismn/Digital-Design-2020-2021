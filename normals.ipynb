{
  "nbformat": 4,
  "nbformat_minor": 0,
  "metadata": {
    "colab": {
      "name": "Untitled3.ipynb",
      "provenance": [],
      "authorship_tag": "ABX9TyOAnO6quODaETv+dvTpJUv+",
      "include_colab_link": true
    },
    "kernelspec": {
      "name": "python3",
      "display_name": "Python 3"
    },
    "language_info": {
      "name": "python"
    }
  },
  "cells": [
    {
      "cell_type": "markdown",
      "metadata": {
        "id": "view-in-github",
        "colab_type": "text"
      },
      "source": [
        "<a href=\"https://colab.research.google.com/github/melzismn/Digital-Design-2020-2021/blob/master/normals.ipynb\" target=\"_parent\"><img src=\"https://colab.research.google.com/assets/colab-badge.svg\" alt=\"Open In Colab\"/></a>"
      ]
    },
    {
      "cell_type": "code",
      "metadata": {
        "id": "ZKn5nr1NbV0L"
      },
      "source": [
        "# ONLY FOR COLAB\n",
        "# Not required in Binder\n",
        "\n",
        "!wget -c https://repo.anaconda.com/miniconda/Miniconda3-4.5.4-Linux-x86_64.sh\n",
        "!chmod +x Miniconda3-4.5.4-Linux-x86_64.sh\n",
        "!bash ./Miniconda3-4.5.4-Linux-x86_64.sh -b -f -p /usr/local\n",
        "\n",
        "!conda install -q -y --prefix /usr/local python=3.6 ujson\n",
        "\n",
        "import sys\n",
        "sys.path.append('/usr/local/lib/python3.6/site-packages')\n",
        "\n",
        "import ujson\n",
        "print(ujson.dumps({1:2}))\n",
        "\n",
        "!conda install -c conda-forge igl\n",
        "!conda install -c conda-forge meshplot"
      ],
      "execution_count": null,
      "outputs": []
    },
    {
      "cell_type": "markdown",
      "metadata": {
        "id": "y6rjONHqbXqC"
      },
      "source": [
        "# Import necessary utils"
      ]
    },
    {
      "cell_type": "code",
      "metadata": {
        "id": "9NmAKCihbh0l"
      },
      "source": [
        "import igl\n",
        "import scipy as sp\n",
        "import numpy as np\n",
        "from meshplot import plot, subplot, interact\n",
        "from scipy.sparse.linalg import eigsh\n",
        "from scipy.sparse import csr_matrix\n",
        "import os \n",
        "from sklearn.cluster import KMeans\n",
        "import matplotlib.pyplot as plt\n",
        "import open3d as o3d"
      ],
      "execution_count": null,
      "outputs": []
    },
    {
      "cell_type": "markdown",
      "metadata": {
        "id": "jxP8P6StblN2"
      },
      "source": [
        "# Read and prepare meshes"
      ]
    },
    {
      "cell_type": "code",
      "metadata": {
        "id": "MzqwIHfMbpoU"
      },
      "source": [
        "# Read and prepare the mesh\n",
        "path_data = \"T-Pose-Humans\"\n",
        "name_shape = \"03_04_c0035.obj\"\n",
        "v, f = igl.read_triangle_mesh(os.path.join('.', path_data, name_shape))"
      ],
      "execution_count": null,
      "outputs": []
    },
    {
      "cell_type": "markdown",
      "metadata": {
        "id": "wZtfYjdlcz8W"
      },
      "source": [
        "  # Select a triangle"
      ]
    },
    {
      "cell_type": "code",
      "metadata": {
        "id": "apM3ovKxc5Vb"
      },
      "source": [
        "idx_triagle = 10;\n",
        "v1 = v[f[10,0]]\n",
        "v2 = v[f[10,1]]\n",
        "v3 = v[f[10,2]]"
      ],
      "execution_count": null,
      "outputs": []
    },
    {
      "cell_type": "markdown",
      "metadata": {
        "id": "zHAP96G-iOE9"
      },
      "source": [
        "#  estimate edges and compute normal"
      ]
    },
    {
      "cell_type": "code",
      "metadata": {
        "id": "LxqzTv-keOqT"
      },
      "source": [
        "a = v2-v1\n",
        "b = v3-v1\n",
        "c = np.cross(a,b)\n",
        "c_norm = np.linalg.norm(c)\n",
        "n = c/c_norm"
      ],
      "execution_count": null,
      "outputs": []
    },
    {
      "cell_type": "markdown",
      "metadata": {
        "id": "eTbtVIIxjTML"
      },
      "source": [
        "# plot and check"
      ]
    },
    {
      "cell_type": "code",
      "metadata": {
        "id": "6Vc03pQGjzNc"
      },
      "source": [
        "centroid = (1/3)*(v1+v2+v3)\n",
        "\n",
        "plot(v, f, shading={\"wireframe\": True, \"colormap\": \"jet\"})"
      ],
      "execution_count": null,
      "outputs": []
    }
  ]
}