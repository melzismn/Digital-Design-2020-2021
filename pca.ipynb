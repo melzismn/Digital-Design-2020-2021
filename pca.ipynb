{
  "nbformat": 4,
  "nbformat_minor": 0,
  "metadata": {
    "colab": {
      "name": "pca.ipynb",
      "provenance": [],
      "authorship_tag": "ABX9TyOn7uH0hQa9D0Znrk9xT1fZ",
      "include_colab_link": true
    },
    "kernelspec": {
      "name": "python3",
      "display_name": "Python 3"
    }
  },
  "cells": [
    {
      "cell_type": "markdown",
      "metadata": {
        "id": "view-in-github",
        "colab_type": "text"
      },
      "source": [
        "<a href=\"https://colab.research.google.com/github/melzismn/Digital-Design-2020-2021/blob/master/pca.ipynb\" target=\"_parent\"><img src=\"https://colab.research.google.com/assets/colab-badge.svg\" alt=\"Open In Colab\"/></a>"
      ]
    },
    {
      "cell_type": "code",
      "metadata": {
        "id": "WLeDokKnuZF5"
      },
      "source": [
        "# ONLY FOR COLAB\r\n",
        "# Not required in Binder\r\n",
        "\r\n",
        "!wget -c https://repo.anaconda.com/miniconda/Miniconda3-4.5.4-Linux-x86_64.sh\r\n",
        "!chmod +x Miniconda3-4.5.4-Linux-x86_64.sh\r\n",
        "!bash ./Miniconda3-4.5.4-Linux-x86_64.sh -b -f -p /usr/local\r\n",
        "\r\n",
        "!conda install -q -y --prefix /usr/local python=3.6 ujson\r\n",
        "\r\n",
        "import sys\r\n",
        "sys.path.append('/usr/local/lib/python3.6/site-packages')\r\n",
        "\r\n",
        "import ujson\r\n",
        "print(ujson.dumps({1:2}))\r\n",
        "\r\n",
        "!conda install -c conda-forge igl\r\n",
        "!conda install -c conda-forge meshplot"
      ],
      "execution_count": null,
      "outputs": []
    },
    {
      "cell_type": "markdown",
      "metadata": {
        "id": "3dD1wZgBwqNc"
      },
      "source": [
        "# Import necessary utils"
      ]
    },
    {
      "cell_type": "code",
      "metadata": {
        "id": "g-BtRFYfwu34"
      },
      "source": [
        "import igl\r\n",
        "import scipy as sp\r\n",
        "import numpy as np\r\n",
        "from meshplot import plot, subplot, interact\r\n",
        "from scipy.sparse.linalg import eigsh\r\n",
        "from scipy.sparse import csr_matrix\r\n",
        "import os \r\n",
        "from sklearn.cluster import KMeans\r\n",
        "import matplotlib.pyplot as plt"
      ],
      "execution_count": null,
      "outputs": []
    },
    {
      "cell_type": "markdown",
      "metadata": {
        "id": "H8BIFhJmwzBX"
      },
      "source": [
        "# Read and prepare meshes"
      ]
    },
    {
      "cell_type": "code",
      "metadata": {
        "id": "RYAfArwkw9Mz"
      },
      "source": [
        "# Read and prepare meshes\r\n",
        "path_data = \"T-Pose-Humans\"\r\n",
        "onlyfiles = [f for f in os.listdir(path_data) if os.path.isfile(os.path.join(path_data, f))]\r\n",
        "for i in range(0,len(onlyfiles)):\r\n",
        "  v, f = igl.read_triangle_mesh(os.path.join('.', path_data, str(onlyfiles[i])))\r\n",
        "  a = np.reshape(v.T, (-1,1))  \r\n",
        "  if i == 0:\r\n",
        "    X = a\r\n",
        "  else:\r\n",
        "    X = np.concatenate((X, a), axis=1)\r\n",
        "\r\n",
        "print(\"numrows=\"+str(X.shape[0])+\" numcolumns=\"+str(X.shape[1]))"
      ],
      "execution_count": null,
      "outputs": []
    },
    {
      "cell_type": "markdown",
      "metadata": {
        "id": "C4vD49vB-JbA"
      },
      "source": [
        "# Compute and plot the mean shape"
      ]
    },
    {
      "cell_type": "code",
      "metadata": {
        "id": "TdYRMQgTB8TS"
      },
      "source": [
        "# Compute and plot the mean shape\r\n",
        "mean_shape = np.expand_dims(np.mean(X, axis=1),1)\r\n",
        "mean_v = np.transpose(np.reshape(mean_shape,(3,-1)))\r\n",
        "plot(mean_v, f, shading={\"wireframe\": True, \"colormap\": \"jet\"})"
      ],
      "execution_count": null,
      "outputs": []
    },
    {
      "cell_type": "markdown",
      "metadata": {
        "id": "HcA6xhlECKxu"
      },
      "source": [
        "# prepare the covariance matrix and compute the eigendecomposition\r\n",
        "\r\n"
      ]
    },
    {
      "cell_type": "code",
      "metadata": {
        "id": "7Z7GgIRR-SJt"
      },
      "source": [
        "# prepare the covariance matrix and compute the eigendecomposition\r\n",
        "X_norm = X - mean_shape\r\n",
        "Cov = (1/X_norm.shape[1])*np.matmul(X_norm,X_norm.T)\r\n",
        "[Cov.shape[0], Cov.shape[1]]\r\n",
        "evals, evecs = np.linalg.eig(Cov)\r\n",
        "evals.shape"
      ],
      "execution_count": null,
      "outputs": []
    },
    {
      "cell_type": "markdown",
      "metadata": {
        "id": "8UDtAK8lZz7s"
      },
      "source": [
        "# Evaluate the eigenvalues"
      ]
    },
    {
      "cell_type": "code",
      "metadata": {
        "id": "YZIXJw2TZ3bK"
      },
      "source": [
        "plt.plot(evals,color='blue', lw=2)\r\n",
        "plt.xlabel('evals idx')\r\n",
        "plt.ylabel('evals value')\r\n",
        "plt.yscale('log')\r\n",
        "plt.show()\r\n",
        "evals[0:20]"
      ],
      "execution_count": null,
      "outputs": []
    },
    {
      "cell_type": "markdown",
      "metadata": {
        "id": "NGFaYa8STmlS"
      },
      "source": [
        "# Generate a new shape\r\n"
      ]
    },
    {
      "cell_type": "code",
      "metadata": {
        "id": "4rbjOAS3UKlO"
      },
      "source": [
        "# fix the basis and generate a random new shape\r\n",
        "basis = evecs[:,0:9]\r\n",
        "coeff = 0.6*np.random.rand(basis.shape[1],1)\r\n",
        "new_shape = np.matmul(basis,coeff)\r\n",
        "new_v = mean_v + np.transpose(np.reshape(new_shape,(3,-1)))\r\n",
        "plot(new_v, f, shading={\"wireframe\": True, \"colormap\": \"jet\"})\r\n",
        "coeff"
      ],
      "execution_count": null,
      "outputs": []
    },
    {
      "cell_type": "markdown",
      "metadata": {
        "id": "caXxi0sYzyAg"
      },
      "source": [
        "# analyze one of the training shape"
      ]
    },
    {
      "cell_type": "code",
      "metadata": {
        "id": "hBHaw9CGz2xk"
      },
      "source": [
        "# analyze one of the input shape from the PCA point of view\r\n",
        "i = 4;\r\n",
        "in_v, f = igl.read_triangle_mesh(os.path.join('.', path_data, str(onlyfiles[i])))\r\n",
        "in_shape = np.reshape(in_v.T, (-1,1))  \r\n",
        "vec_in_shape = in_shape - mean_shape \r\n",
        "in_coeff = np.matmul(basis.T, vec_in_shape)\r\n",
        "rec_shape = np.matmul(basis,in_coeff)\r\n",
        "rec_v = mean_v + np.transpose(np.reshape(rec_shape,(3,-1)))\r\n",
        "plot(in_v, f, shading={\"wireframe\": True, \"colormap\": \"jet\"})\r\n",
        "plot(rec_v, f, shading={\"wireframe\": True, \"colormap\": \"jet\"})\r\n",
        "in_coeff"
      ],
      "execution_count": null,
      "outputs": []
    },
    {
      "cell_type": "markdown",
      "metadata": {
        "id": "cin5L6IGaK8z"
      },
      "source": [
        "# Analyze the variation handled by each of the first 4 principal components"
      ]
    },
    {
      "cell_type": "code",
      "metadata": {
        "id": "4Lp4jJVZaWh4"
      },
      "source": [
        ""
      ],
      "execution_count": null,
      "outputs": []
    }
  ]
}
