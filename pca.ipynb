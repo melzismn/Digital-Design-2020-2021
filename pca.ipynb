{
  "nbformat": 4,
  "nbformat_minor": 0,
  "metadata": {
    "colab": {
      "name": "input.ipynb",
      "provenance": [],
      "authorship_tag": "ABX9TyNIOrNygfbgUwOtqdvZG71s",
      "include_colab_link": true
    },
    "kernelspec": {
      "name": "python3",
      "display_name": "Python 3"
    }
  },
  "cells": [
    {
      "cell_type": "markdown",
      "metadata": {
        "id": "view-in-github",
        "colab_type": "text"
      },
      "source": [
        "<a href=\"https://colab.research.google.com/github/melzismn/Digital-Design-2020-2021/blob/master/pca.ipynb\" target=\"_parent\"><img src=\"https://colab.research.google.com/assets/colab-badge.svg\" alt=\"Open In Colab\"/></a>"
      ]
    },
    {
      "cell_type": "code",
      "metadata": {
        "id": "WLeDokKnuZF5"
      },
      "source": [
        "# ONLY FOR COLAB\r\n",
        "# Not required in Binder\r\n",
        "\r\n",
        "!wget -c https://repo.anaconda.com/miniconda/Miniconda3-4.5.4-Linux-x86_64.sh\r\n",
        "!chmod +x Miniconda3-4.5.4-Linux-x86_64.sh\r\n",
        "!bash ./Miniconda3-4.5.4-Linux-x86_64.sh -b -f -p /usr/local\r\n",
        "\r\n",
        "!conda install -q -y --prefix /usr/local python=3.6 ujson\r\n",
        "\r\n",
        "import sys\r\n",
        "sys.path.append('/usr/local/lib/python3.6/site-packages')\r\n",
        "\r\n",
        "import ujson\r\n",
        "print(ujson.dumps({1:2}))\r\n",
        "\r\n",
        "!conda install -c conda-forge igl\r\n",
        "!conda install -c conda-forge meshplot"
      ],
      "execution_count": null,
      "outputs": []
    },
    {
      "cell_type": "markdown",
      "metadata": {
        "id": "3dD1wZgBwqNc"
      },
      "source": [
        "# Import necessary utils"
      ]
    },
    {
      "cell_type": "code",
      "metadata": {
        "id": "g-BtRFYfwu34"
      },
      "source": [
        "import igl\r\n",
        "import scipy as sp\r\n",
        "import numpy as np\r\n",
        "from meshplot import plot, subplot, interact\r\n",
        "from scipy.sparse.linalg import eigsh\r\n",
        "from scipy.sparse import csr_matrix\r\n",
        "import os \r\n",
        "from sklearn.cluster import KMeans"
      ],
      "execution_count": null,
      "outputs": []
    },
    {
      "cell_type": "markdown",
      "metadata": {
        "id": "H8BIFhJmwzBX"
      },
      "source": [
        "# Read and prepare meshes"
      ]
    },
    {
      "cell_type": "code",
      "metadata": {
        "id": "RYAfArwkw9Mz"
      },
      "source": [
        "# Read and prepare meshes\r\n",
        "path_data = \"T-Pose-Humans\"\r\n",
        "onlyfiles = [f for f in os.listdir(path_data) if os.path.isfile(join(path_data, f))]\r\n",
        "for i in range(0,len(onlyfiles)):\r\n",
        "  v, f = igl.read_triangle_mesh(os.path.join('.', \"data\", \"tr_reg_043.off\"))\r\n",
        "  if i == 0:\r\n",
        "    X = v\r\n",
        "  else:\r\n",
        "    X = np.concatenate((X, v), axis=1)\r\n",
        "\r\n",
        "print(\"numrows=\"+str(X.shape[0])+\" numcolumns=\"+str(X.shape[1]))"
      ],
      "execution_count": null,
      "outputs": []
    },
    {
      "cell_type": "markdown",
      "metadata": {
        "id": "C4vD49vB-JbA"
      },
      "source": [
        "# Load another shape and plot one of the coordinates function\r\n",
        "There are other meshes in the folder data but you can also download one for free from the web [sketchfab](https://sketchfab.com/feed) [visionair](http://visionair.ge.imati.cnr.it/ontologies/shapes/search.jsp) amon many others."
      ]
    },
    {
      "cell_type": "code",
      "metadata": {
        "id": "TdYRMQgTB8TS"
      },
      "source": [
        "# Read and plot mesh\r\n",
        "v, f = igl.read_triangle_mesh(os.path.join('.', \"data\", \"3.obj\"))\r\n",
        "x = v[:,2]\r\n",
        "plot(v, f, x)"
      ],
      "execution_count": null,
      "outputs": []
    },
    {
      "cell_type": "markdown",
      "metadata": {
        "id": "HcA6xhlECKxu"
      },
      "source": [
        "# Load another shape and plot a random function\r\n",
        "We can modify some details in the plot, following the libigl instruction"
      ]
    },
    {
      "cell_type": "code",
      "metadata": {
        "id": "7Z7GgIRR-SJt"
      },
      "source": [
        "# Read and plot mesh\r\n",
        "v, f = igl.read_triangle_mesh(os.path.join('.', \"data\", \"30.obj\"))\r\n",
        "x = np.random.rand(v.shape[0],1)\r\n",
        "plot(v, f, x, shading={\"wireframe\": True, \"colormap\": \"jet\"})"
      ],
      "execution_count": null,
      "outputs": []
    }
  ]
}